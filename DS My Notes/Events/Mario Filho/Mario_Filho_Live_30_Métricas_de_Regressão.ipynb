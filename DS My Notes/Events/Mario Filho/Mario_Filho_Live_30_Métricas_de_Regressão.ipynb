{
  "nbformat": 4,
  "nbformat_minor": 0,
  "metadata": {
    "colab": {
      "name": "Mario Filho Live 30 - Métricas de Regressão",
      "provenance": [],
      "collapsed_sections": []
    },
    "kernelspec": {
      "name": "python3",
      "display_name": "Python 3"
    }
  },
  "cells": [
    {
      "cell_type": "markdown",
      "metadata": {
        "id": "_yivYtJbvmtK",
        "colab_type": "text"
      },
      "source": [
        "# Live \\#30 de Mario Filho : Métricas de Regressão\n",
        "link: https://bit.ly/mario-live30"
      ]
    },
    {
      "cell_type": "code",
      "metadata": {
        "id": "T0_xFmpMUYKr",
        "colab_type": "code",
        "colab": {}
      },
      "source": [
        "import pandas as pd\n",
        "import numpy as np"
      ],
      "execution_count": null,
      "outputs": []
    },
    {
      "cell_type": "markdown",
      "metadata": {
        "id": "CtJNj8u9e4yn",
        "colab_type": "text"
      },
      "source": [
        "# 80/20 - regra de pareto - vamos\n",
        "\n",
        "Vamos ver as métricas que vão resolver a maioria dos problemas.\n",
        "\n",
        "**Métricas** são uma bússola para chegar a um objetivo.\n",
        "\n",
        "É sempre bom usar mais de uma métrica, cada métrica é uma forma de avaliar o modelo de maneiras diferentes."
      ]
    },
    {
      "cell_type": "code",
      "metadata": {
        "id": "VohAMru6dF78",
        "colab_type": "code",
        "colab": {}
      },
      "source": [
        "# Vamos gerar Ŷ = p e Y onde\n",
        "#   p = Ŷ são as previsões de um modelo\n",
        "#   Y são os valores reais\n",
        "\n",
        "# seed para ter o mesmo comportamento para qualquer execução\n",
        "np.random.seed(50)\n",
        "\n",
        "p = np.random.uniform(size=10)\n",
        "\n",
        "y = np.random.uniform(size=10)\n",
        "\n",
        "# Um y que tem um Outlier\n",
        "y_outlier = y.copy()\n",
        "y_outlier[0] = 100\n"
      ],
      "execution_count": null,
      "outputs": []
    },
    {
      "cell_type": "markdown",
      "metadata": {
        "id": "X2YM6GI3gX8S",
        "colab_type": "text"
      },
      "source": [
        "# (R)MSE - (Root) Mean Squared Error - (Raiz Quadrada) do Erro Médio Quadrado\n",
        "\n",
        "- A base é o MSE, mas como ele costuma ser um valor muito grande e por isso interpretável, fazemos uma raiz quadrada dele (RMSE) para voltar a ter a dimensão dos erros unitários (erro de uma previsão).\n",
        "- O MSE eleva o quadrado por duas razões:\n",
        "  1. Erro acima do valor real ou abaixo vão ficar positivos (pois eleva ao quadrado.\n",
        "  2. Os módulos dos erros maiores vão gerar maior penalidade, assim tende a ser mais impactado por outliers.\n",
        "\n",
        "\n",
        "- minimizador = média - se eu usar p = média o erro é menor que p = mediana"
      ]
    },
    {
      "cell_type": "code",
      "metadata": {
        "id": "mxcl6lEphLDJ",
        "colab_type": "code",
        "colab": {
          "base_uri": "https://localhost:8080/",
          "height": 35
        },
        "outputId": "7381279f-16ed-4751-ee30-ce2e1262285a"
      },
      "source": [
        "# Usando MSE / RMSE\n",
        "from sklearn.metrics import mean_squared_error\n",
        "\n",
        "mse = mean_squared_error(y, p)\n",
        "mse_outlier = mean_squared_error(y_outlier, p)\n",
        "print(\"Sem outlier = {} | Com outlier = {}\".format(np.sqrt(mse), np.sqrt(mse_outlier)))"
      ],
      "execution_count": null,
      "outputs": [
        {
          "output_type": "stream",
          "text": [
            "Sem outlier = 0.29856932110182516 | Com outlier = 31.467751454752868\n"
          ],
          "name": "stdout"
        }
      ]
    },
    {
      "cell_type": "markdown",
      "metadata": {
        "id": "ve2eKrTxyDp6",
        "colab_type": "text"
      },
      "source": [
        "**Conclusão**\n",
        "+ Por ter um único outlier que foi mal previsto houve um grande impcato no MSE/RMSE\n",
        "\n",
        "**Observaçâo**\n",
        "+ Se você usar o MSE **SE ATENTE COM OUTLIERS**. Pode ser que seu modelo seja bom, mas por ter outilers isso está impcatando muito na métrica e assim você pode pensar que seu modelo esteja ruim"
      ]
    },
    {
      "cell_type": "markdown",
      "metadata": {
        "id": "CcfzUKsth3zQ",
        "colab_type": "text"
      },
      "source": [
        "# (R)MSLE - (Root) Mean Squared Logarithmic Error - Raiz Quadrada do Erro Médio Logarítmico Quadrado\n",
        "\n",
        "+ Ele acaba sendo uma aproximação para um **Erro percentual**\n",
        "+ Matemáticamente ele é mais fácil de minimisar\n",
        "+ não pode ser negativo\n",
        "+ O MSE se importa com a diferença \"absoluta\", enquanto que o MSLE se importa com a diferença \"relativa\" por calcular o erro como uma *diferença percentual* entre o valor real (y) e o previsto (ŷ)\n",
        "\n",
        "Exemplo:\n",
        "https://peltarion.com/knowledge-center/documentation/modeling-view/build-an-ai-model/loss-functions/mean-squared-logarithmic-error-(msle)\n",
        "\n",
        "Costuma ser usado em vendas, exemplo: se eseprar vender 1000 e vende 1001 o impcato é menor pois só o fato de conseguir prever 1000 já é um grande ganho. Se usa-semos MSE o impcato entre y = 2 ŷ = 3 e seria o mesmo que y = 1000 e ŷ = 10001, que para uma venda, nâo é impcatante assim.\n",
        "\n",
        "**Comparando a questão de OutLiers entre MSE e MSLE**\n",
        "+ O MSLE é sensível a outliers, bem menos que MSE"
      ]
    },
    {
      "cell_type": "code",
      "metadata": {
        "id": "M_qNjTYqgGr7",
        "colab_type": "code",
        "colab": {
          "base_uri": "https://localhost:8080/",
          "height": 67
        },
        "outputId": "3c893f75-7420-4993-9f45-a2aecc945f7b"
      },
      "source": [
        "from sklearn.metrics import mean_squared_log_error\n",
        "\n",
        "# Se eu tiver: y = 10 e ŷ = 11 teremos\n",
        "#   A diferença absoluta entre os erros é 1\n",
        "#   Mas por usarmos MSLE, a diferença  dos erros muda, pois mesmo o erro sendo \"1\" em absoluto\n",
        "#     você pecebe que errar 1 entre 10 e 11 é mais impcatante do que errar entre 110 e 111\n",
        "#     Tipo: se você esperar ganhar um carro e ganha 2 VOCÊ TEM EM DOBRO, É DE 100% O GANHO\n",
        "#           se você espera ganhar R$1.000,00 e ganha R$1.001,00 , esse 1R$ a mais acaba sendo insignificante\n",
        "\n",
        "# A ideia do MSLE é fazer y/ŷ; só que, como é chato fazer divisão convertermos para log pois\n",
        "# log(a/b) = log a - lob b\n",
        "# E também colocamos (+1) nas duas parcelas para não ter o valor 0 assim a formula fica\n",
        "# MSLE(Ŷ,Y) = 1/N * sum(log(ŷ + 1) - log(y + 1))\n",
        "print(np.log(10) - np.log(11))\n",
        "print(np.log(110) - np.log(111))\n",
        "\n",
        "msle = mean_squared_log_error(y, p)\n",
        "msle_outlier = mean_squared_log_error(y_outlier, p)\n",
        "\n",
        "# O MSLE é sensível a outliers, bem menos que MSE\n",
        "print(\"Sem outlier = {} | Com outlier = {}\".format(np.sqrt(msle), np.sqrt(msle_outlier)))"
      ],
      "execution_count": null,
      "outputs": [
        {
          "output_type": "stream",
          "text": [
            "-0.09531017980432477\n",
            "-0.009049835519917337\n",
            "Sem outlier = 0.1817720117174641 | Com outlier = 1.3442877101630468\n"
          ],
          "name": "stdout"
        }
      ]
    },
    {
      "cell_type": "code",
      "metadata": {
        "id": "XPiXx3AAgHMw",
        "colab_type": "code",
        "colab": {
          "base_uri": "https://localhost:8080/",
          "height": 298
        },
        "outputId": "0be3a1f4-b07f-41c9-9765-4f5fbb113451"
      },
      "source": [
        "from matplotlib import pyplot as plt\n",
        "\n",
        "y_ = np.linspace(0.5, 1, 1000)\n",
        "sle = np.sqrt((np.log1p(1) - np.log1p(y_))**2)\n",
        "ape = np.abs((1 - y_) / y_)\n",
        "\n",
        "# MSLE em laranja\n",
        "# MSE em Azul\n",
        "plt.plot(1-y_, ape), plt.plot(1-y_, sle)"
      ],
      "execution_count": null,
      "outputs": [
        {
          "output_type": "execute_result",
          "data": {
            "text/plain": [
              "([<matplotlib.lines.Line2D at 0x7f01ac137cf8>],\n",
              " [<matplotlib.lines.Line2D at 0x7f01ac137e10>])"
            ]
          },
          "metadata": {
            "tags": []
          },
          "execution_count": 20
        },
        {
          "output_type": "display_data",
          "data": {
            "image/png": "[encoded data removed]",
            "text/plain": [
              "<Figure size 432x288 with 1 Axes>"
            ]
          },
          "metadata": {
            "tags": [],
            "needs_background": "light"
          }
        }
      ]
    },
    {
      "cell_type": "markdown",
      "metadata": {
        "id": "1LPHJUSblG6S",
        "colab_type": "text"
      },
      "source": [
        "# MAE - Mean Absolute Error - Erro Médio Absoluto\n",
        "+ minimizador = mediana\n",
        "+ menos preocupado com outliers, ele só faz o módulo dos dados\n",
        "+ Por isso você usa quando não tem outilers em geral, quando sâo extremamente raros"
      ]
    },
    {
      "cell_type": "code",
      "metadata": {
        "id": "uDG8C-yBkSBt",
        "colab_type": "code",
        "colab": {
          "base_uri": "https://localhost:8080/",
          "height": 35
        },
        "outputId": "a77dc130-7cfe-4dfa-9ec7-90f0076bad9d"
      },
      "source": [
        "from sklearn.metrics import mean_absolute_error\n",
        "\n",
        "mae = mean_absolute_error(y, p)\n",
        "mae_outlier = mean_absolute_error(y_outlier, p)\n",
        "print(\"Sem outlier = {} | Com outlier = {}\".format(mae,mae_outlier))"
      ],
      "execution_count": null,
      "outputs": [
        {
          "output_type": "stream",
          "text": [
            "Sem outlier = 0.23045186806726878 | Com outlier = 10.166185659415934\n"
          ],
          "name": "stdout"
        }
      ]
    },
    {
      "cell_type": "markdown",
      "metadata": {
        "id": "M798_FjvmCcX",
        "colab_type": "text"
      },
      "source": [
        "# MedAE - Median Absolute Error - Erro Mediano Absoluto\n",
        "\n",
        "- erro no percentil - percentil 50 (mediana)\n",
        "- Esso erro é raro de ver sendo usado, mas o foi no site de preço de casas na Zillow \n",
        "  - https://www.zillow.com/research/putting-accuracy-in-context-3255/\n",
        "  - No modelo deles agente tinha que metade dos erros do modelo deles era menor do que 8,5%\n",
        "\n",
        "[https://en.wikipedia.org/wiki/Median_absolute_deviation](https://en.wikipedia.org/wiki/Median_absolute_deviation)\n",
        "[https://www.oreilly.com/library/view/machine-learning-for/9781786469878/9f44e711-deb6-42de-abbd-524832ad32cc.xhtml](https://www.oreilly.com/library/view/machine-learning-for/9781786469878/9f44e711-deb6-42de-abbd-524832ad32cc.xhtml)\n",
        "\n",
        "Lembrando: Mediana é o valor que fica no meio caso você ordenar tudo em forma ascendente um conjunto de dados.\n",
        "\n",
        "Exemplo:\n",
        "Consider the data (1, 1, 2, 2, 4, 6, 9). \n",
        "\n",
        "It has a median value of 2, cuz *(1, 1, 2, **2**, 4, 6, 9)*.\n",
        "\n",
        "The absolute deviations about 2 are (1, 1, 0, 0, 2, 4, 7) which in turn have a median value of 1 (because the sorted absolute deviations are (0, 0, 1, 1, 2, 4, 7)). \n",
        "\n",
        "So the median absolute deviation for this data is 1."
      ]
    },
    {
      "cell_type": "code",
      "metadata": {
        "id": "fQ68W9vnl0-F",
        "colab_type": "code",
        "colab": {
          "base_uri": "https://localhost:8080/",
          "height": 35
        },
        "outputId": "9ba5fe7a-e272-4ffa-970a-9f4c3a15c459"
      },
      "source": [
        "from sklearn.metrics import median_absolute_error\n",
        "\n",
        "medae = median_absolute_error(y, p)\n",
        "medae_outlier = median_absolute_error(y_outlier, p)\n",
        "\n",
        "# Como agente pega a distância da mediana, um outiler impacta muito pouco nesse modelo\n",
        "print(\"Sem outlier = {} | Com outlier = {}\".format(medae, medae_outlier))"
      ],
      "execution_count": null,
      "outputs": [
        {
          "output_type": "stream",
          "text": [
            "Sem outlier = 0.11999387786570043 | Com outlier = 0.11999387786570043\n"
          ],
          "name": "stdout"
        }
      ]
    },
    {
      "cell_type": "markdown",
      "metadata": {
        "id": "WQARHJYOnlj2",
        "colab_type": "text"
      },
      "source": [
        "# MAPE - Mean Absolute Percentage Error - Erro Médio Percentual Absoluto\n",
        "+ Erro mais fácil de ser explicado, fica entre [0,1]\n",
        "+ É a média das porcentagens de erro\n",
        "+ No exemplo abaixo temos 0.42 de MPAE, ou seja: **O modelo erra 42%** mas nâo se sabe se é acima do valor ou abaixo do valor real.\n",
        "+ https://en.wikipedia.org/wiki/Mean_absolute_percentage_error"
      ]
    },
    {
      "cell_type": "code",
      "metadata": {
        "id": "deewVIQvm1It",
        "colab_type": "code",
        "colab": {
          "base_uri": "https://localhost:8080/",
          "height": 35
        },
        "outputId": "fece85e3-1f16-499a-eae8-055e6c93588e"
      },
      "source": [
        "# ELe não tem por default no skilearn\n",
        "def mape(y_true, y_pred):\n",
        "  return np.mean( np.abs( (y_true - y_pred) / y_true ) ) \n",
        "\n",
        "mape_ = mape(y, p)\n",
        "mape_outlier = mape(y_outlier, p)\n",
        "print(\"Sem outlier = {} | Com outlier = {}\".format(mape_, mape_outlier))"
      ],
      "execution_count": null,
      "outputs": [
        {
          "output_type": "stream",
          "text": [
            "Sem outlier = 0.4259730428408323 | Com outlier = 0.48275323593084013\n"
          ],
          "name": "stdout"
        }
      ]
    },
    {
      "cell_type": "markdown",
      "metadata": {
        "id": "R5qAs7wtoxKw",
        "colab_type": "text"
      },
      "source": [
        "# R2 - R-squared - R-quadrado\n",
        "\n",
        "+ Erro bastante popular\n",
        "+ [Porque o R2 é inútil](https://data.library.virginia.edu/is-r-squared-useless/)"
      ]
    },
    {
      "cell_type": "code",
      "metadata": {
        "id": "VG6_6VKTn_L8",
        "colab_type": "code",
        "colab": {}
      },
      "source": [
        ""
      ],
      "execution_count": null,
      "outputs": []
    },
    {
      "cell_type": "markdown",
      "metadata": {
        "id": "kzevvq5mp9Ok",
        "colab_type": "text"
      },
      "source": [
        "# Outras perguntas respondidas\n",
        "\n",
        "+ Tratar outilers no y de regresssâo: winsorizar\n",
        "+ Se precizar de GPU para coisas extermamente seriesas, pode-se pensar em alugar a AWS que tem GPU pra essas coisas.\n",
        "+ É sempre usar métricas de acordo com o negócio que está resolvendo: \n",
        "  - Em geral selecione uma primaria de acordo com o problema\n",
        "   - Dpeois escolheas outra para ter mais ângulos de observação"
      ]
    },
    {
      "cell_type": "code",
      "metadata": {
        "id": "H8QwDivmk2mF",
        "colab_type": "code",
        "colab": {
          "base_uri": "https://localhost:8080/",
          "height": 53
        },
        "outputId": "5c4a0c01-b27b-465a-d3ee-36d6fd54ace0"
      },
      "source": [
        "# Entendendo MaeAD\n",
        "y_true = np.asarray([3, -0.5, 2, 7, 6])\n",
        "y_pred = np.asarray([2.5, 0.0, 2, 8, 9])\n",
        "\n",
        "print(np.sort(np.absolute(y_true - y_pred)))\n",
        "median_error_manual = np.median(np.absolute(y_true - y_pred)) # calculo manual\n",
        "print(\"manual\", median_error_manual, \"| sklearn\", median_absolute_error(y_true, y_pred))"
      ],
      "execution_count": null,
      "outputs": [
        {
          "output_type": "stream",
          "text": [
            "[0.  0.5 0.5 1.  3. ]\n",
            "manual 0.5 | sklearn 0.5\n"
          ],
          "name": "stdout"
        }
      ]
    }
  ]
}