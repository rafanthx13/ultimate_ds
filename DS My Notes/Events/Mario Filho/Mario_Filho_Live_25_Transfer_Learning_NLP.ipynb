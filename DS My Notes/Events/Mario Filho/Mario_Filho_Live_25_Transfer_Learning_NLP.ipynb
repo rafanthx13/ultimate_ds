{
  "nbformat": 4,
  "nbformat_minor": 0,
  "metadata": {
    "colab": {
      "name": "Mario Filho Live 25 - Transfer Learning NLP",
      "provenance": [],
      "collapsed_sections": []
    },
    "kernelspec": {
      "name": "python3",
      "display_name": "Python 3"
    },
    "accelerator": "GPU",
    "widgets": {
      "application/vnd.jupyter.widget-state+json": {
        "8825cff9dfc84ad294821e3b962a0672": {
          "model_module": "@jupyter-widgets/controls",
          "model_name": "HBoxModel",
          "state": {
            "_view_name": "HBoxView",
            "_dom_classes": [],
            "_model_name": "HBoxModel",
            "_view_module": "@jupyter-widgets/controls",
            "_model_module_version": "1.5.0",
            "_view_count": null,
            "_view_module_version": "1.5.0",
            "box_style": "",
            "layout": "IPY_MODEL_6c0062ba103a4f96b9f1c7ef627e8dca",
            "_model_module": "@jupyter-widgets/controls",
            "children": [
              "IPY_MODEL_f70d81b2aea14b07b1546a64ba523bec",
              "IPY_MODEL_d0d4461f391845d7ac46f81bf12ce38e"
            ]
          }
        },
        "6c0062ba103a4f96b9f1c7ef627e8dca": {
          "model_module": "@jupyter-widgets/base",
          "model_name": "LayoutModel",
          "state": {
            "_view_name": "LayoutView",
            "grid_template_rows": null,
            "right": null,
            "justify_content": null,
            "_view_module": "@jupyter-widgets/base",
            "overflow": null,
            "_model_module_version": "1.2.0",
            "_view_count": null,
            "flex_flow": null,
            "width": null,
            "min_width": null,
            "border": null,
            "align_items": null,
            "bottom": null,
            "_model_module": "@jupyter-widgets/base",
            "top": null,
            "grid_column": null,
            "overflow_y": null,
            "overflow_x": null,
            "grid_auto_flow": null,
            "grid_area": null,
            "grid_template_columns": null,
            "flex": null,
            "_model_name": "LayoutModel",
            "justify_items": null,
            "grid_row": null,
            "max_height": null,
            "align_content": null,
            "visibility": null,
            "align_self": null,
            "height": null,
            "min_height": null,
            "padding": null,
            "grid_auto_rows": null,
            "grid_gap": null,
            "max_width": null,
            "order": null,
            "_view_module_version": "1.2.0",
            "grid_template_areas": null,
            "object_position": null,
            "object_fit": null,
            "grid_auto_columns": null,
            "margin": null,
            "display": null,
            "left": null
          }
        },
        "f70d81b2aea14b07b1546a64ba523bec": {
          "model_module": "@jupyter-widgets/controls",
          "model_name": "IntProgressModel",
          "state": {
            "_view_name": "ProgressView",
            "style": "IPY_MODEL_ae14d81aaee64703ab828b9bf9bf9143",
            "_dom_classes": [],
            "description": "Downloading: 100%",
            "_model_name": "IntProgressModel",
            "bar_style": "success",
            "max": 481,
            "_view_module": "@jupyter-widgets/controls",
            "_model_module_version": "1.5.0",
            "value": 481,
            "_view_count": null,
            "_view_module_version": "1.5.0",
            "orientation": "horizontal",
            "min": 0,
            "description_tooltip": null,
            "_model_module": "@jupyter-widgets/controls",
            "layout": "IPY_MODEL_f15e78d03f9f4ef5bba805c94c67eab6"
          }
        },
        "d0d4461f391845d7ac46f81bf12ce38e": {
          "model_module": "@jupyter-widgets/controls",
          "model_name": "HTMLModel",
          "state": {
            "_view_name": "HTMLView",
            "style": "IPY_MODEL_0607a716f4a440ec8859daa6a1536b57",
            "_dom_classes": [],
            "description": "",
            "_model_name": "HTMLModel",
            "placeholder": "​",
            "_view_module": "@jupyter-widgets/controls",
            "_model_module_version": "1.5.0",
            "value": " 481/481 [00:17&lt;00:00, 28.1B/s]",
            "_view_count": null,
            "_view_module_version": "1.5.0",
            "description_tooltip": null,
            "_model_module": "@jupyter-widgets/controls",
            "layout": "IPY_MODEL_578747005e704cf0bb43dce421c0c825"
          }
        },
        "ae14d81aaee64703ab828b9bf9bf9143": {
          "model_module": "@jupyter-widgets/controls",
          "model_name": "ProgressStyleModel",
          "state": {
            "_view_name": "StyleView",
            "_model_name": "ProgressStyleModel",
            "description_width": "initial",
            "_view_module": "@jupyter-widgets/base",
            "_model_module_version": "1.5.0",
            "_view_count": null,
            "_view_module_version": "1.2.0",
            "bar_color": null,
            "_model_module": "@jupyter-widgets/controls"
          }
        },
        "f15e78d03f9f4ef5bba805c94c67eab6": {
          "model_module": "@jupyter-widgets/base",
          "model_name": "LayoutModel",
          "state": {
            "_view_name": "LayoutView",
            "grid_template_rows": null,
            "right": null,
            "justify_content": null,
            "_view_module": "@jupyter-widgets/base",
            "overflow": null,
            "_model_module_version": "1.2.0",
            "_view_count": null,
            "flex_flow": null,
            "width": null,
            "min_width": null,
            "border": null,
            "align_items": null,
            "bottom": null,
            "_model_module": "@jupyter-widgets/base",
            "top": null,
            "grid_column": null,
            "overflow_y": null,
            "overflow_x": null,
            "grid_auto_flow": null,
            "grid_area": null,
            "grid_template_columns": null,
            "flex": null,
            "_model_name": "LayoutModel",
            "justify_items": null,
            "grid_row": null,
            "max_height": null,
            "align_content": null,
            "visibility": null,
            "align_self": null,
            "height": null,
            "min_height": null,
            "padding": null,
            "grid_auto_rows": null,
            "grid_gap": null,
            "max_width": null,
            "order": null,
            "_view_module_version": "1.2.0",
            "grid_template_areas": null,
            "object_position": null,
            "object_fit": null,
            "grid_auto_columns": null,
            "margin": null,
            "display": null,
            "left": null
          }
        },
        "0607a716f4a440ec8859daa6a1536b57": {
          "model_module": "@jupyter-widgets/controls",
          "model_name": "DescriptionStyleModel",
          "state": {
            "_view_name": "StyleView",
            "_model_name": "DescriptionStyleModel",
            "description_width": "",
            "_view_module": "@jupyter-widgets/base",
            "_model_module_version": "1.5.0",
            "_view_count": null,
            "_view_module_version": "1.2.0",
            "_model_module": "@jupyter-widgets/controls"
          }
        },
        "578747005e704cf0bb43dce421c0c825": {
          "model_module": "@jupyter-widgets/base",
          "model_name": "LayoutModel",
          "state": {
            "_view_name": "LayoutView",
            "grid_template_rows": null,
            "right": null,
            "justify_content": null,
            "_view_module": "@jupyter-widgets/base",
            "overflow": null,
            "_model_module_version": "1.2.0",
            "_view_count": null,
            "flex_flow": null,
            "width": null,
            "min_width": null,
            "border": null,
            "align_items": null,
            "bottom": null,
            "_model_module": "@jupyter-widgets/base",
            "top": null,
            "grid_column": null,
            "overflow_y": null,
            "overflow_x": null,
            "grid_auto_flow": null,
            "grid_area": null,
            "grid_template_columns": null,
            "flex": null,
            "_model_name": "LayoutModel",
            "justify_items": null,
            "grid_row": null,
            "max_height": null,
            "align_content": null,
            "visibility": null,
            "align_self": null,
            "height": null,
            "min_height": null,
            "padding": null,
            "grid_auto_rows": null,
            "grid_gap": null,
            "max_width": null,
            "order": null,
            "_view_module_version": "1.2.0",
            "grid_template_areas": null,
            "object_position": null,
            "object_fit": null,
            "grid_auto_columns": null,
            "margin": null,
            "display": null,
            "left": null
          }
        },
        "ee40cbf738fa4ddd87bba93789d2459f": {
          "model_module": "@jupyter-widgets/controls",
          "model_name": "HBoxModel",
          "state": {
            "_view_name": "HBoxView",
            "_dom_classes": [],
            "_model_name": "HBoxModel",
            "_view_module": "@jupyter-widgets/controls",
            "_model_module_version": "1.5.0",
            "_view_count": null,
            "_view_module_version": "1.5.0",
            "box_style": "",
            "layout": "IPY_MODEL_1b12442d9ea24f0a8562c8bc8aee2a91",
            "_model_module": "@jupyter-widgets/controls",
            "children": [
              "IPY_MODEL_2ada5bba018d447cb87d2ea390d8fd2b",
              "IPY_MODEL_f9b83ebc15ce4327b6b23c9690a54d72"
            ]
          }
        },
        "1b12442d9ea24f0a8562c8bc8aee2a91": {
          "model_module": "@jupyter-widgets/base",
          "model_name": "LayoutModel",
          "state": {
            "_view_name": "LayoutView",
            "grid_template_rows": null,
            "right": null,
            "justify_content": null,
            "_view_module": "@jupyter-widgets/base",
            "overflow": null,
            "_model_module_version": "1.2.0",
            "_view_count": null,
            "flex_flow": null,
            "width": null,
            "min_width": null,
            "border": null,
            "align_items": null,
            "bottom": null,
            "_model_module": "@jupyter-widgets/base",
            "top": null,
            "grid_column": null,
            "overflow_y": null,
            "overflow_x": null,
            "grid_auto_flow": null,
            "grid_area": null,
            "grid_template_columns": null,
            "flex": null,
            "_model_name": "LayoutModel",
            "justify_items": null,
            "grid_row": null,
            "max_height": null,
            "align_content": null,
            "visibility": null,
            "align_self": null,
            "height": null,
            "min_height": null,
            "padding": null,
            "grid_auto_rows": null,
            "grid_gap": null,
            "max_width": null,
            "order": null,
            "_view_module_version": "1.2.0",
            "grid_template_areas": null,
            "object_position": null,
            "object_fit": null,
            "grid_auto_columns": null,
            "margin": null,
            "display": null,
            "left": null
          }
        },
        "2ada5bba018d447cb87d2ea390d8fd2b": {
          "model_module": "@jupyter-widgets/controls",
          "model_name": "IntProgressModel",
          "state": {
            "_view_name": "ProgressView",
            "style": "IPY_MODEL_f60e27acd5bc43e2a883ffb3ebcf50ca",
            "_dom_classes": [],
            "description": "Downloading: 100%",
            "_model_name": "IntProgressModel",
            "bar_style": "success",
            "max": 501200538,
            "_view_module": "@jupyter-widgets/controls",
            "_model_module_version": "1.5.0",
            "value": 501200538,
            "_view_count": null,
            "_view_module_version": "1.5.0",
            "orientation": "horizontal",
            "min": 0,
            "description_tooltip": null,
            "_model_module": "@jupyter-widgets/controls",
            "layout": "IPY_MODEL_da1287a95be4411eaaecb6e510393ffd"
          }
        },
        "f9b83ebc15ce4327b6b23c9690a54d72": {
          "model_module": "@jupyter-widgets/controls",
          "model_name": "HTMLModel",
          "state": {
            "_view_name": "HTMLView",
            "style": "IPY_MODEL_53fa931449b648ccbfd74b3e6712a320",
            "_dom_classes": [],
            "description": "",
            "_model_name": "HTMLModel",
            "placeholder": "​",
            "_view_module": "@jupyter-widgets/controls",
            "_model_module_version": "1.5.0",
            "value": " 501M/501M [00:12&lt;00:00, 38.8MB/s]",
            "_view_count": null,
            "_view_module_version": "1.5.0",
            "description_tooltip": null,
            "_model_module": "@jupyter-widgets/controls",
            "layout": "IPY_MODEL_91d6af6ccc524393bfb2a5c33606f15e"
          }
        },
        "f60e27acd5bc43e2a883ffb3ebcf50ca": {
          "model_module": "@jupyter-widgets/controls",
          "model_name": "ProgressStyleModel",
          "state": {
            "_view_name": "StyleView",
            "_model_name": "ProgressStyleModel",
            "description_width": "initial",
            "_view_module": "@jupyter-widgets/base",
            "_model_module_version": "1.5.0",
            "_view_count": null,
            "_view_module_version": "1.2.0",
            "bar_color": null,
            "_model_module": "@jupyter-widgets/controls"
          }
        },
        "da1287a95be4411eaaecb6e510393ffd": {
          "model_module": "@jupyter-widgets/base",
          "model_name": "LayoutModel",
          "state": {
            "_view_name": "LayoutView",
            "grid_template_rows": null,
            "right": null,
            "justify_content": null,
            "_view_module": "@jupyter-widgets/base",
            "overflow": null,
            "_model_module_version": "1.2.0",
            "_view_count": null,
            "flex_flow": null,
            "width": null,
            "min_width": null,
            "border": null,
            "align_items": null,
            "bottom": null,
            "_model_module": "@jupyter-widgets/base",
            "top": null,
            "grid_column": null,
            "overflow_y": null,
            "overflow_x": null,
            "grid_auto_flow": null,
            "grid_area": null,
            "grid_template_columns": null,
            "flex": null,
            "_model_name": "LayoutModel",
            "justify_items": null,
            "grid_row": null,
            "max_height": null,
            "align_content": null,
            "visibility": null,
            "align_self": null,
            "height": null,
            "min_height": null,
            "padding": null,
            "grid_auto_rows": null,
            "grid_gap": null,
            "max_width": null,
            "order": null,
            "_view_module_version": "1.2.0",
            "grid_template_areas": null,
            "object_position": null,
            "object_fit": null,
            "grid_auto_columns": null,
            "margin": null,
            "display": null,
            "left": null
          }
        },
        "53fa931449b648ccbfd74b3e6712a320": {
          "model_module": "@jupyter-widgets/controls",
          "model_name": "DescriptionStyleModel",
          "state": {
            "_view_name": "StyleView",
            "_model_name": "DescriptionStyleModel",
            "description_width": "",
            "_view_module": "@jupyter-widgets/base",
            "_model_module_version": "1.5.0",
            "_view_count": null,
            "_view_module_version": "1.2.0",
            "_model_module": "@jupyter-widgets/controls"
          }
        },
        "91d6af6ccc524393bfb2a5c33606f15e": {
          "model_module": "@jupyter-widgets/base",
          "model_name": "LayoutModel",
          "state": {
            "_view_name": "LayoutView",
            "grid_template_rows": null,
            "right": null,
            "justify_content": null,
            "_view_module": "@jupyter-widgets/base",
            "overflow": null,
            "_model_module_version": "1.2.0",
            "_view_count": null,
            "flex_flow": null,
            "width": null,
            "min_width": null,
            "border": null,
            "align_items": null,
            "bottom": null,
            "_model_module": "@jupyter-widgets/base",
            "top": null,
            "grid_column": null,
            "overflow_y": null,
            "overflow_x": null,
            "grid_auto_flow": null,
            "grid_area": null,
            "grid_template_columns": null,
            "flex": null,
            "_model_name": "LayoutModel",
            "justify_items": null,
            "grid_row": null,
            "max_height": null,
            "align_content": null,
            "visibility": null,
            "align_self": null,
            "height": null,
            "min_height": null,
            "padding": null,
            "grid_auto_rows": null,
            "grid_gap": null,
            "max_width": null,
            "order": null,
            "_view_module_version": "1.2.0",
            "grid_template_areas": null,
            "object_position": null,
            "object_fit": null,
            "grid_auto_columns": null,
            "margin": null,
            "display": null,
            "left": null
          }
        },
        "137551018b3346be833e3022d43b0a21": {
          "model_module": "@jupyter-widgets/controls",
          "model_name": "HBoxModel",
          "state": {
            "_view_name": "HBoxView",
            "_dom_classes": [],
            "_model_name": "HBoxModel",
            "_view_module": "@jupyter-widgets/controls",
            "_model_module_version": "1.5.0",
            "_view_count": null,
            "_view_module_version": "1.5.0",
            "box_style": "",
            "layout": "IPY_MODEL_2c723a93b93442f3895b3fcce913bfa0",
            "_model_module": "@jupyter-widgets/controls",
            "children": [
              "IPY_MODEL_264f1df71fdb4dda8b5b83c8f3b44314",
              "IPY_MODEL_a1ff975f75ac401eabdf07538a5357aa"
            ]
          }
        },
        "2c723a93b93442f3895b3fcce913bfa0": {
          "model_module": "@jupyter-widgets/base",
          "model_name": "LayoutModel",
          "state": {
            "_view_name": "LayoutView",
            "grid_template_rows": null,
            "right": null,
            "justify_content": null,
            "_view_module": "@jupyter-widgets/base",
            "overflow": null,
            "_model_module_version": "1.2.0",
            "_view_count": null,
            "flex_flow": null,
            "width": null,
            "min_width": null,
            "border": null,
            "align_items": null,
            "bottom": null,
            "_model_module": "@jupyter-widgets/base",
            "top": null,
            "grid_column": null,
            "overflow_y": null,
            "overflow_x": null,
            "grid_auto_flow": null,
            "grid_area": null,
            "grid_template_columns": null,
            "flex": null,
            "_model_name": "LayoutModel",
            "justify_items": null,
            "grid_row": null,
            "max_height": null,
            "align_content": null,
            "visibility": null,
            "align_self": null,
            "height": null,
            "min_height": null,
            "padding": null,
            "grid_auto_rows": null,
            "grid_gap": null,
            "max_width": null,
            "order": null,
            "_view_module_version": "1.2.0",
            "grid_template_areas": null,
            "object_position": null,
            "object_fit": null,
            "grid_auto_columns": null,
            "margin": null,
            "display": null,
            "left": null
          }
        },
        "264f1df71fdb4dda8b5b83c8f3b44314": {
          "model_module": "@jupyter-widgets/controls",
          "model_name": "IntProgressModel",
          "state": {
            "_view_name": "ProgressView",
            "style": "IPY_MODEL_231577d1b7b44eff96b370aec9c7d064",
            "_dom_classes": [],
            "description": "Downloading: 100%",
            "_model_name": "IntProgressModel",
            "bar_style": "success",
            "max": 898823,
            "_view_module": "@jupyter-widgets/controls",
            "_model_module_version": "1.5.0",
            "value": 898823,
            "_view_count": null,
            "_view_module_version": "1.5.0",
            "orientation": "horizontal",
            "min": 0,
            "description_tooltip": null,
            "_model_module": "@jupyter-widgets/controls",
            "layout": "IPY_MODEL_0cb398eff13f4177a33cc15e8bd60e26"
          }
        },
        "a1ff975f75ac401eabdf07538a5357aa": {
          "model_module": "@jupyter-widgets/controls",
          "model_name": "HTMLModel",
          "state": {
            "_view_name": "HTMLView",
            "style": "IPY_MODEL_5e2f0fccfb1f487898fea9777aa5cc83",
            "_dom_classes": [],
            "description": "",
            "_model_name": "HTMLModel",
            "placeholder": "​",
            "_view_module": "@jupyter-widgets/controls",
            "_model_module_version": "1.5.0",
            "value": " 899k/899k [00:01&lt;00:00, 631kB/s]",
            "_view_count": null,
            "_view_module_version": "1.5.0",
            "description_tooltip": null,
            "_model_module": "@jupyter-widgets/controls",
            "layout": "IPY_MODEL_e3f5d8805419422b9a40707f8b282d17"
          }
        },
        "231577d1b7b44eff96b370aec9c7d064": {
          "model_module": "@jupyter-widgets/controls",
          "model_name": "ProgressStyleModel",
          "state": {
            "_view_name": "StyleView",
            "_model_name": "ProgressStyleModel",
            "description_width": "initial",
            "_view_module": "@jupyter-widgets/base",
            "_model_module_version": "1.5.0",
            "_view_count": null,
            "_view_module_version": "1.2.0",
            "bar_color": null,
            "_model_module": "@jupyter-widgets/controls"
          }
        },
        "0cb398eff13f4177a33cc15e8bd60e26": {
          "model_module": "@jupyter-widgets/base",
          "model_name": "LayoutModel",
          "state": {
            "_view_name": "LayoutView",
            "grid_template_rows": null,
            "right": null,
            "justify_content": null,
            "_view_module": "@jupyter-widgets/base",
            "overflow": null,
            "_model_module_version": "1.2.0",
            "_view_count": null,
            "flex_flow": null,
            "width": null,
            "min_width": null,
            "border": null,
            "align_items": null,
            "bottom": null,
            "_model_module": "@jupyter-widgets/base",
            "top": null,
            "grid_column": null,
            "overflow_y": null,
            "overflow_x": null,
            "grid_auto_flow": null,
            "grid_area": null,
            "grid_template_columns": null,
            "flex": null,
            "_model_name": "LayoutModel",
            "justify_items": null,
            "grid_row": null,
            "max_height": null,
            "align_content": null,
            "visibility": null,
            "align_self": null,
            "height": null,
            "min_height": null,
            "padding": null,
            "grid_auto_rows": null,
            "grid_gap": null,
            "max_width": null,
            "order": null,
            "_view_module_version": "1.2.0",
            "grid_template_areas": null,
            "object_position": null,
            "object_fit": null,
            "grid_auto_columns": null,
            "margin": null,
            "display": null,
            "left": null
          }
        },
        "5e2f0fccfb1f487898fea9777aa5cc83": {
          "model_module": "@jupyter-widgets/controls",
          "model_name": "DescriptionStyleModel",
          "state": {
            "_view_name": "StyleView",
            "_model_name": "DescriptionStyleModel",
            "description_width": "",
            "_view_module": "@jupyter-widgets/base",
            "_model_module_version": "1.5.0",
            "_view_count": null,
            "_view_module_version": "1.2.0",
            "_model_module": "@jupyter-widgets/controls"
          }
        },
        "e3f5d8805419422b9a40707f8b282d17": {
          "model_module": "@jupyter-widgets/base",
          "model_name": "LayoutModel",
          "state": {
            "_view_name": "LayoutView",
            "grid_template_rows": null,
            "right": null,
            "justify_content": null,
            "_view_module": "@jupyter-widgets/base",
            "overflow": null,
            "_model_module_version": "1.2.0",
            "_view_count": null,
            "flex_flow": null,
            "width": null,
            "min_width": null,
            "border": null,
            "align_items": null,
            "bottom": null,
            "_model_module": "@jupyter-widgets/base",
            "top": null,
            "grid_column": null,
            "overflow_y": null,
            "overflow_x": null,
            "grid_auto_flow": null,
            "grid_area": null,
            "grid_template_columns": null,
            "flex": null,
            "_model_name": "LayoutModel",
            "justify_items": null,
            "grid_row": null,
            "max_height": null,
            "align_content": null,
            "visibility": null,
            "align_self": null,
            "height": null,
            "min_height": null,
            "padding": null,
            "grid_auto_rows": null,
            "grid_gap": null,
            "max_width": null,
            "order": null,
            "_view_module_version": "1.2.0",
            "grid_template_areas": null,
            "object_position": null,
            "object_fit": null,
            "grid_auto_columns": null,
            "margin": null,
            "display": null,
            "left": null
          }
        },
        "16a3a5298b794843a0663a58c2c4c226": {
          "model_module": "@jupyter-widgets/controls",
          "model_name": "HBoxModel",
          "state": {
            "_view_name": "HBoxView",
            "_dom_classes": [],
            "_model_name": "HBoxModel",
            "_view_module": "@jupyter-widgets/controls",
            "_model_module_version": "1.5.0",
            "_view_count": null,
            "_view_module_version": "1.5.0",
            "box_style": "",
            "layout": "IPY_MODEL_c1629aa3f53d43ceb358908da4c44701",
            "_model_module": "@jupyter-widgets/controls",
            "children": [
              "IPY_MODEL_6be2e4e875df47b58487b4261ccb3c4b",
              "IPY_MODEL_08d33bcc747f485d930f144affc05e08"
            ]
          }
        },
        "c1629aa3f53d43ceb358908da4c44701": {
          "model_module": "@jupyter-widgets/base",
          "model_name": "LayoutModel",
          "state": {
            "_view_name": "LayoutView",
            "grid_template_rows": null,
            "right": null,
            "justify_content": null,
            "_view_module": "@jupyter-widgets/base",
            "overflow": null,
            "_model_module_version": "1.2.0",
            "_view_count": null,
            "flex_flow": null,
            "width": null,
            "min_width": null,
            "border": null,
            "align_items": null,
            "bottom": null,
            "_model_module": "@jupyter-widgets/base",
            "top": null,
            "grid_column": null,
            "overflow_y": null,
            "overflow_x": null,
            "grid_auto_flow": null,
            "grid_area": null,
            "grid_template_columns": null,
            "flex": null,
            "_model_name": "LayoutModel",
            "justify_items": null,
            "grid_row": null,
            "max_height": null,
            "align_content": null,
            "visibility": null,
            "align_self": null,
            "height": null,
            "min_height": null,
            "padding": null,
            "grid_auto_rows": null,
            "grid_gap": null,
            "max_width": null,
            "order": null,
            "_view_module_version": "1.2.0",
            "grid_template_areas": null,
            "object_position": null,
            "object_fit": null,
            "grid_auto_columns": null,
            "margin": null,
            "display": null,
            "left": null
          }
        },
        "6be2e4e875df47b58487b4261ccb3c4b": {
          "model_module": "@jupyter-widgets/controls",
          "model_name": "IntProgressModel",
          "state": {
            "_view_name": "ProgressView",
            "style": "IPY_MODEL_1e25c03b9bfd491794679ebbb719be47",
            "_dom_classes": [],
            "description": "Downloading: 100%",
            "_model_name": "IntProgressModel",
            "bar_style": "success",
            "max": 456318,
            "_view_module": "@jupyter-widgets/controls",
            "_model_module_version": "1.5.0",
            "value": 456318,
            "_view_count": null,
            "_view_module_version": "1.5.0",
            "orientation": "horizontal",
            "min": 0,
            "description_tooltip": null,
            "_model_module": "@jupyter-widgets/controls",
            "layout": "IPY_MODEL_cbfd0261e5fe42548776e0818e8a36ff"
          }
        },
        "08d33bcc747f485d930f144affc05e08": {
          "model_module": "@jupyter-widgets/controls",
          "model_name": "HTMLModel",
          "state": {
            "_view_name": "HTMLView",
            "style": "IPY_MODEL_766dd14f96c74af3a4d869881d45239b",
            "_dom_classes": [],
            "description": "",
            "_model_name": "HTMLModel",
            "placeholder": "​",
            "_view_module": "@jupyter-widgets/controls",
            "_model_module_version": "1.5.0",
            "value": " 456k/456k [00:00&lt;00:00, 1.19MB/s]",
            "_view_count": null,
            "_view_module_version": "1.5.0",
            "description_tooltip": null,
            "_model_module": "@jupyter-widgets/controls",
            "layout": "IPY_MODEL_c69666faca224af999267f2f29764fab"
          }
        },
        "1e25c03b9bfd491794679ebbb719be47": {
          "model_module": "@jupyter-widgets/controls",
          "model_name": "ProgressStyleModel",
          "state": {
            "_view_name": "StyleView",
            "_model_name": "ProgressStyleModel",
            "description_width": "initial",
            "_view_module": "@jupyter-widgets/base",
            "_model_module_version": "1.5.0",
            "_view_count": null,
            "_view_module_version": "1.2.0",
            "bar_color": null,
            "_model_module": "@jupyter-widgets/controls"
          }
        },
        "cbfd0261e5fe42548776e0818e8a36ff": {
          "model_module": "@jupyter-widgets/base",
          "model_name": "LayoutModel",
          "state": {
            "_view_name": "LayoutView",
            "grid_template_rows": null,
            "right": null,
            "justify_content": null,
            "_view_module": "@jupyter-widgets/base",
            "overflow": null,
            "_model_module_version": "1.2.0",
            "_view_count": null,
            "flex_flow": null,
            "width": null,
            "min_width": null,
            "border": null,
            "align_items": null,
            "bottom": null,
            "_model_module": "@jupyter-widgets/base",
            "top": null,
            "grid_column": null,
            "overflow_y": null,
            "overflow_x": null,
            "grid_auto_flow": null,
            "grid_area": null,
            "grid_template_columns": null,
            "flex": null,
            "_model_name": "LayoutModel",
            "justify_items": null,
            "grid_row": null,
            "max_height": null,
            "align_content": null,
            "visibility": null,
            "align_self": null,
            "height": null,
            "min_height": null,
            "padding": null,
            "grid_auto_rows": null,
            "grid_gap": null,
            "max_width": null,
            "order": null,
            "_view_module_version": "1.2.0",
            "grid_template_areas": null,
            "object_position": null,
            "object_fit": null,
            "grid_auto_columns": null,
            "margin": null,
            "display": null,
            "left": null
          }
        },
        "766dd14f96c74af3a4d869881d45239b": {
          "model_module": "@jupyter-widgets/controls",
          "model_name": "DescriptionStyleModel",
          "state": {
            "_view_name": "StyleView",
            "_model_name": "DescriptionStyleModel",
            "description_width": "",
            "_view_module": "@jupyter-widgets/base",
            "_model_module_version": "1.5.0",
            "_view_count": null,
            "_view_module_version": "1.2.0",
            "_model_module": "@jupyter-widgets/controls"
          }
        },
        "c69666faca224af999267f2f29764fab": {
          "model_module": "@jupyter-widgets/base",
          "model_name": "LayoutModel",
          "state": {
            "_view_name": "LayoutView",
            "grid_template_rows": null,
            "right": null,
            "justify_content": null,
            "_view_module": "@jupyter-widgets/base",
            "overflow": null,
            "_model_module_version": "1.2.0",
            "_view_count": null,
            "flex_flow": null,
            "width": null,
            "min_width": null,
            "border": null,
            "align_items": null,
            "bottom": null,
            "_model_module": "@jupyter-widgets/base",
            "top": null,
            "grid_column": null,
            "overflow_y": null,
            "overflow_x": null,
            "grid_auto_flow": null,
            "grid_area": null,
            "grid_template_columns": null,
            "flex": null,
            "_model_name": "LayoutModel",
            "justify_items": null,
            "grid_row": null,
            "max_height": null,
            "align_content": null,
            "visibility": null,
            "align_self": null,
            "height": null,
            "min_height": null,
            "padding": null,
            "grid_auto_rows": null,
            "grid_gap": null,
            "max_width": null,
            "order": null,
            "_view_module_version": "1.2.0",
            "grid_template_areas": null,
            "object_position": null,
            "object_fit": null,
            "grid_auto_columns": null,
            "margin": null,
            "display": null,
            "left": null
          }
        },
        "71e363541eea4608a9ef97b6c562bc8e": {
          "model_module": "@jupyter-widgets/controls",
          "model_name": "HBoxModel",
          "state": {
            "_view_name": "HBoxView",
            "_dom_classes": [],
            "_model_name": "HBoxModel",
            "_view_module": "@jupyter-widgets/controls",
            "_model_module_version": "1.5.0",
            "_view_count": null,
            "_view_module_version": "1.5.0",
            "box_style": "",
            "layout": "IPY_MODEL_839c78a188ab48df8dcca651a9d196a9",
            "_model_module": "@jupyter-widgets/controls",
            "children": [
              "IPY_MODEL_06084c90899e4bb3b97b314809c861fb",
              "IPY_MODEL_ae2b0df171ed4411a1172e9c26f0420e"
            ]
          }
        },
        "839c78a188ab48df8dcca651a9d196a9": {
          "model_module": "@jupyter-widgets/base",
          "model_name": "LayoutModel",
          "state": {
            "_view_name": "LayoutView",
            "grid_template_rows": null,
            "right": null,
            "justify_content": null,
            "_view_module": "@jupyter-widgets/base",
            "overflow": null,
            "_model_module_version": "1.2.0",
            "_view_count": null,
            "flex_flow": null,
            "width": null,
            "min_width": null,
            "border": null,
            "align_items": null,
            "bottom": null,
            "_model_module": "@jupyter-widgets/base",
            "top": null,
            "grid_column": null,
            "overflow_y": null,
            "overflow_x": null,
            "grid_auto_flow": null,
            "grid_area": null,
            "grid_template_columns": null,
            "flex": null,
            "_model_name": "LayoutModel",
            "justify_items": null,
            "grid_row": null,
            "max_height": null,
            "align_content": null,
            "visibility": null,
            "align_self": null,
            "height": null,
            "min_height": null,
            "padding": null,
            "grid_auto_rows": null,
            "grid_gap": null,
            "max_width": null,
            "order": null,
            "_view_module_version": "1.2.0",
            "grid_template_areas": null,
            "object_position": null,
            "object_fit": null,
            "grid_auto_columns": null,
            "margin": null,
            "display": null,
            "left": null
          }
        },
        "06084c90899e4bb3b97b314809c861fb": {
          "model_module": "@jupyter-widgets/controls",
          "model_name": "IntProgressModel",
          "state": {
            "_view_name": "ProgressView",
            "style": "IPY_MODEL_968c2a7e72f04c289d594ac86de1f745",
            "_dom_classes": [],
            "description": "100%",
            "_model_name": "IntProgressModel",
            "bar_style": "success",
            "max": 22009,
            "_view_module": "@jupyter-widgets/controls",
            "_model_module_version": "1.5.0",
            "value": 22009,
            "_view_count": null,
            "_view_module_version": "1.5.0",
            "orientation": "horizontal",
            "min": 0,
            "description_tooltip": null,
            "_model_module": "@jupyter-widgets/controls",
            "layout": "IPY_MODEL_e05a626897284c1195aa2c637051cb52"
          }
        },
        "ae2b0df171ed4411a1172e9c26f0420e": {
          "model_module": "@jupyter-widgets/controls",
          "model_name": "HTMLModel",
          "state": {
            "_view_name": "HTMLView",
            "style": "IPY_MODEL_3fa731bd4d5c4a36807cadd07a359248",
            "_dom_classes": [],
            "description": "",
            "_model_name": "HTMLModel",
            "placeholder": "​",
            "_view_module": "@jupyter-widgets/controls",
            "_model_module_version": "1.5.0",
            "value": " 22009/22009 [03:12&lt;00:00, 114.44it/s]",
            "_view_count": null,
            "_view_module_version": "1.5.0",
            "description_tooltip": null,
            "_model_module": "@jupyter-widgets/controls",
            "layout": "IPY_MODEL_ca8842cacc9442bf9b4659c3a720f2f5"
          }
        },
        "968c2a7e72f04c289d594ac86de1f745": {
          "model_module": "@jupyter-widgets/controls",
          "model_name": "ProgressStyleModel",
          "state": {
            "_view_name": "StyleView",
            "_model_name": "ProgressStyleModel",
            "description_width": "initial",
            "_view_module": "@jupyter-widgets/base",
            "_model_module_version": "1.5.0",
            "_view_count": null,
            "_view_module_version": "1.2.0",
            "bar_color": null,
            "_model_module": "@jupyter-widgets/controls"
          }
        },
        "e05a626897284c1195aa2c637051cb52": {
          "model_module": "@jupyter-widgets/base",
          "model_name": "LayoutModel",
          "state": {
            "_view_name": "LayoutView",
            "grid_template_rows": null,
            "right": null,
            "justify_content": null,
            "_view_module": "@jupyter-widgets/base",
            "overflow": null,
            "_model_module_version": "1.2.0",
            "_view_count": null,
            "flex_flow": null,
            "width": null,
            "min_width": null,
            "border": null,
            "align_items": null,
            "bottom": null,
            "_model_module": "@jupyter-widgets/base",
            "top": null,
            "grid_column": null,
            "overflow_y": null,
            "overflow_x": null,
            "grid_auto_flow": null,
            "grid_area": null,
            "grid_template_columns": null,
            "flex": null,
            "_model_name": "LayoutModel",
            "justify_items": null,
            "grid_row": null,
            "max_height": null,
            "align_content": null,
            "visibility": null,
            "align_self": null,
            "height": null,
            "min_height": null,
            "padding": null,
            "grid_auto_rows": null,
            "grid_gap": null,
            "max_width": null,
            "order": null,
            "_view_module_version": "1.2.0",
            "grid_template_areas": null,
            "object_position": null,
            "object_fit": null,
            "grid_auto_columns": null,
            "margin": null,
            "display": null,
            "left": null
          }
        },
        "3fa731bd4d5c4a36807cadd07a359248": {
          "model_module": "@jupyter-widgets/controls",
          "model_name": "DescriptionStyleModel",
          "state": {
            "_view_name": "StyleView",
            "_model_name": "DescriptionStyleModel",
            "description_width": "",
            "_view_module": "@jupyter-widgets/base",
            "_model_module_version": "1.5.0",
            "_view_count": null,
            "_view_module_version": "1.2.0",
            "_model_module": "@jupyter-widgets/controls"
          }
        },
        "ca8842cacc9442bf9b4659c3a720f2f5": {
          "model_module": "@jupyter-widgets/base",
          "model_name": "LayoutModel",
          "state": {
            "_view_name": "LayoutView",
            "grid_template_rows": null,
            "right": null,
            "justify_content": null,
            "_view_module": "@jupyter-widgets/base",
            "overflow": null,
            "_model_module_version": "1.2.0",
            "_view_count": null,
            "flex_flow": null,
            "width": null,
            "min_width": null,
            "border": null,
            "align_items": null,
            "bottom": null,
            "_model_module": "@jupyter-widgets/base",
            "top": null,
            "grid_column": null,
            "overflow_y": null,
            "overflow_x": null,
            "grid_auto_flow": null,
            "grid_area": null,
            "grid_template_columns": null,
            "flex": null,
            "_model_name": "LayoutModel",
            "justify_items": null,
            "grid_row": null,
            "max_height": null,
            "align_content": null,
            "visibility": null,
            "align_self": null,
            "height": null,
            "min_height": null,
            "padding": null,
            "grid_auto_rows": null,
            "grid_gap": null,
            "max_width": null,
            "order": null,
            "_view_module_version": "1.2.0",
            "grid_template_areas": null,
            "object_position": null,
            "object_fit": null,
            "grid_auto_columns": null,
            "margin": null,
            "display": null,
            "left": null
          }
        }
      }
    }
  },
  "cells": [
    {
      "cell_type": "markdown",
      "metadata": {
        "id": "bjdVc8nqn6Z9",
        "colab_type": "text"
      },
      "source": [
        "link:  https://bit.ly/mario-live25\n",
        "\n",
        "Usar uma rede já treinada (tranfer learning) para resolver problema de NLP: Classificar produtos rotulando-os com tags.\n",
        "\n",
        "Isso é um problema muito comun em sites de e-commerces. Classifica automaticamente os produtos.\n",
        "\n",
        "Vamos usar o modelo dofacebook chamado \"Roberta\" (bert). Ele tenta criar uma representaçâo vetorial de uma linguagem. Esse modelo é treinado em parte de palavras, então, podemos usá-lo em qualquer lugar"
      ]
    },
    {
      "cell_type": "code",
      "metadata": {
        "id": "Hf_prlxzQ6of",
        "colab_type": "code",
        "colab": {
          "base_uri": "https://localhost:8080/",
          "height": 694
        },
        "outputId": "d240ba3a-dd63-41d8-8949-7f0c09f661a4"
      },
      "source": [
        "# biblioteca que tem modelos pré-treinados\n",
        "!pip install transformers"
      ],
      "execution_count": null,
      "outputs": [
        {
          "output_type": "stream",
          "text": [
            "Collecting transformers\n",
            "\u001b[?25l  Downloading https://files.pythonhosted.org/packages/a3/78/92cedda05552398352ed9784908b834ee32a0bd071a9b32de287327370b7/transformers-2.8.0-py3-none-any.whl (563kB)\n",
            "\u001b[K     |████████████████████████████████| 573kB 4.8MB/s \n",
            "\u001b[?25hCollecting sentencepiece\n",
            "\u001b[?25l  Downloading https://files.pythonhosted.org/packages/98/2c/8df20f3ac6c22ac224fff307ebc102818206c53fc454ecd37d8ac2060df5/sentencepiece-0.1.86-cp36-cp36m-manylinux1_x86_64.whl (1.0MB)\n",
            "\u001b[K     |████████████████████████████████| 1.0MB 12.1MB/s \n",
            "\u001b[?25hRequirement already satisfied: filelock in /usr/local/lib/python3.6/dist-packages (from transformers) (3.0.12)\n",
            "Requirement already satisfied: tqdm>=4.27 in /usr/local/lib/python3.6/dist-packages (from transformers) (4.38.0)\n",
            "Requirement already satisfied: regex!=2019.12.17 in /usr/local/lib/python3.6/dist-packages (from transformers) (2019.12.20)\n",
            "Collecting tokenizers==0.5.2\n",
            "\u001b[?25l  Downloading https://files.pythonhosted.org/packages/d1/3f/73c881ea4723e43c1e9acf317cf407fab3a278daab3a69c98dcac511c04f/tokenizers-0.5.2-cp36-cp36m-manylinux1_x86_64.whl (3.7MB)\n",
            "\u001b[K     |████████████████████████████████| 3.7MB 33.2MB/s \n",
            "\u001b[?25hRequirement already satisfied: numpy in /usr/local/lib/python3.6/dist-packages (from transformers) (1.18.3)\n",
            "Requirement already satisfied: dataclasses; python_version < \"3.7\" in /usr/local/lib/python3.6/dist-packages (from transformers) (0.7)\n",
            "Requirement already satisfied: requests in /usr/local/lib/python3.6/dist-packages (from transformers) (2.23.0)\n",
            "Requirement already satisfied: boto3 in /usr/local/lib/python3.6/dist-packages (from transformers) (1.13.1)\n",
            "Collecting sacremoses\n",
            "\u001b[?25l  Downloading https://files.pythonhosted.org/packages/7d/34/09d19aff26edcc8eb2a01bed8e98f13a1537005d31e95233fd48216eed10/sacremoses-0.0.43.tar.gz (883kB)\n",
            "\u001b[K     |████████████████████████████████| 890kB 59.2MB/s \n",
            "\u001b[?25hRequirement already satisfied: idna<3,>=2.5 in /usr/local/lib/python3.6/dist-packages (from requests->transformers) (2.9)\n",
            "Requirement already satisfied: chardet<4,>=3.0.2 in /usr/local/lib/python3.6/dist-packages (from requests->transformers) (3.0.4)\n",
            "Requirement already satisfied: certifi>=2017.4.17 in /usr/local/lib/python3.6/dist-packages (from requests->transformers) (2020.4.5.1)\n",
            "Requirement already satisfied: urllib3!=1.25.0,!=1.25.1,<1.26,>=1.21.1 in /usr/local/lib/python3.6/dist-packages (from requests->transformers) (1.24.3)\n",
            "Requirement already satisfied: s3transfer<0.4.0,>=0.3.0 in /usr/local/lib/python3.6/dist-packages (from boto3->transformers) (0.3.3)\n",
            "Requirement already satisfied: jmespath<1.0.0,>=0.7.1 in /usr/local/lib/python3.6/dist-packages (from boto3->transformers) (0.9.5)\n",
            "Requirement already satisfied: botocore<1.17.0,>=1.16.1 in /usr/local/lib/python3.6/dist-packages (from boto3->transformers) (1.16.1)\n",
            "Requirement already satisfied: six in /usr/local/lib/python3.6/dist-packages (from sacremoses->transformers) (1.12.0)\n",
            "Requirement already satisfied: click in /usr/local/lib/python3.6/dist-packages (from sacremoses->transformers) (7.1.2)\n",
            "Requirement already satisfied: joblib in /usr/local/lib/python3.6/dist-packages (from sacremoses->transformers) (0.14.1)\n",
            "Requirement already satisfied: python-dateutil<3.0.0,>=2.1 in /usr/local/lib/python3.6/dist-packages (from botocore<1.17.0,>=1.16.1->boto3->transformers) (2.8.1)\n",
            "Requirement already satisfied: docutils<0.16,>=0.10 in /usr/local/lib/python3.6/dist-packages (from botocore<1.17.0,>=1.16.1->boto3->transformers) (0.15.2)\n",
            "Building wheels for collected packages: sacremoses\n",
            "  Building wheel for sacremoses (setup.py) ... \u001b[?25l\u001b[?25hdone\n",
            "  Created wheel for sacremoses: filename=sacremoses-0.0.43-cp36-none-any.whl size=893260 sha256=3aa49a72ab1728450a56cc2b6b2de35cbce5cf0fc1fc43bcc7fdee2a624a7691\n",
            "  Stored in directory: /root/.cache/pip/wheels/29/3c/fd/7ce5c3f0666dab31a50123635e6fb5e19ceb42ce38d4e58f45\n",
            "Successfully built sacremoses\n",
            "Installing collected packages: sentencepiece, tokenizers, sacremoses, transformers\n",
            "Successfully installed sacremoses-0.0.43 sentencepiece-0.1.86 tokenizers-0.5.2 transformers-2.8.0\n"
          ],
          "name": "stdout"
        }
      ]
    },
    {
      "cell_type": "code",
      "metadata": {
        "id": "7UErKlpyFxwC",
        "colab_type": "code",
        "colab": {}
      },
      "source": [
        "import pandas as pd\n",
        "import numpy as np\n",
        "\n",
        "import torch\n",
        "import torch.nn as nn\n",
        "import transformers\n",
        "import torch.utils.data as tdata\n",
        "import torch.optim as optim\n",
        "\n",
        "import tqdm # serve para colocar uma barra de loading e qualquer loop"
      ],
      "execution_count": null,
      "outputs": []
    },
    {
      "cell_type": "code",
      "metadata": {
        "id": "MOLfo_jSQG0I",
        "colab_type": "code",
        "colab": {
          "base_uri": "https://localhost:8080/",
          "height": 198
        },
        "outputId": "b291d3fa-64b3-4e4c-fc1e-627f6f5f7c00"
      },
      "source": [
        "train = pd.read_csv(\"Hackathon_Base_Treino.csv\")\n",
        "train.head()"
      ],
      "execution_count": null,
      "outputs": [
        {
          "output_type": "execute_result",
          "data": {
            "text/html": [
              "<div>\n",
              "<style scoped>\n",
              "    .dataframe tbody tr th:only-of-type {\n",
              "        vertical-align: middle;\n",
              "    }\n",
              "\n",
              "    .dataframe tbody tr th {\n",
              "        vertical-align: top;\n",
              "    }\n",
              "\n",
              "    .dataframe thead th {\n",
              "        text-align: right;\n",
              "    }\n",
              "</style>\n",
              "<table border=\"1\" class=\"dataframe\">\n",
              "  <thead>\n",
              "    <tr style=\"text-align: right;\">\n",
              "      <th></th>\n",
              "      <th>DESCRIÇÃO PARCEIRO</th>\n",
              "      <th>SUB-CATEGORIA</th>\n",
              "      <th>CATEGORIA</th>\n",
              "    </tr>\n",
              "  </thead>\n",
              "  <tbody>\n",
              "    <tr>\n",
              "      <th>0</th>\n",
              "      <td>PASTA INT VITAPOWER 1,005KG AMEND/SHOT</td>\n",
              "      <td>TRADICIONAL</td>\n",
              "      <td>CREME DE AMENDOIM</td>\n",
              "    </tr>\n",
              "    <tr>\n",
              "      <th>1</th>\n",
              "      <td>ESPONJA BETTANIN BRILHUS C/1</td>\n",
              "      <td>MULTIUSO</td>\n",
              "      <td>ESPONJA SINTÉTICA</td>\n",
              "    </tr>\n",
              "    <tr>\n",
              "      <th>2</th>\n",
              "      <td>AGUA MIN SCHIN S/GAS 500ML</td>\n",
              "      <td>SEM GÁS</td>\n",
              "      <td>ÁGUA MINERAL</td>\n",
              "    </tr>\n",
              "    <tr>\n",
              "      <th>3</th>\n",
              "      <td>FITA DUPLA FACE C/SUPORTE SCOTCH</td>\n",
              "      <td>FITA ADESIVA</td>\n",
              "      <td>PAPELARIA</td>\n",
              "    </tr>\n",
              "    <tr>\n",
              "      <th>4</th>\n",
              "      <td>MASSA PIZZA ROMANHA OREGANO PCT 160G</td>\n",
              "      <td>PIZZA REGULAR</td>\n",
              "      <td>MASSA FRESCA</td>\n",
              "    </tr>\n",
              "  </tbody>\n",
              "</table>\n",
              "</div>"
            ],
            "text/plain": [
              "                       DESCRIÇÃO PARCEIRO  SUB-CATEGORIA          CATEGORIA\n",
              "0  PASTA INT VITAPOWER 1,005KG AMEND/SHOT    TRADICIONAL  CREME DE AMENDOIM\n",
              "1            ESPONJA BETTANIN BRILHUS C/1       MULTIUSO  ESPONJA SINTÉTICA\n",
              "2              AGUA MIN SCHIN S/GAS 500ML        SEM GÁS       ÁGUA MINERAL\n",
              "3        FITA DUPLA FACE C/SUPORTE SCOTCH   FITA ADESIVA          PAPELARIA\n",
              "4    MASSA PIZZA ROMANHA OREGANO PCT 160G  PIZZA REGULAR       MASSA FRESCA"
            ]
          },
          "metadata": {
            "tags": []
          },
          "execution_count": 4
        }
      ]
    },
    {
      "cell_type": "code",
      "metadata": {
        "id": "EAjojc8ARAj2",
        "colab_type": "code",
        "colab": {
          "base_uri": "https://localhost:8080/",
          "height": 35
        },
        "outputId": "0ebcf470-5658-4e52-c9ac-002087ed3b0b"
      },
      "source": [
        "# 89% das categorias tem mais de 10 itens\n",
        "(train['CATEGORIA'].value_counts() > 10).mean()"
      ],
      "execution_count": null,
      "outputs": [
        {
          "output_type": "execute_result",
          "data": {
            "text/plain": [
              "0.8945783132530121"
            ]
          },
          "metadata": {
            "tags": []
          },
          "execution_count": 5
        }
      ]
    },
    {
      "cell_type": "code",
      "metadata": {
        "id": "tXl_g0Q4RbBG",
        "colab_type": "code",
        "colab": {
          "base_uri": "https://localhost:8080/",
          "height": 225
        },
        "outputId": "339eec2f-b5a0-475f-9e27-9658c0fc2006"
      },
      "source": [
        "# Lista de categorias\n",
        "train['CATEGORIA'].value_counts()"
      ],
      "execution_count": null,
      "outputs": [
        {
          "output_type": "execute_result",
          "data": {
            "text/plain": [
              "VINHO                          789\n",
              "BOMBONIERE                     672\n",
              "BISCOITO                       575\n",
              "UTENSÍLIOS DE INOX/ALUMÍNIO    525\n",
              "CALÇADO ADULTO                 510\n",
              "                              ... \n",
              "EMPADA                           6\n",
              "BOLINHO                          5\n",
              "FRANGO                           4\n",
              "ESPETINHO                        4\n",
              "FRUTA DESIDRATADA                3\n",
              "Name: CATEGORIA, Length: 332, dtype: int64"
            ]
          },
          "metadata": {
            "tags": []
          },
          "execution_count": 6
        }
      ]
    },
    {
      "cell_type": "code",
      "metadata": {
        "id": "e_H4M3loRe1h",
        "colab_type": "code",
        "colab": {}
      },
      "source": [
        "# Tranformar de String para número\n",
        "from sklearn.preprocessing import LabelEncoder\n",
        "\n",
        "cats_encoder = LabelEncoder()\n",
        "train['encoded_labels'] = cats_encoder.fit_transform(train['CATEGORIA'])"
      ],
      "execution_count": null,
      "outputs": []
    },
    {
      "cell_type": "code",
      "metadata": {
        "id": "WDMV0VOcSRhP",
        "colab_type": "code",
        "colab": {
          "base_uri": "https://localhost:8080/",
          "height": 198
        },
        "outputId": "fa4dccc7-a92d-4990-e048-4420dd2298f0"
      },
      "source": [
        "train.head()"
      ],
      "execution_count": null,
      "outputs": [
        {
          "output_type": "execute_result",
          "data": {
            "text/html": [
              "<div>\n",
              "<style scoped>\n",
              "    .dataframe tbody tr th:only-of-type {\n",
              "        vertical-align: middle;\n",
              "    }\n",
              "\n",
              "    .dataframe tbody tr th {\n",
              "        vertical-align: top;\n",
              "    }\n",
              "\n",
              "    .dataframe thead th {\n",
              "        text-align: right;\n",
              "    }\n",
              "</style>\n",
              "<table border=\"1\" class=\"dataframe\">\n",
              "  <thead>\n",
              "    <tr style=\"text-align: right;\">\n",
              "      <th></th>\n",
              "      <th>DESCRIÇÃO PARCEIRO</th>\n",
              "      <th>SUB-CATEGORIA</th>\n",
              "      <th>CATEGORIA</th>\n",
              "      <th>encoded_labels</th>\n",
              "    </tr>\n",
              "  </thead>\n",
              "  <tbody>\n",
              "    <tr>\n",
              "      <th>0</th>\n",
              "      <td>PASTA INT VITAPOWER 1,005KG AMEND/SHOT</td>\n",
              "      <td>TRADICIONAL</td>\n",
              "      <td>CREME DE AMENDOIM</td>\n",
              "      <td>85</td>\n",
              "    </tr>\n",
              "    <tr>\n",
              "      <th>1</th>\n",
              "      <td>ESPONJA BETTANIN BRILHUS C/1</td>\n",
              "      <td>MULTIUSO</td>\n",
              "      <td>ESPONJA SINTÉTICA</td>\n",
              "      <td>124</td>\n",
              "    </tr>\n",
              "    <tr>\n",
              "      <th>2</th>\n",
              "      <td>AGUA MIN SCHIN S/GAS 500ML</td>\n",
              "      <td>SEM GÁS</td>\n",
              "      <td>ÁGUA MINERAL</td>\n",
              "      <td>327</td>\n",
              "    </tr>\n",
              "    <tr>\n",
              "      <th>3</th>\n",
              "      <td>FITA DUPLA FACE C/SUPORTE SCOTCH</td>\n",
              "      <td>FITA ADESIVA</td>\n",
              "      <td>PAPELARIA</td>\n",
              "      <td>230</td>\n",
              "    </tr>\n",
              "    <tr>\n",
              "      <th>4</th>\n",
              "      <td>MASSA PIZZA ROMANHA OREGANO PCT 160G</td>\n",
              "      <td>PIZZA REGULAR</td>\n",
              "      <td>MASSA FRESCA</td>\n",
              "      <td>197</td>\n",
              "    </tr>\n",
              "  </tbody>\n",
              "</table>\n",
              "</div>"
            ],
            "text/plain": [
              "                       DESCRIÇÃO PARCEIRO  ... encoded_labels\n",
              "0  PASTA INT VITAPOWER 1,005KG AMEND/SHOT  ...             85\n",
              "1            ESPONJA BETTANIN BRILHUS C/1  ...            124\n",
              "2              AGUA MIN SCHIN S/GAS 500ML  ...            327\n",
              "3        FITA DUPLA FACE C/SUPORTE SCOTCH  ...            230\n",
              "4    MASSA PIZZA ROMANHA OREGANO PCT 160G  ...            197\n",
              "\n",
              "[5 rows x 4 columns]"
            ]
          },
          "metadata": {
            "tags": []
          },
          "execution_count": 8
        }
      ]
    },
    {
      "cell_type": "code",
      "metadata": {
        "id": "11BcgnvuSSY2",
        "colab_type": "code",
        "colab": {
          "base_uri": "https://localhost:8080/",
          "height": 214,
          "referenced_widgets": [
            "8825cff9dfc84ad294821e3b962a0672",
            "6c0062ba103a4f96b9f1c7ef627e8dca",
            "f70d81b2aea14b07b1546a64ba523bec",
            "d0d4461f391845d7ac46f81bf12ce38e",
            "ae14d81aaee64703ab828b9bf9bf9143",
            "f15e78d03f9f4ef5bba805c94c67eab6",
            "0607a716f4a440ec8859daa6a1536b57",
            "578747005e704cf0bb43dce421c0c825",
            "ee40cbf738fa4ddd87bba93789d2459f",
            "1b12442d9ea24f0a8562c8bc8aee2a91",
            "2ada5bba018d447cb87d2ea390d8fd2b",
            "f9b83ebc15ce4327b6b23c9690a54d72",
            "f60e27acd5bc43e2a883ffb3ebcf50ca",
            "da1287a95be4411eaaecb6e510393ffd",
            "53fa931449b648ccbfd74b3e6712a320",
            "91d6af6ccc524393bfb2a5c33606f15e",
            "137551018b3346be833e3022d43b0a21",
            "2c723a93b93442f3895b3fcce913bfa0",
            "264f1df71fdb4dda8b5b83c8f3b44314",
            "a1ff975f75ac401eabdf07538a5357aa",
            "231577d1b7b44eff96b370aec9c7d064",
            "0cb398eff13f4177a33cc15e8bd60e26",
            "5e2f0fccfb1f487898fea9777aa5cc83",
            "e3f5d8805419422b9a40707f8b282d17",
            "16a3a5298b794843a0663a58c2c4c226",
            "c1629aa3f53d43ceb358908da4c44701",
            "6be2e4e875df47b58487b4261ccb3c4b",
            "08d33bcc747f485d930f144affc05e08",
            "1e25c03b9bfd491794679ebbb719be47",
            "cbfd0261e5fe42548776e0818e8a36ff",
            "766dd14f96c74af3a4d869881d45239b",
            "c69666faca224af999267f2f29764fab"
          ]
        },
        "outputId": "99dcef26-7c22-43a1-c94f-0f70e7697789"
      },
      "source": [
        "# Colocar na CPU\n",
        "device = torch.device(\"cuda:0\")\n",
        "\n",
        "# \n",
        "roberta_weights = 'roberta-base'\n",
        "roberta_model = transformers.RobertaModel.from_pretrained(roberta_weights).to(device) # o modelo\n",
        "roberta_token = transformers.RobertaTokenizer.from_pretrained(roberta_weights) # converter as trings em token para a NLP\n",
        "\n",
        "# unsqueeze(0) => para passar para o pytorch, o torch precisa mudar uma dimensâo a mais (o batch_size)\n",
        "# Vamos converter X em tokens (as descrições dos produtos)\n",
        "tokenized = [torch.tensor(roberta_token.encode(x)).unsqueeze(0).to(device) for x in train['DESCRIÇÃO PARCEIRO']]\n"
      ],
      "execution_count": null,
      "outputs": [
        {
          "output_type": "display_data",
          "data": {
            "application/vnd.jupyter.widget-view+json": {
              "model_id": "8825cff9dfc84ad294821e3b962a0672",
              "version_minor": 0,
              "version_major": 2
            },
            "text/plain": [
              "HBox(children=(IntProgress(value=0, description='Downloading', max=481, style=ProgressStyle(description_width=…"
            ]
          },
          "metadata": {
            "tags": []
          }
        },
        {
          "output_type": "stream",
          "text": [
            "\n"
          ],
          "name": "stdout"
        },
        {
          "output_type": "display_data",
          "data": {
            "application/vnd.jupyter.widget-view+json": {
              "model_id": "ee40cbf738fa4ddd87bba93789d2459f",
              "version_minor": 0,
              "version_major": 2
            },
            "text/plain": [
              "HBox(children=(IntProgress(value=0, description='Downloading', max=501200538, style=ProgressStyle(description_…"
            ]
          },
          "metadata": {
            "tags": []
          }
        },
        {
          "output_type": "stream",
          "text": [
            "\n"
          ],
          "name": "stdout"
        },
        {
          "output_type": "display_data",
          "data": {
            "application/vnd.jupyter.widget-view+json": {
              "model_id": "137551018b3346be833e3022d43b0a21",
              "version_minor": 0,
              "version_major": 2
            },
            "text/plain": [
              "HBox(children=(IntProgress(value=0, description='Downloading', max=898823, style=ProgressStyle(description_wid…"
            ]
          },
          "metadata": {
            "tags": []
          }
        },
        {
          "output_type": "stream",
          "text": [
            "\n"
          ],
          "name": "stdout"
        },
        {
          "output_type": "display_data",
          "data": {
            "application/vnd.jupyter.widget-view+json": {
              "model_id": "16a3a5298b794843a0663a58c2c4c226",
              "version_minor": 0,
              "version_major": 2
            },
            "text/plain": [
              "HBox(children=(IntProgress(value=0, description='Downloading', max=456318, style=ProgressStyle(description_wid…"
            ]
          },
          "metadata": {
            "tags": []
          }
        },
        {
          "output_type": "stream",
          "text": [
            "\n"
          ],
          "name": "stdout"
        }
      ]
    },
    {
      "cell_type": "code",
      "metadata": {
        "id": "2-qe89SbU6xo",
        "colab_type": "code",
        "colab": {
          "base_uri": "https://localhost:8080/",
          "height": 69
        },
        "outputId": "b3792ab6-fa12-4a2e-e012-21695045e30f"
      },
      "source": [
        "# TOKEN: Assim, as descrições vão ser representadas pelo seguinte arraynumerico\n",
        "tokenized[0]"
      ],
      "execution_count": null,
      "outputs": [
        {
          "output_type": "execute_result",
          "data": {
            "text/plain": [
              "tensor([[    0,   221,  2336,  3847, 30497,   468,  2068,   591, 37420,   112,\n",
              "             6, 31866,   530,   534,  3326,  9309,    73, 10237,  3293,     2]],\n",
              "       device='cuda:0')"
            ]
          },
          "metadata": {
            "tags": []
          },
          "execution_count": 11
        }
      ]
    },
    {
      "cell_type": "code",
      "metadata": {
        "id": "hLwqvS_BUanO",
        "colab_type": "code",
        "colab": {
          "base_uri": "https://localhost:8080/",
          "height": 66,
          "referenced_widgets": [
            "71e363541eea4608a9ef97b6c562bc8e",
            "839c78a188ab48df8dcca651a9d196a9",
            "06084c90899e4bb3b97b314809c861fb",
            "ae2b0df171ed4411a1172e9c26f0420e",
            "968c2a7e72f04c289d594ac86de1f745",
            "e05a626897284c1195aa2c637051cb52",
            "3fa731bd4d5c4a36807cadd07a359248",
            "ca8842cacc9442bf9b4659c3a720f2f5"
          ]
        },
        "outputId": "e9b6003e-8c5e-425d-bd4d-7e7c4f1071cf"
      },
      "source": [
        "# EMBEDDINGS: De token vamos converter num arrya maior e mais esparso\n",
        "#   Ele vai fazer as relações entre a semâmtica das palavras\n",
        "embeddings = []\n",
        "\n",
        "roberta_model.eval() # trava o modelo para ele nao treinar quando fizer o feedward\n",
        "with torch.no_grad(): # nao salvar o gradiente e nao fazer nada de nada ...\n",
        "  for x in tqdm.notebook.tqdm(tokenized):\n",
        "    # vou fazer o processo de embedding  para meu X, vou pegalo e mandalo para um numpy array\n",
        "    embeddings.append(roberta_model(x)[1].cpu().numpy())"
      ],
      "execution_count": null,
      "outputs": [
        {
          "output_type": "display_data",
          "data": {
            "application/vnd.jupyter.widget-view+json": {
              "model_id": "71e363541eea4608a9ef97b6c562bc8e",
              "version_minor": 0,
              "version_major": 2
            },
            "text/plain": [
              "HBox(children=(IntProgress(value=0, max=22009), HTML(value='')))"
            ]
          },
          "metadata": {
            "tags": []
          }
        },
        {
          "output_type": "stream",
          "text": [
            "\n"
          ],
          "name": "stdout"
        }
      ]
    },
    {
      "cell_type": "code",
      "metadata": {
        "id": "QPTIYVXMSlYB",
        "colab_type": "code",
        "colab": {
          "base_uri": "https://localhost:8080/",
          "height": 35
        },
        "outputId": "fb21f21b-7057-434e-da3e-1b88c6de8b2f"
      },
      "source": [
        "# Agora para cada X tem tamanho de 768\n",
        "embeddings[0].shape"
      ],
      "execution_count": null,
      "outputs": [
        {
          "output_type": "execute_result",
          "data": {
            "text/plain": [
              "(1, 768)"
            ]
          },
          "metadata": {
            "tags": []
          },
          "execution_count": 14
        }
      ]
    },
    {
      "cell_type": "code",
      "metadata": {
        "id": "0VcBjhJtWDqa",
        "colab_type": "code",
        "colab": {}
      },
      "source": [
        "# o squeeze vai tirar essa dimensao amais do pytorch\n",
        "# Vamos ter então o nosso X embeddizado\n",
        "embeddings_numpy = np.array(embeddings).squeeze()"
      ],
      "execution_count": null,
      "outputs": []
    },
    {
      "cell_type": "code",
      "metadata": {
        "id": "UlYj_ARJXG6U",
        "colab_type": "code",
        "colab": {
          "base_uri": "https://localhost:8080/",
          "height": 35
        },
        "outputId": "54f3bc1a-f40b-4191-aa0b-934a2e2ca35f"
      },
      "source": [
        "embeddings_numpy.shape"
      ],
      "execution_count": null,
      "outputs": [
        {
          "output_type": "execute_result",
          "data": {
            "text/plain": [
              "(22009, 768)"
            ]
          },
          "metadata": {
            "tags": []
          },
          "execution_count": 16
        }
      ]
    },
    {
      "cell_type": "code",
      "metadata": {
        "id": "cmKCYJUaXIuE",
        "colab_type": "code",
        "colab": {
          "base_uri": "https://localhost:8080/",
          "height": 35
        },
        "outputId": "6a32206e-ffbc-41c6-f88b-147bf322029e"
      },
      "source": [
        "from sklearn.linear_model import LogisticRegression\n",
        "from sklearn.model_selection import train_test_split\n",
        "\n",
        "# Dividir em train/test\n",
        "Xtrain, Xval, ytrain, yval = train_test_split(embeddings_numpy, train['encoded_labels'] , train_size=0.5, random_state=0)\n",
        "\n",
        "print(Xtrain.shape, Xval.shape, ytrain.shape, yval.shape)"
      ],
      "execution_count": null,
      "outputs": [
        {
          "output_type": "stream",
          "text": [
            "(11004, 768) (11005, 768) (11004,) (11005,)\n"
          ],
          "name": "stdout"
        }
      ]
    },
    {
      "cell_type": "code",
      "metadata": {
        "id": "2MXELpHEXrAA",
        "colab_type": "code",
        "colab": {
          "base_uri": "https://localhost:8080/",
          "height": 35
        },
        "outputId": "689cef30-e748-45c8-b0bb-88615f2398b2"
      },
      "source": [
        "# Y : Temos 331 classes (multi-classe) e só podemos ter somente uma única classe\n",
        "ytrain.unique().shape"
      ],
      "execution_count": null,
      "outputs": [
        {
          "output_type": "execute_result",
          "data": {
            "text/plain": [
              "(331,)"
            ]
          },
          "metadata": {
            "tags": []
          },
          "execution_count": 19
        }
      ]
    },
    {
      "cell_type": "code",
      "metadata": {
        "id": "koJ56qLKaOPd",
        "colab_type": "code",
        "colab": {}
      },
      "source": [
        "from sklearn.metrics import f1_score"
      ],
      "execution_count": null,
      "outputs": []
    },
    {
      "cell_type": "markdown",
      "metadata": {
        "id": "-QDwAdL7vFQf",
        "colab_type": "text"
      },
      "source": [
        "Abordagem um-contra-todos:\n",
        "\n",
        "**VAMOS TREINAR O MODELO CLASE POR CLASSE**:\n",
        "Se sâo N classe, vamos fazer um `for` de N, onde para cada N faremos o treinamento da nossa NN com um problema de classificaçâo Binária, onde a classe escolhida terá label 1 e todas as outras 0."
      ]
    },
    {
      "cell_type": "code",
      "metadata": {
        "id": "ymYM-DlyX8lJ",
        "colab_type": "code",
        "colab": {
          "base_uri": "https://localhost:8080/",
          "height": 1000
        },
        "outputId": "239dcc20-8883-46cc-f4c8-b0e0a141f869"
      },
      "source": [
        "# Array vazio para guardar as nossa previsões\n",
        "predictions = np.zeros((Xval.shape[0], 332))\n",
        "\n",
        "# Para cada classe ...\n",
        "for class_ in sorted(train['encoded_labels'].unique()):\n",
        "  # Vamos criar uma mask de Boolean para que:\n",
        "  #   CADA 'FOR' FICA PARA TREINAR COM UMA ÚNICA CLASSE\n",
        "  #   Não há um paper para explicar essa abordagem mas Mário disse que funciona\n",
        "  mask_train = ytrain==class_\n",
        "  mask_val = yval==class_\n",
        "\n",
        "  # Se a classe tiver poucos dados (menos de 10) entâo não vou treinar pra isso\n",
        "  if mask_train.sum() + mask_val.sum() < 10:\n",
        "    continue\n",
        "\n",
        "  # Converto mesmo de Bool para Int (classe)\n",
        "  ytrain_ = mask_train.astype(int)\n",
        "  yval_ = mask_val.astype(int)\n",
        "\n",
        "  # class_weight = 'auto' : vai corrigir o desbalancemento por usar 'um-contra-todos'\n",
        "  #   Vai dar uma punição quando houver desbalancimento de classe\n",
        "  model = LogisticRegression(class_weight='auto')\n",
        "  model.fit(Xtrain, ytrain_)\n",
        "\n",
        "  # Prevê se pertence ou nâo a classe\n",
        "  p = model.predict_proba(Xval)[:,1] # ele retorna duas prob, uma para '0' e outra para '1'\n",
        "\n",
        "  predictions[:, class_] = p\n",
        "\n",
        "  # threshold = ponto de corte\n",
        "  # Eu quero que o ponto de corte seja a prediçâo dos 1% melhor classificados como 1\n",
        "  threshold = np.percentile(p, 99)\n",
        "\n",
        "  # se a proba for acima do threshodl, 1, else, 0\n",
        "  p_cut = (p > threshold).astype(int)\n",
        "\n",
        "  print(\"Class = {} | Num exemplos positivos | train = {} | val = {} | F1 = {} | p-avg = {}\\n\".format(class_, ytrain_.sum(), yval_.sum(), f1_score(yval_, p_cut), p.mean()))\n",
        "  #break"
      ],
      "execution_count": null,
      "outputs": [
        {
          "output_type": "stream",
          "text": [
            "Class = 0 | Num exemplos | train = 41 | val = 35 | F1 = 0.4109589041095891 | p-avg = 0.0037443804220666076\n",
            "\n",
            "Class = 1 | Num exemplos | train = 18 | val = 28 | F1 = 0.043165467625899276 | p-avg = 0.0016374352061380543\n",
            "\n",
            "Class = 2 | Num exemplos | train = 32 | val = 29 | F1 = 0.11428571428571428 | p-avg = 0.0029124203511822874\n",
            "\n",
            "Class = 4 | Num exemplos | train = 20 | val = 29 | F1 = 0.07142857142857142 | p-avg = 0.0018171148641719364\n",
            "\n",
            "Class = 5 | Num exemplos | train = 26 | val = 18 | F1 = 0.06201550387596899 | p-avg = 0.002366189401969137\n",
            "\n",
            "Class = 6 | Num exemplos | train = 49 | val = 67 | F1 = 0.39325842696629215 | p-avg = 0.004458379283504561\n",
            "\n",
            "Class = 7 | Num exemplos | train = 46 | val = 45 | F1 = 0.16666666666666666 | p-avg = 0.004192869708728135\n",
            "\n",
            "Class = 8 | Num exemplos | train = 13 | val = 16 | F1 = 0.14173228346456693 | p-avg = 0.0011812913233086493\n",
            "\n",
            "Class = 9 | Num exemplos | train = 30 | val = 25 | F1 = 0.20588235294117643 | p-avg = 0.002727213457357603\n",
            "\n",
            "Class = 10 | Num exemplos | train = 9 | val = 10 | F1 = 0.13223140495867766 | p-avg = 0.0008175814069034785\n",
            "\n",
            "Class = 11 | Num exemplos | train = 11 | val = 9 | F1 = 0.06666666666666667 | p-avg = 0.000998891071227586\n",
            "\n",
            "Class = 12 | Num exemplos | train = 78 | val = 66 | F1 = 0.2598870056497175 | p-avg = 0.007102936322108836\n",
            "\n",
            "Class = 13 | Num exemplos | train = 23 | val = 27 | F1 = 0.2028985507246377 | p-avg = 0.0020912736082323814\n",
            "\n",
            "Class = 14 | Num exemplos | train = 19 | val = 27 | F1 = 0.13043478260869568 | p-avg = 0.0017289561202576999\n",
            "\n",
            "Class = 15 | Num exemplos | train = 10 | val = 12 | F1 = 0.1951219512195122 | p-avg = 0.0009092465502613784\n",
            "\n",
            "Class = 16 | Num exemplos | train = 41 | val = 49 | F1 = 0.5125000000000001 | p-avg = 0.0037261535167302197\n",
            "\n",
            "Class = 17 | Num exemplos | train = 4 | val = 6 | F1 = 0.10256410256410257 | p-avg = 0.0003633969952645685\n",
            "\n",
            "Class = 18 | Num exemplos | train = 27 | val = 12 | F1 = 0.16260162601626016 | p-avg = 0.002450262803229749\n",
            "\n",
            "Class = 19 | Num exemplos | train = 26 | val = 19 | F1 = 0.15384615384615385 | p-avg = 0.0023625382104725\n",
            "\n",
            "Class = 20 | Num exemplos | train = 8 | val = 4 | F1 = 0.017391304347826087 | p-avg = 0.0007269329340300689\n",
            "\n",
            "Class = 21 | Num exemplos | train = 9 | val = 13 | F1 = 0.04838709677419355 | p-avg = 0.000817616163815198\n",
            "\n",
            "Class = 22 | Num exemplos | train = 72 | val = 55 | F1 = 0.6385542168674699 | p-avg = 0.006519977904806173\n",
            "\n",
            "Class = 23 | Num exemplos | train = 195 | val = 183 | F1 = 0.42176870748299317 | p-avg = 0.01786111478993114\n",
            "\n",
            "Class = 24 | Num exemplos | train = 7 | val = 7 | F1 = 0.1016949152542373 | p-avg = 0.0006361184795450899\n",
            "\n",
            "Class = 25 | Num exemplos | train = 17 | val = 17 | F1 = 0.203125 | p-avg = 0.0015440677630149972\n",
            "\n",
            "Class = 26 | Num exemplos | train = 8 | val = 5 | F1 = 0.034482758620689655 | p-avg = 0.0007269220465877025\n",
            "\n",
            "Class = 27 | Num exemplos | train = 6 | val = 4 | F1 = 0.0 | p-avg = 0.0005451341665753042\n",
            "\n",
            "Class = 28 | Num exemplos | train = 34 | val = 41 | F1 = 0.4736842105263158 | p-avg = 0.0030897658582498223\n",
            "\n",
            "Class = 29 | Num exemplos | train = 22 | val = 11 | F1 = 0.09836065573770493 | p-avg = 0.0019977103330520393\n",
            "\n",
            "Class = 30 | Num exemplos | train = 14 | val = 21 | F1 = 0.18181818181818182 | p-avg = 0.0012709508179093191\n",
            "\n",
            "Class = 31 | Num exemplos | train = 26 | val = 21 | F1 = 0.16666666666666669 | p-avg = 0.0023612638305666946\n",
            "\n",
            "Class = 32 | Num exemplos | train = 31 | val = 26 | F1 = 0.21897810218978106 | p-avg = 0.0028175682734487236\n",
            "\n",
            "Class = 33 | Num exemplos | train = 50 | val = 47 | F1 = 0.21518987341772153 | p-avg = 0.004544324119502854\n",
            "\n",
            "Class = 34 | Num exemplos | train = 7 | val = 12 | F1 = 0.14634146341463414 | p-avg = 0.0006361535231102211\n",
            "\n",
            "Class = 35 | Num exemplos | train = 37 | val = 42 | F1 = 0.4444444444444444 | p-avg = 0.003354821394499269\n",
            "\n",
            "Class = 36 | Num exemplos | train = 59 | val = 49 | F1 = 0.4375 | p-avg = 0.005350047412193069\n",
            "\n",
            "Class = 37 | Num exemplos | train = 16 | val = 9 | F1 = 0.13333333333333333 | p-avg = 0.0014542102174826968\n",
            "\n",
            "Class = 38 | Num exemplos | train = 22 | val = 25 | F1 = 0.3088235294117648 | p-avg = 0.0019976948607513464\n",
            "\n",
            "Class = 39 | Num exemplos | train = 63 | val = 60 | F1 = 0.3742690058479532 | p-avg = 0.0057335939289463005\n",
            "\n",
            "Class = 40 | Num exemplos | train = 58 | val = 46 | F1 = 0.40764331210191085 | p-avg = 0.005262600208391437\n",
            "\n",
            "Class = 41 | Num exemplos | train = 9 | val = 3 | F1 = 0.052631578947368425 | p-avg = 0.0008176662054478012\n",
            "\n",
            "Class = 42 | Num exemplos | train = 8 | val = 9 | F1 = 0.15 | p-avg = 0.000727377754651696\n",
            "\n",
            "Class = 43 | Num exemplos | train = 7 | val = 3 | F1 = 0.052631578947368425 | p-avg = 0.0006360935681187274\n",
            "\n",
            "Class = 44 | Num exemplos | train = 280 | val = 295 | F1 = 0.5369458128078818 | p-avg = 0.025370322637551925\n",
            "\n",
            "Class = 46 | Num exemplos | train = 58 | val = 59 | F1 = 0.4 | p-avg = 0.005265719770629258\n",
            "\n",
            "Class = 47 | Num exemplos | train = 363 | val = 309 | F1 = 0.3047619047619048 | p-avg = 0.03285347780690025\n",
            "\n",
            "Class = 48 | Num exemplos | train = 14 | val = 9 | F1 = 0.06666666666666667 | p-avg = 0.0012723186957135002\n",
            "\n",
            "Class = 49 | Num exemplos | train = 65 | val = 81 | F1 = 0.32291666666666663 | p-avg = 0.005903259905295779\n",
            "\n",
            "Class = 50 | Num exemplos | train = 6 | val = 7 | F1 = 0.03389830508474576 | p-avg = 0.0005452647401176531\n",
            "\n",
            "Class = 51 | Num exemplos | train = 26 | val = 23 | F1 = 0.17910447761194032 | p-avg = 0.0023635532237043953\n",
            "\n",
            "Class = 52 | Num exemplos | train = 27 | val = 22 | F1 = 0.12030075187969926 | p-avg = 0.002450467811755098\n",
            "\n",
            "Class = 53 | Num exemplos | train = 24 | val = 15 | F1 = 0.07936507936507936 | p-avg = 0.002182593226355696\n",
            "\n",
            "Class = 54 | Num exemplos | train = 18 | val = 18 | F1 = 0.12403100775193798 | p-avg = 0.0016351057801602302\n",
            "\n",
            "Class = 55 | Num exemplos | train = 86 | val = 81 | F1 = 0.6979166666666666 | p-avg = 0.0078115727402865475\n",
            "\n",
            "Class = 56 | Num exemplos | train = 19 | val = 19 | F1 = 0.18461538461538465 | p-avg = 0.0017233865733382483\n",
            "\n",
            "Class = 57 | Num exemplos | train = 246 | val = 264 | F1 = 0.4799999999999999 | p-avg = 0.02249376850254921\n",
            "\n",
            "Class = 58 | Num exemplos | train = 47 | val = 50 | F1 = 0.5341614906832298 | p-avg = 0.0042908771431378456\n",
            "\n",
            "Class = 59 | Num exemplos | train = 157 | val = 129 | F1 = 0.4583333333333333 | p-avg = 0.014279933577165808\n",
            "\n",
            "Class = 60 | Num exemplos | train = 10 | val = 13 | F1 = 0.06451612903225806 | p-avg = 0.0009091046839106761\n",
            "\n",
            "Class = 61 | Num exemplos | train = 10 | val = 6 | F1 = 0.10256410256410257 | p-avg = 0.000907840174857632\n",
            "\n",
            "Class = 62 | Num exemplos | train = 15 | val = 20 | F1 = 0.22900763358778628 | p-avg = 0.0013642581434210454\n",
            "\n",
            "Class = 63 | Num exemplos | train = 15 | val = 12 | F1 = 0.1951219512195122 | p-avg = 0.0013625211402956837\n",
            "\n",
            "Class = 64 | Num exemplos | train = 152 | val = 138 | F1 = 0.8273092369477911 | p-avg = 0.013681374771556658\n",
            "\n",
            "Class = 65 | Num exemplos | train = 7 | val = 6 | F1 = 0.08547008547008547 | p-avg = 0.0006360152947487944\n",
            "\n",
            "Class = 66 | Num exemplos | train = 8 | val = 8 | F1 = 0.10084033613445378 | p-avg = 0.0007270794139048445\n",
            "\n",
            "Class = 67 | Num exemplos | train = 32 | val = 29 | F1 = 0.042857142857142864 | p-avg = 0.0029098656092136316\n",
            "\n",
            "Class = 68 | Num exemplos | train = 43 | val = 64 | F1 = 0.3314285714285714 | p-avg = 0.003914664671875711\n",
            "\n",
            "Class = 69 | Num exemplos | train = 21 | val = 23 | F1 = 0.25373134328358204 | p-avg = 0.0019119167102436502\n",
            "\n",
            "Class = 70 | Num exemplos | train = 29 | val = 22 | F1 = 0.2406015037593985 | p-avg = 0.002635101542930448\n",
            "\n",
            "Class = 71 | Num exemplos | train = 11 | val = 15 | F1 = 0.11111111111111109 | p-avg = 0.0009987450108728852\n",
            "\n",
            "Class = 72 | Num exemplos | train = 7 | val = 9 | F1 = 0.03333333333333333 | p-avg = 0.0006359808215037223\n",
            "\n",
            "Class = 73 | Num exemplos | train = 23 | val = 19 | F1 = 0.19999999999999998 | p-avg = 0.0020828842277077837\n",
            "\n",
            "Class = 74 | Num exemplos | train = 7 | val = 3 | F1 = 0.052631578947368425 | p-avg = 0.000635885170459242\n",
            "\n",
            "Class = 75 | Num exemplos | train = 117 | val = 110 | F1 = 0.6334841628959276 | p-avg = 0.010402727555654936\n",
            "\n",
            "Class = 76 | Num exemplos | train = 7 | val = 3 | F1 = 0.03508771929824561 | p-avg = 0.0006359379124374679\n",
            "\n",
            "Class = 77 | Num exemplos | train = 48 | val = 46 | F1 = 0.2165605095541401 | p-avg = 0.004362435193700101\n",
            "\n",
            "Class = 78 | Num exemplos | train = 86 | val = 104 | F1 = 0.7441860465116278 | p-avg = 0.007800594157292124\n",
            "\n",
            "Class = 79 | Num exemplos | train = 11 | val = 13 | F1 = 0.1935483870967742 | p-avg = 0.0009994320749702936\n",
            "\n",
            "Class = 80 | Num exemplos | train = 187 | val = 200 | F1 = 0.1414790996784566 | p-avg = 0.016900348862779243\n",
            "\n",
            "Class = 81 | Num exemplos | train = 20 | val = 17 | F1 = 0.10937499999999999 | p-avg = 0.0018177959167522356\n",
            "\n",
            "Class = 82 | Num exemplos | train = 5 | val = 6 | F1 = 0.05128205128205129 | p-avg = 0.00045435865263297737\n",
            "\n",
            "Class = 83 | Num exemplos | train = 5 | val = 5 | F1 = 0.05172413793103448 | p-avg = 0.00045434465919671856\n",
            "\n",
            "Class = 84 | Num exemplos | train = 6 | val = 8 | F1 = 0.10084033613445378 | p-avg = 0.0005452600158317318\n",
            "\n",
            "Class = 86 | Num exemplos | train = 8 | val = 5 | F1 = 0.06896551724137931 | p-avg = 0.0007264857159081034\n",
            "\n",
            "Class = 87 | Num exemplos | train = 44 | val = 42 | F1 = 0.326797385620915 | p-avg = 0.004003856235937946\n",
            "\n",
            "Class = 88 | Num exemplos | train = 66 | val = 95 | F1 = 0.34951456310679613 | p-avg = 0.0059848011701347575\n",
            "\n",
            "Class = 89 | Num exemplos | train = 35 | val = 43 | F1 = 0.4285714285714286 | p-avg = 0.003172572604439088\n",
            "\n",
            "Class = 90 | Num exemplos | train = 8 | val = 10 | F1 = 0.06611570247933883 | p-avg = 0.0007267138348783015\n",
            "\n",
            "Class = 91 | Num exemplos | train = 8 | val = 8 | F1 = 0.1176470588235294 | p-avg = 0.0007265288648063725\n",
            "\n",
            "Class = 93 | Num exemplos | train = 12 | val = 10 | F1 = 0.09917355371900827 | p-avg = 0.0010904653461288444\n",
            "\n",
            "Class = 94 | Num exemplos | train = 4 | val = 9 | F1 = 0.08333333333333334 | p-avg = 0.00036357118729662816\n",
            "\n",
            "Class = 97 | Num exemplos | train = 9 | val = 12 | F1 = 0.14634146341463414 | p-avg = 0.0008183995306035109\n",
            "\n",
            "Class = 98 | Num exemplos | train = 10 | val = 17 | F1 = 0.23437500000000003 | p-avg = 0.0009085255521548276\n",
            "\n",
            "Class = 99 | Num exemplos | train = 13 | val = 5 | F1 = 0.08620689655172413 | p-avg = 0.0011815806082100511\n",
            "\n",
            "Class = 100 | Num exemplos | train = 9 | val = 10 | F1 = 0.08264462809917356 | p-avg = 0.0008182378285351019\n",
            "\n",
            "Class = 101 | Num exemplos | train = 46 | val = 57 | F1 = 0.6190476190476191 | p-avg = 0.004183372863841605\n",
            "\n",
            "Class = 102 | Num exemplos | train = 49 | val = 42 | F1 = 0.326797385620915 | p-avg = 0.004444325634565322\n",
            "\n",
            "Class = 103 | Num exemplos | train = 51 | val = 39 | F1 = 0.16 | p-avg = 0.004620415971266953\n",
            "\n",
            "Class = 104 | Num exemplos | train = 21 | val = 23 | F1 = 0.10447761194029849 | p-avg = 0.0019082359811818253\n",
            "\n",
            "Class = 105 | Num exemplos | train = 6 | val = 8 | F1 = 0.05042016806722689 | p-avg = 0.0005451151962320301\n",
            "\n",
            "Class = 106 | Num exemplos | train = 18 | val = 19 | F1 = 0.10769230769230768 | p-avg = 0.0016353607439408193\n",
            "\n",
            "Class = 107 | Num exemplos | train = 40 | val = 41 | F1 = 0.2368421052631579 | p-avg = 0.0036273459092409136\n",
            "\n",
            "Class = 108 | Num exemplos | train = 47 | val = 41 | F1 = 0.10526315789473685 | p-avg = 0.004265186549260052\n",
            "\n",
            "Class = 109 | Num exemplos | train = 17 | val = 20 | F1 = 0.015267175572519083 | p-avg = 0.0015449432426172794\n",
            "\n",
            "Class = 111 | Num exemplos | train = 13 | val = 11 | F1 = 0.11475409836065573 | p-avg = 0.0011806555000698608\n",
            "\n",
            "Class = 112 | Num exemplos | train = 12 | val = 17 | F1 = 0.23437500000000003 | p-avg = 0.001089569086608329\n",
            "\n",
            "Class = 113 | Num exemplos | train = 21 | val = 27 | F1 = 0.2028985507246377 | p-avg = 0.0019111727119839894\n",
            "\n",
            "Class = 114 | Num exemplos | train = 7 | val = 7 | F1 = 0.11864406779661016 | p-avg = 0.000636214378553149\n",
            "\n",
            "Class = 115 | Num exemplos | train = 6 | val = 11 | F1 = 0.180327868852459 | p-avg = 0.0005451153215363609\n",
            "\n",
            "Class = 116 | Num exemplos | train = 61 | val = 40 | F1 = 0.37086092715231783 | p-avg = 0.0055304885670591445\n",
            "\n",
            "Class = 117 | Num exemplos | train = 8 | val = 10 | F1 = 0.033057851239669415 | p-avg = 0.0007270371888557171\n",
            "\n",
            "Class = 118 | Num exemplos | train = 6 | val = 4 | F1 = 0.052173913043478265 | p-avg = 0.0005453032634771588\n",
            "\n",
            "Class = 120 | Num exemplos | train = 84 | val = 117 | F1 = 0.9298245614035088 | p-avg = 0.0076667811235021635\n",
            "\n",
            "Class = 121 | Num exemplos | train = 5 | val = 6 | F1 = 0.08547008547008547 | p-avg = 0.0004543980405790715\n",
            "\n",
            "Class = 123 | Num exemplos | train = 4 | val = 6 | F1 = 0.0 | p-avg = 0.0003635100045528555\n",
            "\n",
            "Class = 124 | Num exemplos | train = 11 | val = 18 | F1 = 0.23255813953488372 | p-avg = 0.001000108030129207\n",
            "\n",
            "Class = 125 | Num exemplos | train = 6 | val = 6 | F1 = 0.08547008547008547 | p-avg = 0.0005453363612427007\n",
            "\n",
            "Class = 126 | Num exemplos | train = 6 | val = 7 | F1 = 0.05084745762711865 | p-avg = 0.0005451352559276263\n",
            "\n",
            "Class = 127 | Num exemplos | train = 11 | val = 15 | F1 = 0.20634920634920634 | p-avg = 0.0009981410878048859\n",
            "\n",
            "Class = 128 | Num exemplos | train = 186 | val = 155 | F1 = 0.12030075187969924 | p-avg = 0.016838942432713066\n",
            "\n",
            "Class = 129 | Num exemplos | train = 23 | val = 42 | F1 = 0.5359477124183006 | p-avg = 0.002090957435674079\n",
            "\n",
            "Class = 130 | Num exemplos | train = 5 | val = 14 | F1 = 0.048 | p-avg = 0.00045441702299227305\n",
            "\n",
            "Class = 131 | Num exemplos | train = 10 | val = 4 | F1 = 0.06956521739130435 | p-avg = 0.0009090862665668146\n",
            "\n",
            "Class = 132 | Num exemplos | train = 4 | val = 7 | F1 = 0.1016949152542373 | p-avg = 0.00036348063007324196\n",
            "\n",
            "Class = 133 | Num exemplos | train = 14 | val = 9 | F1 = 0.13333333333333333 | p-avg = 0.001271329889411499\n",
            "\n",
            "Class = 134 | Num exemplos | train = 33 | val = 34 | F1 = 0.303448275862069 | p-avg = 0.0029908411691671067\n",
            "\n",
            "Class = 135 | Num exemplos | train = 16 | val = 19 | F1 = 0.07692307692307693 | p-avg = 0.0014534274276851334\n",
            "\n",
            "Class = 136 | Num exemplos | train = 6 | val = 6 | F1 = 0.10256410256410257 | p-avg = 0.0005450843388938494\n",
            "\n",
            "Class = 137 | Num exemplos | train = 65 | val = 59 | F1 = 0.5647058823529412 | p-avg = 0.005919681907306467\n",
            "\n",
            "Class = 140 | Num exemplos | train = 11 | val = 13 | F1 = 0.1129032258064516 | p-avg = 0.0009993395000294084\n",
            "\n",
            "Class = 141 | Num exemplos | train = 37 | val = 24 | F1 = 0.16296296296296295 | p-avg = 0.0033629538312344833\n",
            "\n",
            "Class = 142 | Num exemplos | train = 78 | val = 82 | F1 = 0.1761658031088083 | p-avg = 0.007072675606058932\n",
            "\n",
            "Class = 143 | Num exemplos | train = 10 | val = 11 | F1 = 0.11475409836065573 | p-avg = 0.0009089411198905922\n",
            "\n",
            "Class = 144 | Num exemplos | train = 2 | val = 8 | F1 = 0.06722689075630252 | p-avg = 0.00018180798226510202\n",
            "\n",
            "Class = 145 | Num exemplos | train = 25 | val = 13 | F1 = 0.16129032258064516 | p-avg = 0.0022661850671962247\n",
            "\n",
            "Class = 146 | Num exemplos | train = 36 | val = 38 | F1 = 0.4161073825503355 | p-avg = 0.0032611806406767445\n",
            "\n",
            "Class = 147 | Num exemplos | train = 6 | val = 4 | F1 = 0.017391304347826087 | p-avg = 0.000544949267356159\n",
            "\n",
            "Class = 148 | Num exemplos | train = 33 | val = 39 | F1 = 0.25333333333333335 | p-avg = 0.0029980434154401\n",
            "\n",
            "Class = 149 | Num exemplos | train = 16 | val = 23 | F1 = 0.29850746268656714 | p-avg = 0.0014553055496930394\n",
            "\n",
            "Class = 150 | Num exemplos | train = 17 | val = 18 | F1 = 0.13953488372093023 | p-avg = 0.001542581780445461\n",
            "\n",
            "Class = 151 | Num exemplos | train = 9 | val = 5 | F1 = 0.06896551724137931 | p-avg = 0.0008178689268858484\n",
            "\n",
            "Class = 152 | Num exemplos | train = 45 | val = 43 | F1 = 0.3376623376623376 | p-avg = 0.004089806121262676\n",
            "\n",
            "Class = 153 | Num exemplos | train = 11 | val = 1 | F1 = 0.01785714285714286 | p-avg = 0.0009993610235051523\n",
            "\n",
            "Class = 154 | Num exemplos | train = 24 | val = 18 | F1 = 0.13953488372093023 | p-avg = 0.002180794638906407\n",
            "\n",
            "Class = 155 | Num exemplos | train = 10 | val = 10 | F1 = 0.1487603305785124 | p-avg = 0.0009085389022564426\n",
            "\n",
            "Class = 156 | Num exemplos | train = 12 | val = 5 | F1 = 0.05172413793103448 | p-avg = 0.0010908379420561394\n",
            "\n",
            "Class = 157 | Num exemplos | train = 19 | val = 19 | F1 = 0.10769230769230768 | p-avg = 0.0017267911952727293\n",
            "\n",
            "Class = 158 | Num exemplos | train = 68 | val = 75 | F1 = 0.2903225806451613 | p-avg = 0.00617742006261802\n",
            "\n",
            "Class = 159 | Num exemplos | train = 24 | val = 31 | F1 = 0.36619718309859156 | p-avg = 0.0021786215654424563\n",
            "\n",
            "Class = 160 | Num exemplos | train = 158 | val = 160 | F1 = 0.45018450184501846 | p-avg = 0.014317971838248704\n",
            "\n",
            "Class = 161 | Num exemplos | train = 10 | val = 11 | F1 = 0.09836065573770493 | p-avg = 0.0009088994791091097\n",
            "\n",
            "Class = 162 | Num exemplos | train = 47 | val = 49 | F1 = 0.11249999999999999 | p-avg = 0.004267076126474985\n",
            "\n",
            "Class = 163 | Num exemplos | train = 18 | val = 14 | F1 = 0.11199999999999999 | p-avg = 0.0016315895749754146\n",
            "\n",
            "Class = 165 | Num exemplos | train = 33 | val = 48 | F1 = 0.5157232704402516 | p-avg = 0.0030032183847695307\n",
            "\n",
            "Class = 166 | Num exemplos | train = 10 | val = 3 | F1 = 0.052631578947368425 | p-avg = 0.0009090864205111666\n",
            "\n",
            "Class = 167 | Num exemplos | train = 13 | val = 12 | F1 = 0.14634146341463414 | p-avg = 0.001180852927914316\n",
            "\n",
            "Class = 168 | Num exemplos | train = 9 | val = 6 | F1 = 0.06837606837606838 | p-avg = 0.0008177389535721959\n",
            "\n",
            "Class = 169 | Num exemplos | train = 17 | val = 30 | F1 = 0.31205673758865243 | p-avg = 0.0015459557703425696\n",
            "\n",
            "Class = 170 | Num exemplos | train = 25 | val = 31 | F1 = 0.39436619718309857 | p-avg = 0.0022763005677419504\n",
            "\n",
            "Class = 171 | Num exemplos | train = 31 | val = 28 | F1 = 0.33093525179856115 | p-avg = 0.0028203573335765357\n",
            "\n",
            "Class = 172 | Num exemplos | train = 127 | val = 98 | F1 = 0.1626794258373206 | p-avg = 0.011480589704671902\n",
            "\n",
            "Class = 173 | Num exemplos | train = 6 | val = 7 | F1 = 0.1016949152542373 | p-avg = 0.0005451288357412482\n",
            "\n",
            "Class = 174 | Num exemplos | train = 11 | val = 14 | F1 = 0.17600000000000002 | p-avg = 0.0009993457229188645\n",
            "\n",
            "Class = 175 | Num exemplos | train = 21 | val = 21 | F1 = 0.15151515151515152 | p-avg = 0.0019092295858926301\n",
            "\n",
            "Class = 176 | Num exemplos | train = 5 | val = 6 | F1 = 0.05128205128205129 | p-avg = 0.00045447729192631977\n",
            "\n",
            "Class = 177 | Num exemplos | train = 30 | val = 30 | F1 = 0.4113475177304964 | p-avg = 0.002727713313562344\n",
            "\n",
            "Class = 178 | Num exemplos | train = 12 | val = 17 | F1 = 0.23437500000000003 | p-avg = 0.0010916450399575631\n",
            "\n",
            "Class = 179 | Num exemplos | train = 10 | val = 7 | F1 = 0.11864406779661016 | p-avg = 0.0009083816486028807\n",
            "\n",
            "Class = 180 | Num exemplos | train = 11 | val = 7 | F1 = 0.11864406779661016 | p-avg = 0.0010006514669560023\n",
            "\n",
            "Class = 181 | Num exemplos | train = 5 | val = 8 | F1 = 0.1176470588235294 | p-avg = 0.0004545092262238543\n",
            "\n",
            "Class = 182 | Num exemplos | train = 52 | val = 52 | F1 = 0.5766871165644172 | p-avg = 0.004734187770185764\n",
            "\n",
            "Class = 183 | Num exemplos | train = 40 | val = 29 | F1 = 0.2142857142857143 | p-avg = 0.003637147385656531\n",
            "\n",
            "Class = 184 | Num exemplos | train = 15 | val = 19 | F1 = 0.04615384615384616 | p-avg = 0.00136395842445329\n",
            "\n",
            "Class = 185 | Num exemplos | train = 5 | val = 10 | F1 = 0.11570247933884296 | p-avg = 0.0004545710717883308\n",
            "\n",
            "Class = 186 | Num exemplos | train = 38 | val = 37 | F1 = 0.2972972972972973 | p-avg = 0.003458077714184882\n",
            "\n",
            "Class = 187 | Num exemplos | train = 44 | val = 48 | F1 = 0.5408805031446541 | p-avg = 0.004004290926012591\n",
            "\n",
            "Class = 188 | Num exemplos | train = 10 | val = 7 | F1 = 0.11864406779661016 | p-avg = 0.0009087548605955863\n",
            "\n",
            "Class = 189 | Num exemplos | train = 6 | val = 4 | F1 = 0.052173913043478265 | p-avg = 0.0005454025030013182\n",
            "\n",
            "Class = 190 | Num exemplos | train = 16 | val = 18 | F1 = 0.24806201550387597 | p-avg = 0.0014557778378653404\n",
            "\n",
            "Class = 191 | Num exemplos | train = 10 | val = 13 | F1 = 0.0967741935483871 | p-avg = 0.0009093079610710349\n",
            "\n",
            "Class = 192 | Num exemplos | train = 17 | val = 15 | F1 = 0.20634920634920634 | p-avg = 0.0015431860358465352\n",
            "\n",
            "Class = 193 | Num exemplos | train = 23 | val = 27 | F1 = 0.391304347826087 | p-avg = 0.0020919348449930084\n",
            "\n",
            "Class = 194 | Num exemplos | train = 4 | val = 9 | F1 = 0.016666666666666666 | p-avg = 0.00036365672439215603\n",
            "\n",
            "Class = 195 | Num exemplos | train = 63 | val = 80 | F1 = 0.3979057591623037 | p-avg = 0.005718532214503787\n",
            "\n",
            "Class = 196 | Num exemplos | train = 13 | val = 7 | F1 = 0.11864406779661016 | p-avg = 0.0011799917916604182\n",
            "\n",
            "Class = 197 | Num exemplos | train = 46 | val = 62 | F1 = 0.2890173410404624 | p-avg = 0.004177674433189138\n",
            "\n",
            "Class = 198 | Num exemplos | train = 4 | val = 8 | F1 = 0.01680672268907563 | p-avg = 0.00036345980763638713\n",
            "\n",
            "Class = 199 | Num exemplos | train = 151 | val = 117 | F1 = 0.23684210526315788 | p-avg = 0.01367674916369464\n",
            "\n",
            "Class = 200 | Num exemplos | train = 10 | val = 17 | F1 = 0.0625 | p-avg = 0.0009085185061901007\n",
            "\n",
            "Class = 201 | Num exemplos | train = 139 | val = 143 | F1 = 0.4488188976377952 | p-avg = 0.012634688267976816\n",
            "\n",
            "Class = 202 | Num exemplos | train = 9 | val = 16 | F1 = 0.06299212598425197 | p-avg = 0.0008183175125393377\n",
            "\n",
            "Class = 203 | Num exemplos | train = 17 | val = 11 | F1 = 0.13114754098360656 | p-avg = 0.0015431168749367808\n",
            "\n",
            "Class = 204 | Num exemplos | train = 23 | val = 23 | F1 = 0.13432835820895525 | p-avg = 0.0020918776827438964\n",
            "\n",
            "Class = 205 | Num exemplos | train = 5 | val = 7 | F1 = 0.11864406779661016 | p-avg = 0.00045421247288733894\n",
            "\n",
            "Class = 206 | Num exemplos | train = 5 | val = 5 | F1 = 0.08620689655172413 | p-avg = 0.00045428454081174885\n",
            "\n",
            "Class = 207 | Num exemplos | train = 16 | val = 13 | F1 = 0.12903225806451613 | p-avg = 0.0014532907733508242\n",
            "\n",
            "Class = 208 | Num exemplos | train = 10 | val = 2 | F1 = 0.035398230088495575 | p-avg = 0.0009085926824433544\n",
            "\n",
            "Class = 209 | Num exemplos | train = 8 | val = 7 | F1 = 0.05084745762711865 | p-avg = 0.0007267714334734932\n",
            "\n",
            "Class = 210 | Num exemplos | train = 10 | val = 6 | F1 = 0.10256410256410257 | p-avg = 0.0009089967022446769\n",
            "\n",
            "Class = 211 | Num exemplos | train = 29 | val = 23 | F1 = 0.2238805970149254 | p-avg = 0.002637362875637293\n",
            "\n",
            "Class = 212 | Num exemplos | train = 37 | val = 20 | F1 = 0.24427480916030533 | p-avg = 0.0033502299648975006\n",
            "\n",
            "Class = 213 | Num exemplos | train = 6 | val = 5 | F1 = 0.08620689655172413 | p-avg = 0.0005453287750390895\n",
            "\n",
            "Class = 214 | Num exemplos | train = 12 | val = 8 | F1 = 0.10084033613445378 | p-avg = 0.001090886711378745\n",
            "\n",
            "Class = 215 | Num exemplos | train = 12 | val = 10 | F1 = 0.1487603305785124 | p-avg = 0.0010907352071729435\n",
            "\n",
            "Class = 216 | Num exemplos | train = 7 | val = 14 | F1 = 0.16 | p-avg = 0.0006358765019358802\n",
            "\n",
            "Class = 217 | Num exemplos | train = 10 | val = 14 | F1 = 0.096 | p-avg = 0.0009081113400335112\n",
            "\n",
            "Class = 218 | Num exemplos | train = 8 | val = 6 | F1 = 0.10256410256410257 | p-avg = 0.0007274297506405167\n",
            "\n",
            "Class = 219 | Num exemplos | train = 37 | val = 37 | F1 = 0.13513513513513514 | p-avg = 0.0033573294415890392\n",
            "\n",
            "Class = 220 | Num exemplos | train = 11 | val = 16 | F1 = 0.2362204724409449 | p-avg = 0.000999405452337809\n",
            "\n",
            "Class = 221 | Num exemplos | train = 42 | val = 59 | F1 = 0.21176470588235297 | p-avg = 0.003818117669966805\n",
            "\n",
            "Class = 222 | Num exemplos | train = 73 | val = 64 | F1 = 0.6171428571428572 | p-avg = 0.006626355600553774\n",
            "\n",
            "Class = 223 | Num exemplos | train = 24 | val = 35 | F1 = 0.3150684931506849 | p-avg = 0.002184824877115989\n",
            "\n",
            "Class = 224 | Num exemplos | train = 25 | val = 30 | F1 = 0.25531914893617025 | p-avg = 0.0022696220597721427\n",
            "\n",
            "Class = 225 | Num exemplos | train = 29 | val = 30 | F1 = 0.3404255319148936 | p-avg = 0.0026250974103532053\n",
            "\n",
            "Class = 226 | Num exemplos | train = 64 | val = 62 | F1 = 0.27745664739884396 | p-avg = 0.00582149833158865\n",
            "\n",
            "Class = 228 | Num exemplos | train = 37 | val = 31 | F1 = 0.36619718309859156 | p-avg = 0.0033598831245540022\n",
            "\n",
            "Class = 229 | Num exemplos | train = 6 | val = 6 | F1 = 0.10256410256410257 | p-avg = 0.0005454669751594242\n",
            "\n",
            "Class = 230 | Num exemplos | train = 21 | val = 27 | F1 = 0.10144927536231885 | p-avg = 0.001910981493929087\n",
            "\n",
            "Class = 231 | Num exemplos | train = 12 | val = 6 | F1 = 0.08547008547008547 | p-avg = 0.0010900540541464979\n",
            "\n",
            "Class = 232 | Num exemplos | train = 12 | val = 11 | F1 = 0.09836065573770493 | p-avg = 0.0010914736224148542\n",
            "\n",
            "Class = 233 | Num exemplos | train = 26 | val = 24 | F1 = 0.08888888888888889 | p-avg = 0.0023615146107152404\n",
            "\n",
            "Class = 234 | Num exemplos | train = 26 | val = 26 | F1 = 0.058394160583941604 | p-avg = 0.0023668237899816444\n",
            "\n",
            "Class = 235 | Num exemplos | train = 4 | val = 7 | F1 = 0.06779661016949153 | p-avg = 0.0003634737460965572\n",
            "\n",
            "Class = 236 | Num exemplos | train = 30 | val = 26 | F1 = 0.291970802919708 | p-avg = 0.002721274032474585\n",
            "\n",
            "Class = 237 | Num exemplos | train = 21 | val = 18 | F1 = 0.0 | p-avg = 0.0019077701882254086\n",
            "\n",
            "Class = 238 | Num exemplos | train = 10 | val = 9 | F1 = 0.08333333333333334 | p-avg = 0.0009091394578033927\n",
            "\n",
            "Class = 239 | Num exemplos | train = 22 | val = 22 | F1 = 0.2406015037593985 | p-avg = 0.001998240575411626\n",
            "\n",
            "Class = 240 | Num exemplos | train = 18 | val = 32 | F1 = 0.1818181818181818 | p-avg = 0.0016361334731870242\n",
            "\n",
            "Class = 241 | Num exemplos | train = 9 | val = 5 | F1 = 0.017241379310344827 | p-avg = 0.0008176305262092574\n",
            "\n",
            "Class = 242 | Num exemplos | train = 29 | val = 24 | F1 = 0.26666666666666666 | p-avg = 0.002635710668576685\n",
            "\n",
            "Class = 243 | Num exemplos | train = 10 | val = 4 | F1 = 0.06956521739130435 | p-avg = 0.0009096038493085126\n",
            "\n",
            "Class = 244 | Num exemplos | train = 6 | val = 4 | F1 = 0.06956521739130435 | p-avg = 0.0005452895443381221\n",
            "\n",
            "Class = 245 | Num exemplos | train = 3 | val = 8 | F1 = 0.08403361344537814 | p-avg = 0.0002727328548594253\n",
            "\n",
            "Class = 246 | Num exemplos | train = 16 | val = 23 | F1 = 0.17910447761194032 | p-avg = 0.001454187546198873\n",
            "\n",
            "Class = 247 | Num exemplos | train = 10 | val = 8 | F1 = 0.13445378151260504 | p-avg = 0.0009093025841024602\n",
            "\n",
            "Class = 248 | Num exemplos | train = 13 | val = 15 | F1 = 0.031746031746031744 | p-avg = 0.0011803006814108754\n",
            "\n",
            "Class = 249 | Num exemplos | train = 6 | val = 11 | F1 = 0.180327868852459 | p-avg = 0.0005450569646004515\n",
            "\n",
            "Class = 250 | Num exemplos | train = 19 | val = 19 | F1 = 0.26153846153846155 | p-avg = 0.001727042342031678\n",
            "\n",
            "Class = 252 | Num exemplos | train = 51 | val = 54 | F1 = 0.2303030303030303 | p-avg = 0.0046501423385848705\n",
            "\n",
            "Class = 253 | Num exemplos | train = 65 | val = 72 | F1 = 0.3060109289617486 | p-avg = 0.005906494565782757\n",
            "\n",
            "Class = 254 | Num exemplos | train = 107 | val = 120 | F1 = 0.14718614718614717 | p-avg = 0.009695040178246113\n",
            "\n",
            "Class = 255 | Num exemplos | train = 4 | val = 9 | F1 = 0.1 | p-avg = 0.0003635715746145774\n",
            "\n",
            "Class = 256 | Num exemplos | train = 15 | val = 16 | F1 = 0.2362204724409449 | p-avg = 0.0013642664463627862\n",
            "\n",
            "Class = 257 | Num exemplos | train = 210 | val = 203 | F1 = 0.5796178343949044 | p-avg = 0.019183547244681187\n",
            "\n",
            "Class = 258 | Num exemplos | train = 35 | val = 43 | F1 = 0.4415584415584415 | p-avg = 0.0031786049880102992\n",
            "\n",
            "Class = 259 | Num exemplos | train = 10 | val = 12 | F1 = 0.1951219512195122 | p-avg = 0.0009085273140051867\n",
            "\n",
            "Class = 260 | Num exemplos | train = 67 | val = 72 | F1 = 0.6775956284153005 | p-avg = 0.006091636349495238\n",
            "\n",
            "Class = 261 | Num exemplos | train = 8 | val = 14 | F1 = 0.17600000000000002 | p-avg = 0.0007268833007516263\n",
            "\n",
            "Class = 262 | Num exemplos | train = 6 | val = 9 | F1 = 0.13333333333333333 | p-avg = 0.0005452670720195963\n",
            "\n",
            "Class = 263 | Num exemplos | train = 27 | val = 40 | F1 = 0.4768211920529801 | p-avg = 0.0024604585883933766\n",
            "\n",
            "Class = 264 | Num exemplos | train = 8 | val = 7 | F1 = 0.11864406779661016 | p-avg = 0.000726762986455857\n",
            "\n",
            "Class = 266 | Num exemplos | train = 7 | val = 5 | F1 = 0.05172413793103448 | p-avg = 0.0006357914936000655\n",
            "\n",
            "Class = 267 | Num exemplos | train = 94 | val = 72 | F1 = 0.6120218579234972 | p-avg = 0.008520392499679463\n",
            "\n",
            "Class = 268 | Num exemplos | train = 4 | val = 7 | F1 = 0.11864406779661016 | p-avg = 0.0003634734958173917\n",
            "\n",
            "Class = 269 | Num exemplos | train = 49 | val = 53 | F1 = 0.4878048780487804 | p-avg = 0.004457980239945148\n",
            "\n",
            "Class = 270 | Num exemplos | train = 7 | val = 5 | F1 = 0.06896551724137931 | p-avg = 0.0006363926244349523\n",
            "\n",
            "Class = 271 | Num exemplos | train = 7 | val = 6 | F1 = 0.08547008547008547 | p-avg = 0.0006362079970983589\n",
            "\n",
            "Class = 272 | Num exemplos | train = 17 | val = 9 | F1 = 0.13333333333333333 | p-avg = 0.0015446629020387384\n",
            "\n",
            "Class = 273 | Num exemplos | train = 59 | val = 65 | F1 = 0.5681818181818182 | p-avg = 0.005371795145617594\n",
            "\n",
            "Class = 274 | Num exemplos | train = 32 | val = 25 | F1 = 0.1323529411764706 | p-avg = 0.0029062370794472876\n",
            "\n",
            "Class = 275 | Num exemplos | train = 12 | val = 15 | F1 = 0.11111111111111109 | p-avg = 0.001089915643919894\n",
            "\n",
            "Class = 276 | Num exemplos | train = 15 | val = 16 | F1 = 0.25196850393700787 | p-avg = 0.0013621051600408763\n",
            "\n",
            "Class = 277 | Num exemplos | train = 156 | val = 161 | F1 = 0.3235294117647059 | p-avg = 0.014125893989152776\n",
            "\n",
            "Class = 278 | Num exemplos | train = 15 | val = 19 | F1 = 0.26153846153846155 | p-avg = 0.0013620115719724054\n",
            "\n",
            "Class = 279 | Num exemplos | train = 10 | val = 7 | F1 = 0.11864406779661016 | p-avg = 0.0009082056941588269\n",
            "\n",
            "Class = 280 | Num exemplos | train = 75 | val = 77 | F1 = 0.13829787234042554 | p-avg = 0.00680429308605157\n",
            "\n",
            "Class = 281 | Num exemplos | train = 106 | val = 117 | F1 = 0.22807017543859648 | p-avg = 0.009628997733240632\n",
            "\n",
            "Class = 282 | Num exemplos | train = 15 | val = 20 | F1 = 0.18320610687022904 | p-avg = 0.0013628823081172081\n",
            "\n",
            "Class = 283 | Num exemplos | train = 49 | val = 60 | F1 = 0.2807017543859649 | p-avg = 0.004457009560954555\n",
            "\n",
            "Class = 284 | Num exemplos | train = 6 | val = 5 | F1 = 0.034482758620689655 | p-avg = 0.0005450349826181317\n",
            "\n",
            "Class = 285 | Num exemplos | train = 21 | val = 24 | F1 = 0.13333333333333333 | p-avg = 0.0019048238909949923\n",
            "\n",
            "Class = 286 | Num exemplos | train = 104 | val = 100 | F1 = 0.5118483412322276 | p-avg = 0.009448532866530919\n",
            "\n",
            "Class = 287 | Num exemplos | train = 9 | val = 7 | F1 = 0.06779661016949153 | p-avg = 0.0008178995766138913\n",
            "\n",
            "Class = 288 | Num exemplos | train = 9 | val = 6 | F1 = 0.08547008547008547 | p-avg = 0.0008178534187957139\n",
            "\n",
            "Class = 290 | Num exemplos | train = 122 | val = 118 | F1 = 0.5589519650655022 | p-avg = 0.011086956272137932\n",
            "\n",
            "Class = 291 | Num exemplos | train = 11 | val = 17 | F1 = 0.0625 | p-avg = 0.0009989670185171769\n",
            "\n",
            "Class = 292 | Num exemplos | train = 6 | val = 9 | F1 = 0.1 | p-avg = 0.0005452665728880109\n",
            "\n",
            "Class = 293 | Num exemplos | train = 45 | val = 36 | F1 = 0.3129251700680272 | p-avg = 0.004091989880930039\n",
            "\n",
            "Class = 294 | Num exemplos | train = 4 | val = 8 | F1 = 0.1176470588235294 | p-avg = 0.00036351677842186005\n",
            "\n",
            "Class = 295 | Num exemplos | train = 23 | val = 22 | F1 = 0.28571428571428575 | p-avg = 0.0020868342699808663\n",
            "\n",
            "Class = 296 | Num exemplos | train = 7 | val = 12 | F1 = 0.1951219512195122 | p-avg = 0.0006361531772114479\n",
            "\n",
            "Class = 297 | Num exemplos | train = 84 | val = 59 | F1 = 0.5411764705882354 | p-avg = 0.0076160399779744105\n",
            "\n",
            "Class = 299 | Num exemplos | train = 13 | val = 12 | F1 = 0.1951219512195122 | p-avg = 0.0011816423050665435\n",
            "\n",
            "Class = 300 | Num exemplos | train = 3 | val = 9 | F1 = 0.13333333333333333 | p-avg = 0.0002727077036235863\n",
            "\n",
            "Class = 302 | Num exemplos | train = 21 | val = 26 | F1 = 0.23357664233576642 | p-avg = 0.0019084852292361718\n",
            "\n",
            "Class = 303 | Num exemplos | train = 48 | val = 39 | F1 = 0.17333333333333334 | p-avg = 0.004367007624233516\n",
            "\n",
            "Class = 304 | Num exemplos | train = 13 | val = 4 | F1 = 0.06956521739130435 | p-avg = 0.0011818651998906251\n",
            "\n",
            "Class = 305 | Num exemplos | train = 22 | val = 20 | F1 = 0.09160305343511452 | p-avg = 0.0020009712093922265\n",
            "\n",
            "Class = 306 | Num exemplos | train = 24 | val = 21 | F1 = 0.16666666666666669 | p-avg = 0.0021808418975804\n",
            "\n",
            "Class = 307 | Num exemplos | train = 251 | val = 274 | F1 = 0.2077922077922078 | p-avg = 0.02285462591290224\n",
            "\n",
            "Class = 308 | Num exemplos | train = 28 | val = 24 | F1 = 0.13333333333333333 | p-avg = 0.0025483905781547448\n",
            "\n",
            "Class = 309 | Num exemplos | train = 4 | val = 6 | F1 = 0.05128205128205129 | p-avg = 0.00036352534391416317\n",
            "\n",
            "Class = 310 | Num exemplos | train = 6 | val = 6 | F1 = 0.03418803418803419 | p-avg = 0.0005453751462409851\n",
            "\n",
            "Class = 311 | Num exemplos | train = 211 | val = 235 | F1 = 0.28901734104046245 | p-avg = 0.019221860413053758\n",
            "\n",
            "Class = 312 | Num exemplos | train = 89 | val = 84 | F1 = 0.2153846153846154 | p-avg = 0.00809788716272278\n",
            "\n",
            "Class = 313 | Num exemplos | train = 25 | val = 13 | F1 = 0.12903225806451613 | p-avg = 0.002271132678287301\n",
            "\n",
            "Class = 314 | Num exemplos | train = 164 | val = 159 | F1 = 0.15555555555555553 | p-avg = 0.01495509886548992\n",
            "\n",
            "Class = 315 | Num exemplos | train = 55 | val = 47 | F1 = 0.1518987341772152 | p-avg = 0.004989615289920406\n",
            "\n",
            "Class = 316 | Num exemplos | train = 33 | val = 26 | F1 = 0.291970802919708 | p-avg = 0.0030052973326339483\n",
            "\n",
            "Class = 317 | Num exemplos | train = 7 | val = 3 | F1 = 0.017543859649122806 | p-avg = 0.0006360179498263365\n",
            "\n",
            "Class = 318 | Num exemplos | train = 22 | val = 15 | F1 = 0.14285714285714288 | p-avg = 0.0019963262439662618\n",
            "\n",
            "Class = 319 | Num exemplos | train = 9 | val = 15 | F1 = 0.19047619047619047 | p-avg = 0.0008179136688487972\n",
            "\n",
            "Class = 320 | Num exemplos | train = 101 | val = 98 | F1 = 0.3923444976076555 | p-avg = 0.009156283243667957\n",
            "\n",
            "Class = 321 | Num exemplos | train = 22 | val = 20 | F1 = 0.22900763358778628 | p-avg = 0.0019999134185996015\n",
            "\n",
            "Class = 322 | Num exemplos | train = 387 | val = 402 | F1 = 0.4093567251461988 | p-avg = 0.03546376571412112\n",
            "\n",
            "Class = 323 | Num exemplos | train = 12 | val = 23 | F1 = 0.3134328358208956 | p-avg = 0.0010895760056822228\n",
            "\n",
            "Class = 324 | Num exemplos | train = 12 | val = 13 | F1 = 0.1935483870967742 | p-avg = 0.0010899290221361867\n",
            "\n",
            "Class = 326 | Num exemplos | train = 7 | val = 5 | F1 = 0.08620689655172413 | p-avg = 0.0006364915112561974\n",
            "\n",
            "Class = 327 | Num exemplos | train = 36 | val = 45 | F1 = 0.4871794871794872 | p-avg = 0.0032834930922719186\n",
            "\n",
            "Class = 328 | Num exemplos | train = 5 | val = 5 | F1 = 0.05172413793103448 | p-avg = 0.00045452391863795203\n",
            "\n",
            "Class = 329 | Num exemplos | train = 11 | val = 15 | F1 = 0.19047619047619047 | p-avg = 0.0009999527695018252\n",
            "\n",
            "Class = 330 | Num exemplos | train = 13 | val = 15 | F1 = 0.19047619047619047 | p-avg = 0.0011802843757104102\n",
            "\n",
            "Class = 331 | Num exemplos | train = 9 | val = 7 | F1 = 0.06779661016949153 | p-avg = 0.0008181104304190909\n",
            "\n"
          ],
          "name": "stdout"
        }
      ]
    },
    {
      "cell_type": "code",
      "metadata": {
        "id": "bcjLjPLHaKfe",
        "colab_type": "code",
        "colab": {
          "base_uri": "https://localhost:8080/",
          "height": 242
        },
        "outputId": "8a6710d7-57fe-4e15-c167-22fd0724c8cb"
      },
      "source": [
        "# ideias para prever tudo?\n",
        "predictions"
      ],
      "execution_count": null,
      "outputs": [
        {
          "output_type": "execute_result",
          "data": {
            "text/plain": [
              "array([[0.00469215, 0.00165317, 0.00319488, ..., 0.0010095 , 0.00115814,\n",
              "        0.00080193],\n",
              "       [0.00384491, 0.00155513, 0.00314089, ..., 0.00102776, 0.00114604,\n",
              "        0.00078925],\n",
              "       [0.00309404, 0.00153687, 0.00253965, ..., 0.00099568, 0.00119953,\n",
              "        0.00081307],\n",
              "       ...,\n",
              "       [0.00319281, 0.00156974, 0.00282051, ..., 0.00095723, 0.00121586,\n",
              "        0.0008319 ],\n",
              "       [0.00591291, 0.00144829, 0.00296864, ..., 0.00104783, 0.00141929,\n",
              "        0.00078304],\n",
              "       [0.00378314, 0.0016953 , 0.00302619, ..., 0.0009483 , 0.00112196,\n",
              "        0.00085317]])"
            ]
          },
          "metadata": {
            "tags": []
          },
          "execution_count": 26
        }
      ]
    },
    {
      "cell_type": "code",
      "metadata": {
        "id": "rGMnYhGHbm3Z",
        "colab_type": "code",
        "colab": {}
      },
      "source": [
        "# Uma primeira abordagem seria pegar aquele que tem maior proba\n",
        "p_argmax = predictions.argmax(axis=1)\n",
        "# Mas, essa proba foi calculada somente em uma classe, entô, vamos fazer UM PÓS-PROCESSAMENTO"
      ],
      "execution_count": null,
      "outputs": []
    },
    {
      "cell_type": "code",
      "metadata": {
        "id": "dLMynXefcTqN",
        "colab_type": "code",
        "colab": {
          "base_uri": "https://localhost:8080/",
          "height": 35
        },
        "outputId": "4f2e75da-318a-4a69-8570-f20aba5d4297"
      },
      "source": [
        "# vai calcular independente da classe\n",
        "f1_score(yval, p_argmax, average='micro')"
      ],
      "execution_count": null,
      "outputs": [
        {
          "output_type": "execute_result",
          "data": {
            "text/plain": [
              "0.16492503407542025"
            ]
          },
          "metadata": {
            "tags": []
          },
          "execution_count": 29
        }
      ]
    },
    {
      "cell_type": "code",
      "metadata": {
        "id": "UihROJ3BcUHq",
        "colab_type": "code",
        "colab": {}
      },
      "source": [
        "# rankdata do scipy: ela faz o ranking das coisas\n",
        "#   ESSE RANKEAMENTO É DIFERNETE: QUANTO MAIOR O VALOR DO RANKING MAIOR É O VALOR DA PROBA\n",
        "#     Entâo, ranking 9999° > 1° (último)\n",
        "from scipy.stats import rankdata\n",
        "\n",
        "p_top_rank = np.zeros(predictions.shape)\n",
        "\n",
        "# para cada classe\n",
        "for class_ in range(predictions.shape[1]):\n",
        "  # você rankeia as previsões POR MODELO (ENTENDA É POR MODELO)\n",
        "  # Isso vai permitir que você busque as previsões melhores classificadas por modelo que é DIFERETE DA MAIOR PROBA ENTRE OS MODELOS\n",
        "  p_top_rank[:,class_] = rankdata(predictions[:, class_])\n",
        "\n",
        "p_top_rank = p_top_rank.argmax(axis=1)"
      ],
      "execution_count": null,
      "outputs": []
    },
    {
      "cell_type": "code",
      "metadata": {
        "id": "yGcIQkROdJwe",
        "colab_type": "code",
        "colab": {
          "base_uri": "https://localhost:8080/",
          "height": 138
        },
        "outputId": "b3144b43-13a1-4a31-dd10-7828a793dfce"
      },
      "source": [
        "# Em vez de termos o array de probas, agora temos o de ranking\n",
        "#   Ex: o primeiro elemetno [9528] quer dizer que essa proba está na posiçâo \n",
        "#       9528° \n",
        "p_top_rank"
      ],
      "execution_count": null,
      "outputs": [
        {
          "output_type": "execute_result",
          "data": {
            "text/plain": [
              "array([[ 9528.,  6388.,  9999., ...,  6707.,  4695.,  3202.],\n",
              "       [ 7038.,  2898.,  9498., ...,  8404.,  3961.,  1513.],\n",
              "       [ 2620.,  2236.,   302., ...,  5185.,  6967.,  4971.],\n",
              "       ...,\n",
              "       [ 3224.,  3470.,  3810., ...,  1563.,  7730.,  7728.],\n",
              "       [10707.,   283.,  6818., ...,  9734., 10965.,   882.],\n",
              "       [ 6737.,  7688.,  7961., ...,  1058.,  2681.,  9885.]])"
            ]
          },
          "metadata": {
            "tags": []
          },
          "execution_count": 34
        }
      ]
    },
    {
      "cell_type": "code",
      "metadata": {
        "id": "VxZpqOOAc4DH",
        "colab_type": "code",
        "colab": {
          "base_uri": "https://localhost:8080/",
          "height": 35
        },
        "outputId": "16d4bb1c-7017-4382-e8ee-80a7caccc262"
      },
      "source": [
        "# vai melhorar? qual ganha?\n",
        "f1_score(yval,p_top_rank, average='micro')"
      ],
      "execution_count": null,
      "outputs": [
        {
          "output_type": "execute_result",
          "data": {
            "text/plain": [
              "0.4023625624716038"
            ]
          },
          "metadata": {
            "tags": []
          },
          "execution_count": 36
        }
      ]
    },
    {
      "cell_type": "markdown",
      "metadata": {
        "id": "DfYE-Z-Y2IaC",
        "colab_type": "text"
      },
      "source": [
        "Sim\n",
        "\n",
        "Com um mesmo modelo, fazendo um pós-processamento, saiumos de um f1_score de 0.16 para 0.40 com algo muito simples."
      ]
    },
    {
      "cell_type": "markdown",
      "metadata": {
        "id": "mygsUSEe0nGx",
        "colab_type": "text"
      },
      "source": [
        ""
      ]
    },
    {
      "cell_type": "code",
      "metadata": {
        "id": "_QJ86r4Gc6Cn",
        "colab_type": "code",
        "colab": {}
      },
      "source": [
        "# threshold optimization by class\n",
        "# vs bag of words? tfidf, ensemble"
      ],
      "execution_count": null,
      "outputs": []
    }
  ]
}