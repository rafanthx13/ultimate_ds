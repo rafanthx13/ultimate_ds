{
  "nbformat": 4,
  "nbformat_minor": 0,
  "metadata": {
    "colab": {
      "name": "Mario Filho Live 24 - Intro PyTorch",
      "provenance": [],
      "collapsed_sections": []
    },
    "kernelspec": {
      "name": "python3",
      "display_name": "Python 3"
    },
    "accelerator": "GPU"
  },
  "cells": [
    {
      "cell_type": "markdown",
      "metadata": {
        "id": "5hUEZDVZt-vt",
        "colab_type": "text"
      },
      "source": [
        "# Mario Filho Live \\#24: Intro PyTorch\n",
        "\n",
        "Porque usar PyTorch:\n",
        "+ Tem boas ferramentas OpenSource\n",
        "+ Tem uma boa documentação"
      ]
    },
    {
      "cell_type": "code",
      "metadata": {
        "id": "uIPw59CS-9IS",
        "colab_type": "code",
        "colab": {}
      },
      "source": [
        "import torch\n",
        "import torch.nn as nn\n",
        "import torch.nn.functional as F\n",
        "\n",
        "import pandas as pd\n",
        "import numpy as np"
      ],
      "execution_count": null,
      "outputs": []
    },
    {
      "cell_type": "markdown",
      "metadata": {
        "id": "UvSkxxzlunZW",
        "colab_type": "text"
      },
      "source": [
        "A unidade básica do PyTorch é um tensor: É como um numpy.array"
      ]
    },
    {
      "cell_type": "code",
      "metadata": {
        "id": "hwbJbB4cNc4R",
        "colab_type": "code",
        "colab": {
          "base_uri": "https://localhost:8080/",
          "height": 35
        },
        "outputId": "28e3f61f-02da-4633-eb1f-1abc76bf6498"
      },
      "source": [
        "# Criar um Tensor\n",
        "t = torch.Tensor([1,2,3])\n",
        "t"
      ],
      "execution_count": null,
      "outputs": [
        {
          "output_type": "execute_result",
          "data": {
            "text/plain": [
              "tensor([1., 2., 3.])"
            ]
          },
          "metadata": {
            "tags": []
          },
          "execution_count": 8
        }
      ]
    },
    {
      "cell_type": "code",
      "metadata": {
        "id": "r7P9WpX3NmY0",
        "colab_type": "code",
        "colab": {
          "base_uri": "https://localhost:8080/",
          "height": 35
        },
        "outputId": "6ddc5a1e-4fd6-43fa-cf74-2f28083a262a"
      },
      "source": [
        "a = np.array([1,2,3])\n",
        "t = torch.from_numpy(a)\n",
        "t"
      ],
      "execution_count": null,
      "outputs": [
        {
          "output_type": "execute_result",
          "data": {
            "text/plain": [
              "tensor([1, 2, 3])"
            ]
          },
          "metadata": {
            "tags": []
          },
          "execution_count": 9
        }
      ]
    },
    {
      "cell_type": "code",
      "metadata": {
        "id": "PtvjLgfyNxGr",
        "colab_type": "code",
        "colab": {
          "base_uri": "https://localhost:8080/",
          "height": 35
        },
        "outputId": "9ffa2ff2-205e-4831-a184-afd457b51f9b"
      },
      "source": [
        "# Multiplicar um tensor é o mesmo que multiplicar uma array\n",
        "#   ou seja, todaos os números\n",
        "t * 10"
      ],
      "execution_count": null,
      "outputs": [
        {
          "output_type": "execute_result",
          "data": {
            "text/plain": [
              "tensor([10, 20, 30])"
            ]
          },
          "metadata": {
            "tags": []
          },
          "execution_count": 10
        }
      ]
    },
    {
      "cell_type": "code",
      "metadata": {
        "id": "VZhAk_bON6Ce",
        "colab_type": "code",
        "colab": {
          "base_uri": "https://localhost:8080/",
          "height": 35
        },
        "outputId": "9576deb4-af94-466a-8f43-3455e39030fd"
      },
      "source": [
        "t ** 2"
      ],
      "execution_count": null,
      "outputs": [
        {
          "output_type": "execute_result",
          "data": {
            "text/plain": [
              "tensor([1, 4, 9])"
            ]
          },
          "metadata": {
            "tags": []
          },
          "execution_count": 12
        }
      ]
    },
    {
      "cell_type": "code",
      "metadata": {
        "id": "Atfn-kH7N7Vi",
        "colab_type": "code",
        "colab": {
          "base_uri": "https://localhost:8080/",
          "height": 53
        },
        "outputId": "71c37556-4bdb-4b94-b8fd-e684f9c02e39"
      },
      "source": [
        "print(t)\n",
        "t.dot(t)"
      ],
      "execution_count": null,
      "outputs": [
        {
          "output_type": "stream",
          "text": [
            "tensor([1, 2, 3])\n"
          ],
          "name": "stdout"
        },
        {
          "output_type": "execute_result",
          "data": {
            "text/plain": [
              "tensor(14)"
            ]
          },
          "metadata": {
            "tags": []
          },
          "execution_count": 14
        }
      ]
    },
    {
      "cell_type": "markdown",
      "metadata": {
        "id": "doZwIbjjvPCv",
        "colab_type": "text"
      },
      "source": [
        "## Testando com dataSets\n",
        "\n",
        "DataSet para fazer regressão  de preços de casas."
      ]
    },
    {
      "cell_type": "code",
      "metadata": {
        "id": "FBq2uRd_N82V",
        "colab_type": "code",
        "colab": {
          "base_uri": "https://localhost:8080/",
          "height": 204
        },
        "outputId": "e91f6ed5-e2f7-4c7d-e911-7db2a108dfd6"
      },
      "source": [
        "data = pd.read_csv(\"sample_data/california_housing_train.csv\")\n",
        "data.head()"
      ],
      "execution_count": null,
      "outputs": [
        {
          "output_type": "execute_result",
          "data": {
            "text/html": [
              "<div>\n",
              "<style scoped>\n",
              "    .dataframe tbody tr th:only-of-type {\n",
              "        vertical-align: middle;\n",
              "    }\n",
              "\n",
              "    .dataframe tbody tr th {\n",
              "        vertical-align: top;\n",
              "    }\n",
              "\n",
              "    .dataframe thead th {\n",
              "        text-align: right;\n",
              "    }\n",
              "</style>\n",
              "<table border=\"1\" class=\"dataframe\">\n",
              "  <thead>\n",
              "    <tr style=\"text-align: right;\">\n",
              "      <th></th>\n",
              "      <th>longitude</th>\n",
              "      <th>latitude</th>\n",
              "      <th>housing_median_age</th>\n",
              "      <th>total_rooms</th>\n",
              "      <th>total_bedrooms</th>\n",
              "      <th>population</th>\n",
              "      <th>households</th>\n",
              "      <th>median_income</th>\n",
              "      <th>median_house_value</th>\n",
              "    </tr>\n",
              "  </thead>\n",
              "  <tbody>\n",
              "    <tr>\n",
              "      <th>0</th>\n",
              "      <td>-114.31</td>\n",
              "      <td>34.19</td>\n",
              "      <td>15.0</td>\n",
              "      <td>5612.0</td>\n",
              "      <td>1283.0</td>\n",
              "      <td>1015.0</td>\n",
              "      <td>472.0</td>\n",
              "      <td>1.4936</td>\n",
              "      <td>66900.0</td>\n",
              "    </tr>\n",
              "    <tr>\n",
              "      <th>1</th>\n",
              "      <td>-114.47</td>\n",
              "      <td>34.40</td>\n",
              "      <td>19.0</td>\n",
              "      <td>7650.0</td>\n",
              "      <td>1901.0</td>\n",
              "      <td>1129.0</td>\n",
              "      <td>463.0</td>\n",
              "      <td>1.8200</td>\n",
              "      <td>80100.0</td>\n",
              "    </tr>\n",
              "    <tr>\n",
              "      <th>2</th>\n",
              "      <td>-114.56</td>\n",
              "      <td>33.69</td>\n",
              "      <td>17.0</td>\n",
              "      <td>720.0</td>\n",
              "      <td>174.0</td>\n",
              "      <td>333.0</td>\n",
              "      <td>117.0</td>\n",
              "      <td>1.6509</td>\n",
              "      <td>85700.0</td>\n",
              "    </tr>\n",
              "    <tr>\n",
              "      <th>3</th>\n",
              "      <td>-114.57</td>\n",
              "      <td>33.64</td>\n",
              "      <td>14.0</td>\n",
              "      <td>1501.0</td>\n",
              "      <td>337.0</td>\n",
              "      <td>515.0</td>\n",
              "      <td>226.0</td>\n",
              "      <td>3.1917</td>\n",
              "      <td>73400.0</td>\n",
              "    </tr>\n",
              "    <tr>\n",
              "      <th>4</th>\n",
              "      <td>-114.57</td>\n",
              "      <td>33.57</td>\n",
              "      <td>20.0</td>\n",
              "      <td>1454.0</td>\n",
              "      <td>326.0</td>\n",
              "      <td>624.0</td>\n",
              "      <td>262.0</td>\n",
              "      <td>1.9250</td>\n",
              "      <td>65500.0</td>\n",
              "    </tr>\n",
              "  </tbody>\n",
              "</table>\n",
              "</div>"
            ],
            "text/plain": [
              "   longitude  latitude  ...  median_income  median_house_value\n",
              "0    -114.31     34.19  ...         1.4936             66900.0\n",
              "1    -114.47     34.40  ...         1.8200             80100.0\n",
              "2    -114.56     33.69  ...         1.6509             85700.0\n",
              "3    -114.57     33.64  ...         3.1917             73400.0\n",
              "4    -114.57     33.57  ...         1.9250             65500.0\n",
              "\n",
              "[5 rows x 9 columns]"
            ]
          },
          "metadata": {
            "tags": []
          },
          "execution_count": 15
        }
      ]
    },
    {
      "cell_type": "code",
      "metadata": {
        "id": "xRhGao0rOTSb",
        "colab_type": "code",
        "colab": {}
      },
      "source": [
        "# Tirando o 'y' final\n",
        "X = data.drop('median_house_value', axis=1)\n",
        "y = data['median_house_value']"
      ],
      "execution_count": null,
      "outputs": []
    },
    {
      "cell_type": "markdown",
      "metadata": {
        "id": "LXH29MujvhoR",
        "colab_type": "text"
      },
      "source": [
        "## Como montar a rede neural"
      ]
    },
    {
      "cell_type": "code",
      "metadata": {
        "id": "OJfEzbs-PD7B",
        "colab_type": "code",
        "colab": {}
      },
      "source": [
        "class Net(nn.Module):\n",
        "\n",
        "  def __init__(self):\n",
        "    super(Net, self).__init__()\n",
        "    # Definindo a estrutura da nossa rede\n",
        "    # 8 inputs -> 100 -> 100 -> 1\n",
        "    \n",
        "    # 8 entradas ligadas a 100 neuronios: todos terao conexões entre todos\n",
        "    self.fc1 = nn.Linear(8, 100) \n",
        "\n",
        "    # Ligando todos os 100 neuronios em 100 neuronios próximos\n",
        "    self.fc2 = nn.Linear(100, 100)\n",
        "\n",
        "    # Camada de saida\n",
        "    self.out = nn.Linear(100, 1)\n",
        "\n",
        "  # processo para a rede processar um dado\n",
        "  def forward(self, x):\n",
        "    x = F.normalize(x) # Normalizar para melhorar a eficiência da rede. Usando regra L2\n",
        "    x = F.relu(self.fc1(x))\n",
        "    x = F.relu(self.fc2(x))\n",
        "    y = self.out(x)\n",
        "    return y"
      ],
      "execution_count": null,
      "outputs": []
    },
    {
      "cell_type": "code",
      "metadata": {
        "id": "iBYcaeWiTbJ0",
        "colab_type": "code",
        "colab": {
          "base_uri": "https://localhost:8080/",
          "height": 107
        },
        "outputId": "933684c8-9a18-4d15-cca0-d462b092b61d"
      },
      "source": [
        "# Criando a Rede Neural\n",
        "net = Net()\n",
        "print(net)"
      ],
      "execution_count": null,
      "outputs": [
        {
          "output_type": "stream",
          "text": [
            "Net(\n",
            "  (fc1): Linear(in_features=8, out_features=100, bias=True)\n",
            "  (fc2): Linear(in_features=100, out_features=100, bias=True)\n",
            "  (out): Linear(in_features=100, out_features=1, bias=True)\n",
            ")\n"
          ],
          "name": "stdout"
        }
      ]
    },
    {
      "cell_type": "code",
      "metadata": {
        "id": "hbeIOfl3Tdur",
        "colab_type": "code",
        "colab": {}
      },
      "source": [
        "# Convertendo de numpy para Torch\n",
        "X_tensor = torch.from_numpy(data.values[:, :-1]).float()\n",
        "y_tensor = torch.from_numpy(data.values[:, -1]).float()\n",
        "\n",
        "# Vamos aplicar o log sobre 'y' pois sem isso vai dar roblema\n",
        "# pois os parametros estao normalizados mas o 'y' é muito alto\n",
        "y_tensor = torch.log(y_tensor)"
      ],
      "execution_count": null,
      "outputs": []
    },
    {
      "cell_type": "code",
      "metadata": {
        "id": "C3V910XDT4_p",
        "colab_type": "code",
        "colab": {}
      },
      "source": [
        "# Otimizador: O responsável por treinar a rede e fazer os cálculos\n",
        "import torch.optim as optim\n",
        "optimizer = optim.Adam(net.parameters(), lr=0.001)"
      ],
      "execution_count": null,
      "outputs": []
    },
    {
      "cell_type": "code",
      "metadata": {
        "id": "mQgzDjo8UkBi",
        "colab_type": "code",
        "colab": {}
      },
      "source": [
        "# O critério para determinar o erro: MSELoss = Erro médio\n",
        "criterion = nn.MSELoss() # isso age como um decorator, nao da pra usar direto no treinamento"
      ],
      "execution_count": null,
      "outputs": []
    },
    {
      "cell_type": "code",
      "metadata": {
        "id": "PJuUqO1UUzwm",
        "colab_type": "code",
        "colab": {
          "base_uri": "https://localhost:8080/",
          "height": 1000
        },
        "outputId": "236ba060-58fa-47e2-adc6-533ee9ec386c"
      },
      "source": [
        "# Processo de treinamento da rede, onde i = epoch\n",
        "for i in range(100):\n",
        "  # zerar os gradeintes, para que os gradientes da previsao anterior nao atrapaçhe\n",
        "  optimizer.zero_grad()\n",
        "  # Prever (fazer o foward) uma entrada\n",
        "  prediction = net(X_tensor)\n",
        "  # calcular o erro\n",
        "  loss = criterion(prediction, y_tensor)\n",
        "  # Calculo do gradiente\n",
        "  loss.backward()\n",
        "  # atualiza os pesos\n",
        "  optimizer.step()\n",
        "  \n",
        "  # Vamos printar o erro,a loss a cada passos\n",
        "\n",
        "  # exp para sair do 'log' do 'y'\n",
        "  prediction2 = torch.exp(net(X_tensor))\n",
        "  loss = criterion(prediction2, torch.exp(y_tensor))\n",
        "  print(\"Monitor de loss:\", torch.sqrt(loss))"
      ],
      "execution_count": null,
      "outputs": [
        {
          "output_type": "stream",
          "text": [
            "/usr/local/lib/python3.6/dist-packages/torch/nn/modules/loss.py:432: UserWarning: Using a target size (torch.Size([17000])) that is different to the input size (torch.Size([17000, 1])). This will likely lead to incorrect results due to broadcasting. Please ensure they have the same size.\n",
            "  return F.mse_loss(input, target, reduction=self.reduction)\n"
          ],
          "name": "stderr"
        },
        {
          "output_type": "stream",
          "text": [
            "Monitor de loss: tensor(236268.6250, grad_fn=<SqrtBackward>)\n",
            "Monitor de loss: tensor(236268.6250, grad_fn=<SqrtBackward>)\n",
            "Monitor de loss: tensor(236268.6250, grad_fn=<SqrtBackward>)\n",
            "Monitor de loss: tensor(236268.6250, grad_fn=<SqrtBackward>)\n",
            "Monitor de loss: tensor(236268.6250, grad_fn=<SqrtBackward>)\n",
            "Monitor de loss: tensor(236268.6250, grad_fn=<SqrtBackward>)\n",
            "Monitor de loss: tensor(236268.6094, grad_fn=<SqrtBackward>)\n",
            "Monitor de loss: tensor(236268.6094, grad_fn=<SqrtBackward>)\n",
            "Monitor de loss: tensor(236268.6094, grad_fn=<SqrtBackward>)\n",
            "Monitor de loss: tensor(236268.6094, grad_fn=<SqrtBackward>)\n",
            "Monitor de loss: tensor(236268.6094, grad_fn=<SqrtBackward>)\n",
            "Monitor de loss: tensor(236268.6094, grad_fn=<SqrtBackward>)\n",
            "Monitor de loss: tensor(236268.5938, grad_fn=<SqrtBackward>)\n",
            "Monitor de loss: tensor(236268.5938, grad_fn=<SqrtBackward>)\n",
            "Monitor de loss: tensor(236268.5938, grad_fn=<SqrtBackward>)\n",
            "Monitor de loss: tensor(236268.5938, grad_fn=<SqrtBackward>)\n",
            "Monitor de loss: tensor(236268.5781, grad_fn=<SqrtBackward>)\n",
            "Monitor de loss: tensor(236268.5625, grad_fn=<SqrtBackward>)\n",
            "Monitor de loss: tensor(236268.5469, grad_fn=<SqrtBackward>)\n",
            "Monitor de loss: tensor(236268.5469, grad_fn=<SqrtBackward>)\n",
            "Monitor de loss: tensor(236268.4688, grad_fn=<SqrtBackward>)\n",
            "Monitor de loss: tensor(236268.4219, grad_fn=<SqrtBackward>)\n",
            "Monitor de loss: tensor(236268.4219, grad_fn=<SqrtBackward>)\n",
            "Monitor de loss: tensor(236268.4219, grad_fn=<SqrtBackward>)\n",
            "Monitor de loss: tensor(236268.4219, grad_fn=<SqrtBackward>)\n",
            "Monitor de loss: tensor(236268.4062, grad_fn=<SqrtBackward>)\n",
            "Monitor de loss: tensor(236268.3906, grad_fn=<SqrtBackward>)\n",
            "Monitor de loss: tensor(236268.3125, grad_fn=<SqrtBackward>)\n",
            "Monitor de loss: tensor(236268., grad_fn=<SqrtBackward>)\n",
            "Monitor de loss: tensor(236268., grad_fn=<SqrtBackward>)\n",
            "Monitor de loss: tensor(236267.7969, grad_fn=<SqrtBackward>)\n",
            "Monitor de loss: tensor(236267.7969, grad_fn=<SqrtBackward>)\n",
            "Monitor de loss: tensor(236267.6406, grad_fn=<SqrtBackward>)\n",
            "Monitor de loss: tensor(236267.5625, grad_fn=<SqrtBackward>)\n",
            "Monitor de loss: tensor(236265.8594, grad_fn=<SqrtBackward>)\n",
            "Monitor de loss: tensor(236262.3594, grad_fn=<SqrtBackward>)\n",
            "Monitor de loss: tensor(236262.3125, grad_fn=<SqrtBackward>)\n",
            "Monitor de loss: tensor(236262.0938, grad_fn=<SqrtBackward>)\n",
            "Monitor de loss: tensor(236261.1875, grad_fn=<SqrtBackward>)\n",
            "Monitor de loss: tensor(236257.1406, grad_fn=<SqrtBackward>)\n",
            "Monitor de loss: tensor(236254.5938, grad_fn=<SqrtBackward>)\n",
            "Monitor de loss: tensor(236250.7031, grad_fn=<SqrtBackward>)\n",
            "Monitor de loss: tensor(236249.6719, grad_fn=<SqrtBackward>)\n",
            "Monitor de loss: tensor(236247.1562, grad_fn=<SqrtBackward>)\n",
            "Monitor de loss: tensor(236240.4375, grad_fn=<SqrtBackward>)\n",
            "Monitor de loss: tensor(236239.3594, grad_fn=<SqrtBackward>)\n",
            "Monitor de loss: tensor(236236.9375, grad_fn=<SqrtBackward>)\n",
            "Monitor de loss: tensor(236233.9062, grad_fn=<SqrtBackward>)\n",
            "Monitor de loss: tensor(236226.7969, grad_fn=<SqrtBackward>)\n",
            "Monitor de loss: tensor(236205.5156, grad_fn=<SqrtBackward>)\n",
            "Monitor de loss: tensor(236190.7812, grad_fn=<SqrtBackward>)\n",
            "Monitor de loss: tensor(236164.7656, grad_fn=<SqrtBackward>)\n",
            "Monitor de loss: tensor(236145.7500, grad_fn=<SqrtBackward>)\n",
            "Monitor de loss: tensor(236121.7500, grad_fn=<SqrtBackward>)\n",
            "Monitor de loss: tensor(236073.2500, grad_fn=<SqrtBackward>)\n",
            "Monitor de loss: tensor(236017.5469, grad_fn=<SqrtBackward>)\n",
            "Monitor de loss: tensor(235962.6250, grad_fn=<SqrtBackward>)\n",
            "Monitor de loss: tensor(235881.3438, grad_fn=<SqrtBackward>)\n",
            "Monitor de loss: tensor(235770.0312, grad_fn=<SqrtBackward>)\n",
            "Monitor de loss: tensor(235452.6719, grad_fn=<SqrtBackward>)\n",
            "Monitor de loss: tensor(234890.5625, grad_fn=<SqrtBackward>)\n",
            "Monitor de loss: tensor(234603.6406, grad_fn=<SqrtBackward>)\n",
            "Monitor de loss: tensor(234169.0938, grad_fn=<SqrtBackward>)\n",
            "Monitor de loss: tensor(233579.8906, grad_fn=<SqrtBackward>)\n",
            "Monitor de loss: tensor(232776.3594, grad_fn=<SqrtBackward>)\n",
            "Monitor de loss: tensor(231723.7031, grad_fn=<SqrtBackward>)\n",
            "Monitor de loss: tensor(230162.6406, grad_fn=<SqrtBackward>)\n",
            "Monitor de loss: tensor(228176.7969, grad_fn=<SqrtBackward>)\n",
            "Monitor de loss: tensor(225623.0156, grad_fn=<SqrtBackward>)\n",
            "Monitor de loss: tensor(221940.9062, grad_fn=<SqrtBackward>)\n",
            "Monitor de loss: tensor(216683.4688, grad_fn=<SqrtBackward>)\n",
            "Monitor de loss: tensor(209744.7500, grad_fn=<SqrtBackward>)\n",
            "Monitor de loss: tensor(201254.2656, grad_fn=<SqrtBackward>)\n",
            "Monitor de loss: tensor(191382.4844, grad_fn=<SqrtBackward>)\n",
            "Monitor de loss: tensor(180013.9375, grad_fn=<SqrtBackward>)\n",
            "Monitor de loss: tensor(168320.9062, grad_fn=<SqrtBackward>)\n",
            "Monitor de loss: tensor(160461.3281, grad_fn=<SqrtBackward>)\n",
            "Monitor de loss: tensor(162555.8438, grad_fn=<SqrtBackward>)\n",
            "Monitor de loss: tensor(180615.6562, grad_fn=<SqrtBackward>)\n",
            "Monitor de loss: tensor(215651.6094, grad_fn=<SqrtBackward>)\n",
            "Monitor de loss: tensor(264885.4688, grad_fn=<SqrtBackward>)\n",
            "Monitor de loss: tensor(321344.0938, grad_fn=<SqrtBackward>)\n",
            "Monitor de loss: tensor(379029.5625, grad_fn=<SqrtBackward>)\n",
            "Monitor de loss: tensor(431951.4062, grad_fn=<SqrtBackward>)\n",
            "Monitor de loss: tensor(477436.1562, grad_fn=<SqrtBackward>)\n",
            "Monitor de loss: tensor(510249.4688, grad_fn=<SqrtBackward>)\n",
            "Monitor de loss: tensor(528259.8125, grad_fn=<SqrtBackward>)\n",
            "Monitor de loss: tensor(532881.0625, grad_fn=<SqrtBackward>)\n",
            "Monitor de loss: tensor(524376.4375, grad_fn=<SqrtBackward>)\n",
            "Monitor de loss: tensor(505792.8125, grad_fn=<SqrtBackward>)\n",
            "Monitor de loss: tensor(478298.6875, grad_fn=<SqrtBackward>)\n",
            "Monitor de loss: tensor(444943.8438, grad_fn=<SqrtBackward>)\n",
            "Monitor de loss: tensor(408343.0625, grad_fn=<SqrtBackward>)\n",
            "Monitor de loss: tensor(370956.3125, grad_fn=<SqrtBackward>)\n",
            "Monitor de loss: tensor(333968.7812, grad_fn=<SqrtBackward>)\n",
            "Monitor de loss: tensor(298307.4062, grad_fn=<SqrtBackward>)\n",
            "Monitor de loss: tensor(266257.4375, grad_fn=<SqrtBackward>)\n",
            "Monitor de loss: tensor(237679.8906, grad_fn=<SqrtBackward>)\n",
            "Monitor de loss: tensor(212777.5469, grad_fn=<SqrtBackward>)\n",
            "Monitor de loss: tensor(192476.7656, grad_fn=<SqrtBackward>)\n"
          ],
          "name": "stdout"
        }
      ]
    },
    {
      "cell_type": "markdown",
      "metadata": {
        "id": "OO5MvczI2iKS",
        "colab_type": "text"
      },
      "source": [
        "## Testando"
      ]
    },
    {
      "cell_type": "code",
      "metadata": {
        "id": "v7XC02lCZO67",
        "colab_type": "code",
        "colab": {
          "base_uri": "https://localhost:8080/",
          "height": 204
        },
        "outputId": "fd89b0bf-0bf6-4047-d441-3cd5a75ab3eb"
      },
      "source": [
        "data_test = pd.read_csv(\"sample_data/california_housing_test.csv\")\n",
        "data_test.head()"
      ],
      "execution_count": null,
      "outputs": [
        {
          "output_type": "execute_result",
          "data": {
            "text/html": [
              "<div>\n",
              "<style scoped>\n",
              "    .dataframe tbody tr th:only-of-type {\n",
              "        vertical-align: middle;\n",
              "    }\n",
              "\n",
              "    .dataframe tbody tr th {\n",
              "        vertical-align: top;\n",
              "    }\n",
              "\n",
              "    .dataframe thead th {\n",
              "        text-align: right;\n",
              "    }\n",
              "</style>\n",
              "<table border=\"1\" class=\"dataframe\">\n",
              "  <thead>\n",
              "    <tr style=\"text-align: right;\">\n",
              "      <th></th>\n",
              "      <th>longitude</th>\n",
              "      <th>latitude</th>\n",
              "      <th>housing_median_age</th>\n",
              "      <th>total_rooms</th>\n",
              "      <th>total_bedrooms</th>\n",
              "      <th>population</th>\n",
              "      <th>households</th>\n",
              "      <th>median_income</th>\n",
              "      <th>median_house_value</th>\n",
              "    </tr>\n",
              "  </thead>\n",
              "  <tbody>\n",
              "    <tr>\n",
              "      <th>0</th>\n",
              "      <td>-122.05</td>\n",
              "      <td>37.37</td>\n",
              "      <td>27.0</td>\n",
              "      <td>3885.0</td>\n",
              "      <td>661.0</td>\n",
              "      <td>1537.0</td>\n",
              "      <td>606.0</td>\n",
              "      <td>6.6085</td>\n",
              "      <td>344700.0</td>\n",
              "    </tr>\n",
              "    <tr>\n",
              "      <th>1</th>\n",
              "      <td>-118.30</td>\n",
              "      <td>34.26</td>\n",
              "      <td>43.0</td>\n",
              "      <td>1510.0</td>\n",
              "      <td>310.0</td>\n",
              "      <td>809.0</td>\n",
              "      <td>277.0</td>\n",
              "      <td>3.5990</td>\n",
              "      <td>176500.0</td>\n",
              "    </tr>\n",
              "    <tr>\n",
              "      <th>2</th>\n",
              "      <td>-117.81</td>\n",
              "      <td>33.78</td>\n",
              "      <td>27.0</td>\n",
              "      <td>3589.0</td>\n",
              "      <td>507.0</td>\n",
              "      <td>1484.0</td>\n",
              "      <td>495.0</td>\n",
              "      <td>5.7934</td>\n",
              "      <td>270500.0</td>\n",
              "    </tr>\n",
              "    <tr>\n",
              "      <th>3</th>\n",
              "      <td>-118.36</td>\n",
              "      <td>33.82</td>\n",
              "      <td>28.0</td>\n",
              "      <td>67.0</td>\n",
              "      <td>15.0</td>\n",
              "      <td>49.0</td>\n",
              "      <td>11.0</td>\n",
              "      <td>6.1359</td>\n",
              "      <td>330000.0</td>\n",
              "    </tr>\n",
              "    <tr>\n",
              "      <th>4</th>\n",
              "      <td>-119.67</td>\n",
              "      <td>36.33</td>\n",
              "      <td>19.0</td>\n",
              "      <td>1241.0</td>\n",
              "      <td>244.0</td>\n",
              "      <td>850.0</td>\n",
              "      <td>237.0</td>\n",
              "      <td>2.9375</td>\n",
              "      <td>81700.0</td>\n",
              "    </tr>\n",
              "  </tbody>\n",
              "</table>\n",
              "</div>"
            ],
            "text/plain": [
              "   longitude  latitude  ...  median_income  median_house_value\n",
              "0    -122.05     37.37  ...         6.6085            344700.0\n",
              "1    -118.30     34.26  ...         3.5990            176500.0\n",
              "2    -117.81     33.78  ...         5.7934            270500.0\n",
              "3    -118.36     33.82  ...         6.1359            330000.0\n",
              "4    -119.67     36.33  ...         2.9375             81700.0\n",
              "\n",
              "[5 rows x 9 columns]"
            ]
          },
          "metadata": {
            "tags": []
          },
          "execution_count": 24
        }
      ]
    },
    {
      "cell_type": "code",
      "metadata": {
        "id": "a_XOaetEWIvB",
        "colab_type": "code",
        "colab": {}
      },
      "source": [
        "X_test_tensor = torch.from_numpy(data_test.values[:, :-1]).float()\n",
        "y_test = data_test.values[:, -1]\n"
      ],
      "execution_count": null,
      "outputs": []
    },
    {
      "cell_type": "code",
      "metadata": {
        "id": "oUEtdwiKZYZH",
        "colab_type": "code",
        "colab": {}
      },
      "source": [
        "# Prever os valores de teste\n",
        "prediction_test = torch.exp(net(X_test_tensor))"
      ],
      "execution_count": null,
      "outputs": []
    },
    {
      "cell_type": "code",
      "metadata": {
        "id": "2a42lGD0Zb7S",
        "colab_type": "code",
        "colab": {
          "base_uri": "https://localhost:8080/",
          "height": 143
        },
        "outputId": "17541f2a-d2e6-474d-93ea-7c2fdd8dba0c"
      },
      "source": [
        "print(prediction_test)"
      ],
      "execution_count": null,
      "outputs": [
        {
          "output_type": "stream",
          "text": [
            "tensor([[ 194207.6875],\n",
            "        [ 289592.7812],\n",
            "        [ 177786.3594],\n",
            "        ...,\n",
            "        [ 323395.7812],\n",
            "        [1371242.0000],\n",
            "        [ 223691.4062]], grad_fn=<ExpBackward>)\n"
          ],
          "name": "stdout"
        }
      ]
    },
    {
      "cell_type": "code",
      "metadata": {
        "id": "Ygy3Pjh-ZlnG",
        "colab_type": "code",
        "colab": {
          "base_uri": "https://localhost:8080/",
          "height": 143
        },
        "outputId": "759905d5-443b-4c0c-aa48-5c79e869b142"
      },
      "source": [
        "prediction_test_np = prediction_test.detach().numpy()\n",
        "prediction_test_np"
      ],
      "execution_count": null,
      "outputs": [
        {
          "output_type": "execute_result",
          "data": {
            "text/plain": [
              "array([[ 194207.69],\n",
              "       [ 289592.78],\n",
              "       [ 177786.36],\n",
              "       ...,\n",
              "       [ 323395.78],\n",
              "       [1371242.  ],\n",
              "       [ 223691.4 ]], dtype=float32)"
            ]
          },
          "metadata": {
            "tags": []
          },
          "execution_count": 28
        }
      ]
    },
    {
      "cell_type": "code",
      "metadata": {
        "id": "OIaKgLKzZdkZ",
        "colab_type": "code",
        "colab": {
          "base_uri": "https://localhost:8080/",
          "height": 35
        },
        "outputId": "16156a9a-b2ac-41c7-b8a9-e357f06ca371"
      },
      "source": [
        "from sklearn.metrics import mean_squared_error\n",
        "y_test = data_test.values[:, -1]\n",
        "# Valor do erro médio quadrado\n",
        "np.sqrt(mean_squared_error(y_test, prediction_test_np))\n",
        "# Mario conseguiu resudir para\n",
        "## 76790.5119855592"
      ],
      "execution_count": null,
      "outputs": [
        {
          "output_type": "execute_result",
          "data": {
            "text/plain": [
              "215448.27306136442"
            ]
          },
          "metadata": {
            "tags": []
          },
          "execution_count": 29
        }
      ]
    }
  ]
}