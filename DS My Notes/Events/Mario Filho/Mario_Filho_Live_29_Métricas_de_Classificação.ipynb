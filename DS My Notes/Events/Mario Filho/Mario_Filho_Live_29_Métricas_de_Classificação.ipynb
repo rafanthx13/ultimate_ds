{
  "nbformat": 4,
  "nbformat_minor": 0,
  "metadata": {
    "colab": {
      "name": "Mario Filho Live 29 - Métricas de Classificação",
      "provenance": [],
      "collapsed_sections": []
    },
    "kernelspec": {
      "name": "python3",
      "display_name": "Python 3"
    }
  },
  "cells": [
    {
      "cell_type": "markdown",
      "metadata": {
        "id": "JAgVLydv-WoI",
        "colab_type": "text"
      },
      "source": [
        "# Live 29 - Métricas de Classificação\n",
        "\n",
        "link: https://bit.ly/mario-live29\n",
        "\n",
        "\"regra do 80/20\", o Princípio de Pareto : 80% dos eventos (casos comuns) são causados por 20%. \n",
        "\n",
        "Aplicando a questâo de estudo métricas: Não há necessiadade de saber de có todas as métricas, pois, sabendo 20% delas você vai ser capaz de aplicals em 80% dos casos.\n",
        "\n",
        "Vamos ver as métricas que vão resolver a maioria dos problemas\n",
        "\n",
        "**Obs**\n",
        "+ No business world, podemos usar métricas difenrete, pois uma classificaçâo certa ou errada pode ter impcato diferente na açâo que ela causa para a empresa."
      ]
    },
    {
      "cell_type": "code",
      "metadata": {
        "id": "H3HvlFpYZWAU",
        "colab_type": "code",
        "colab": {}
      },
      "source": [
        "import pandas as pd\n",
        "import numpy as np"
      ],
      "execution_count": null,
      "outputs": []
    },
    {
      "cell_type": "markdown",
      "metadata": {
        "id": "aEm9iU3wAXIF",
        "colab_type": "text"
      },
      "source": [
        "Vamos fazer duas classificção a binária e a multivariável"
      ]
    },
    {
      "cell_type": "code",
      "metadata": {
        "id": "q9zVHZODag0T",
        "colab_type": "code",
        "colab": {}
      },
      "source": [
        "# seed para reprodutibilidade do experimento\n",
        "np.random.seed(50)\n",
        "\n",
        "# Classificação Binária\n",
        "# ŷ\n",
        "p_binary = np.random.uniform(size=10) #mdl.predict_proba\n",
        "# y\n",
        "y_binary = (np.random.uniform(size=10) > 0.5).astype(int)\n",
        "\n",
        "# Classificaçâo MultiClasse\n",
        "# ŷ\n",
        "p_multi = np.random.uniform(size=(10,3)) #\n",
        "p_multi_argmax = p_multi.argmax(axis=1)\n",
        "# y\n",
        "y_multi = np.random.uniform(size=(10, 3)).argmax(axis=1)\n",
        "\n",
        "# threshold = ponto de corte; A classificaçâo rece uma prob de [0,1] \n",
        "# O ponto de corte por default do skilearn é 0.5\n",
        "p_binary_threshold = (p_binary > 0.5).astype(int)"
      ],
      "execution_count": null,
      "outputs": []
    },
    {
      "cell_type": "markdown",
      "metadata": {
        "id": "YaulrFzAeSvx",
        "colab_type": "text"
      },
      "source": [
        "## Acurácia\n",
        "- Definiçâo de Acurácia: **Porcentagme de acerto do modelo**\n",
        "- não use \"oficialmente\" (como métrica final a apresentar), apenas \"preguiçosamente\", há coisas muito melhores\n",
        "- inadequada para dados desequilibrados, pode te enganar\n",
        "- Exemplo: Imagine que você vai fazer um detector de spam. Na sua caixa de email hoje, cerca de 98% dos seus emails nâo são span. Por causa disso, se você simplismente atribuir todos os emails como não-spam, você consegue uma acurácia monstruosa de 98% sem ser capaz de detectar um único spam. Isso acaontece porque a qtd de spam é extremamente baixa em realaçâo a qtd de não-spam, ou seja, seu dataset está desbalanceado."
      ]
    },
    {
      "cell_type": "code",
      "metadata": {
        "id": "P0UjgecOdSId",
        "colab_type": "code",
        "colab": {
          "base_uri": "https://localhost:8080/",
          "height": 71
        },
        "outputId": "e8f9c0a6-bf94-4a8c-fbff-2ad48c72b534"
      },
      "source": [
        "# Calculando acurácia\n",
        "from sklearn.metrics import accuracy_score\n",
        "\n",
        "print(\"P = {}\\nY = {}\".format(p_binary_threshold, y_binary))\n",
        "\n",
        "accuracy_score(y_binary, p_binary_threshold) # acertamos 8/10 = 80%"
      ],
      "execution_count": null,
      "outputs": [
        {
          "output_type": "stream",
          "text": [
            "P = [0 0 0 0 0 1 0 1 1 0]\n",
            "Y = [0 0 0 1 1 1 0 1 1 0]\n"
          ],
          "name": "stdout"
        },
        {
          "output_type": "execute_result",
          "data": {
            "text/plain": [
              "0.8"
            ]
          },
          "metadata": {
            "tags": []
          },
          "execution_count": 4
        }
      ]
    },
    {
      "cell_type": "markdown",
      "metadata": {
        "id": "Twa26VOTfncD",
        "colab_type": "text"
      },
      "source": [
        "# Precision\n",
        "- Definição de Precisão: **Dos casos que eu previ como positivos (para uma classe) quantos realmente são?**\n",
        "- Envio de cupons de desconto, custos diferentes para cada erro.\n",
        "- Ex: se custa caro mandar a promoção, das pessoas que eu previ que iam comprar, quantas compraram?\n",
        "\n",
        "https://en.wikipedia.org/wiki/Confusion_matrix\n"
      ]
    },
    {
      "cell_type": "code",
      "metadata": {
        "id": "o5kmtOfTe2_v",
        "colab_type": "code",
        "colab": {
          "base_uri": "https://localhost:8080/",
          "height": 71
        },
        "outputId": "d4c19cbe-2e5d-4a16-ebbe-ea2a7bd89598"
      },
      "source": [
        "from sklearn.metrics import precision_score\n",
        "print(\"P = {}\\nY = {}\".format(p_binary_threshold, y_binary))\n",
        "\n",
        "precision_score(y_binary, p_binary_threshold) # dos casos em que previ 1, acertei todos\n",
        "\n",
        "# Significado: QUando ele diz que épostivo, ele tem 100% de chance de acertar"
      ],
      "execution_count": null,
      "outputs": [
        {
          "output_type": "stream",
          "text": [
            "P = [0 0 0 0 0 1 0 1 1 0]\n",
            "Y = [0 0 0 1 1 1 0 1 1 0]\n"
          ],
          "name": "stdout"
        },
        {
          "output_type": "execute_result",
          "data": {
            "text/plain": [
              "1.0"
            ]
          },
          "metadata": {
            "tags": []
          },
          "execution_count": 5
        }
      ]
    },
    {
      "cell_type": "markdown",
      "metadata": {
        "id": "fpTaj8A9hGRN",
        "colab_type": "text"
      },
      "source": [
        "# Recall\n",
        "- Definição de Recall: dos que eram realmente positivos (para uma classe) quantos eu detectei?\n",
        "- Chamado de taxa de detecção"
      ]
    },
    {
      "cell_type": "code",
      "metadata": {
        "id": "vRb6pddLgFOI",
        "colab_type": "code",
        "colab": {
          "base_uri": "https://localhost:8080/",
          "height": 71
        },
        "outputId": "21fc936d-f1b3-4d29-b4c7-9607add0050a"
      },
      "source": [
        "from sklearn.metrics import recall_score\n",
        "print(\"P = {}\\nY = {}\".format(p_binary_threshold, y_binary))\n",
        "\n",
        "recall_score(y_binary, p_binary_threshold) # eram 5 positivos, acertei 3 = 60%\n",
        "\n",
        "# Significa: Detecta 60% dos valores positivos"
      ],
      "execution_count": null,
      "outputs": [
        {
          "output_type": "stream",
          "text": [
            "P = [0 0 0 0 0 1 0 1 1 0]\n",
            "Y = [0 0 0 1 1 1 0 1 1 0]\n"
          ],
          "name": "stdout"
        },
        {
          "output_type": "execute_result",
          "data": {
            "text/plain": [
              "0.6"
            ]
          },
          "metadata": {
            "tags": []
          },
          "execution_count": 6
        }
      ]
    },
    {
      "cell_type": "markdown",
      "metadata": {
        "id": "iiQDbskOEMqL",
        "colab_type": "text"
      },
      "source": [
        "Precisão = 1.0 e Recall = 0.6\n",
        "\n",
        "Quando diz que é positivos, ele sempre acerta, mas ele só vai detectar para 60% dos registros positivos"
      ]
    },
    {
      "cell_type": "markdown",
      "metadata": {
        "id": "0nT9zVoGidW9",
        "colab_type": "text"
      },
      "source": [
        "# F1 Score\n",
        "- média harmônica entre os dois  \n",
        "( 2 * precision * recall ) / (precision + recall) \n",
        "https://en.wikipedia.org/wiki/F1_score \n",
        "+ Melhor que o Accurácia\n"
      ]
    },
    {
      "cell_type": "code",
      "metadata": {
        "id": "C_6Nlh1bhfKh",
        "colab_type": "code",
        "colab": {
          "base_uri": "https://localhost:8080/",
          "height": 71
        },
        "outputId": "d348e594-d2d9-4407-ff6f-fbb88500bb44"
      },
      "source": [
        "from sklearn.metrics import f1_score\n",
        "\n",
        "print(\"P = {}\\nY = {}\".format(p_binary_threshold, y_binary))\n",
        "#(2 * .67 * .2857) / (.67 + .2857)\n",
        "\n",
        "f1_score(y_binary, p_binary_threshold)"
      ],
      "execution_count": null,
      "outputs": [
        {
          "output_type": "stream",
          "text": [
            "P = [0 0 0 0 0 1 0 1 1 0]\n",
            "Y = [0 0 0 1 1 1 0 1 1 0]\n"
          ],
          "name": "stdout"
        },
        {
          "output_type": "execute_result",
          "data": {
            "text/plain": [
              "0.7499999999999999"
            ]
          },
          "metadata": {
            "tags": []
          },
          "execution_count": 7
        }
      ]
    },
    {
      "cell_type": "code",
      "metadata": {
        "id": "YTmHiD13i6FJ",
        "colab_type": "code",
        "colab": {
          "base_uri": "https://localhost:8080/",
          "height": 34
        },
        "outputId": "de23ff2f-8918-4855-e804-6864bae175ae"
      },
      "source": [
        ""
      ],
      "execution_count": null,
      "outputs": [
        {
          "output_type": "execute_result",
          "data": {
            "text/plain": [
              "0.4005838652296746"
            ]
          },
          "metadata": {
            "tags": []
          },
          "execution_count": 22
        }
      ]
    },
    {
      "cell_type": "markdown",
      "metadata": {
        "id": "kocugLaVjOu3",
        "colab_type": "text"
      },
      "source": [
        "# Kappa\n",
        "+ Mede a concordância entre seu modelo e um modelo aleartório\n",
        "+ Uma boa métrica que pouca gente conhece.\n",
        "+ Costuma-se usar ele em multi-classes\n",
        "+ Considera-se geralmente uma medida mais robusta do que o simples cálculo percentual de concordância, pois κ leva em consideração a possibilidade da ocorrência de um acaso\n",
        "- [https://en.wikipedia.org/wiki/Cohen%27s_kappa](https://en.wikipedia.org/wiki/Cohen%27s_kappa)\n",
        "+ Interpretando\n",
        "  - Quanto maior o valor kappa, melhor\n",
        "  - Ele pode ser negativo"
      ]
    },
    {
      "cell_type": "code",
      "metadata": {
        "id": "l_rHkhMxjAya",
        "colab_type": "code",
        "colab": {
          "base_uri": "https://localhost:8080/",
          "height": 71
        },
        "outputId": "b0993846-701a-4950-da52-c21f7af447cf"
      },
      "source": [
        "from sklearn.metrics import cohen_kappa_score\n",
        "\n",
        "print(\"P = {}\\nY = {}\".format(p_multi_argmax, y_multi))\n",
        "\n",
        "cohen_kappa_score(y_multi, p_multi_argmax)"
      ],
      "execution_count": null,
      "outputs": [
        {
          "output_type": "stream",
          "text": [
            "P = [2 1 0 1 2 1 2 0 0 1]\n",
            "Y = [1 1 1 1 2 2 0 0 1 0]\n"
          ],
          "name": "stdout"
        },
        {
          "output_type": "execute_result",
          "data": {
            "text/plain": [
              "0.07692307692307687"
            ]
          },
          "metadata": {
            "tags": []
          },
          "execution_count": 8
        }
      ]
    },
    {
      "cell_type": "markdown",
      "metadata": {
        "id": "nOxMtvqWlBbR",
        "colab_type": "text"
      },
      "source": [
        "# Avalia a classificação por probabilidadade diretamente (sem ponto de corte)\n",
        "+ em sklearn `mdl.predict_proba`\n",
        "+ Em geral, basta está acima de 50% (ter um ponto de corte) que agente avalia\n",
        "+ Com essa métricas, verificamos a porcentagem de certeza para da decisão donosso classificador"
      ]
    },
    {
      "cell_type": "markdown",
      "metadata": {
        "id": "Ey5w_1vdlNCd",
        "colab_type": "text"
      },
      "source": [
        "# Log Loss\n",
        "- calculada para a probabilidade empírica do evento. Proporção que o evento ocorre na vida real\n",
        "- Se o time A jogar contra o time B e tiver 40% de chances de ganhar, se jogarem 10 vezes, 4 vezes o time A vai ganhar.\n",
        "- Se tivermos um modelo para prever isso, entâão, A log loss estará na mínima quando o modelo prever 0.4\n",
        "- Ou seja, nosso modleo atingir 0.4 significa que está ótimo\n",
        "\n",
        "**Se um evento no mundo real tem uma probabilidade limitada de acontecer, então nosso modelo também deverá ter essa mesma probabilidade na log loss se for perfeito**\n",
        "\n",
        "Em um evento onde já se sabe a probaiblidade, já sabemos o limite que uma log loss pode ter, então, quão mais próximo dessa porcentagem melhor o nosos modelo.\n",
        "\n",
        "A log loss estará minimizada (loss é o erro, erro mínimo == melhor modelo) quando o modelo prever exatamente  a prob de como o evento ocorre na vida real.\n",
        "\n",
        "**É A MESMA COISA QUE BINARYCROSS ENTROPY = TEORIA DA INFORMAÇÃO**\n",
        "\n",
        "**EM suma: A log loss é minimizada (modelo perfeito) quando a prob prevista é igual a probabildiade real**\n",
        "\n",
        "---\n",
        "\n",
        "Quando usar: A log loss é imporante quando a probabilidade para classificar algo tem que ser bem calibrada.\n",
        "\n",
        "quanto menor a log losss, melhor"
      ]
    },
    {
      "cell_type": "code",
      "metadata": {
        "id": "OVzkEHLvlLoS",
        "colab_type": "code",
        "colab": {
          "base_uri": "https://localhost:8080/",
          "height": 89
        },
        "outputId": "9f8843d9-ff51-4c93-9ce6-4872c66ad14b"
      },
      "source": [
        "from sklearn.metrics import log_loss\n",
        "\n",
        "print(\"P = {}\\nY = {}\".format(p_binary, y_binary))\n",
        "\n",
        "log_loss(y_binary, p_binary)"
      ],
      "execution_count": null,
      "outputs": [
        {
          "output_type": "stream",
          "text": [
            "P = [0.49460165 0.2280831  0.25547392 0.39632991 0.3773151  0.99657423\n",
            " 0.4081972  0.77189399 0.76053669 0.31000935]\n",
            "Y = [0 0 0 1 1 1 0 1 1 0]\n"
          ],
          "name": "stdout"
        },
        {
          "output_type": "execute_result",
          "data": {
            "text/plain": [
              "0.456820673923256"
            ]
          },
          "metadata": {
            "tags": []
          },
          "execution_count": 10
        }
      ]
    },
    {
      "cell_type": "code",
      "metadata": {
        "id": "mJ7MmeovKmR7",
        "colab_type": "code",
        "colab": {
          "base_uri": "https://localhost:8080/",
          "height": 35
        },
        "outputId": "edca08fa-1320-4d00-d3e1-25ddecb62267"
      },
      "source": [
        "# Previsâo aleartória\n",
        "p_random = np.ones(10) * 0.5\n",
        "log_loss(y_binary, p_random)\n",
        "\n",
        "# Para uma previsâo binária, seu modelo deve estár abaixo de 0.69"
      ],
      "execution_count": null,
      "outputs": [
        {
          "output_type": "execute_result",
          "data": {
            "text/plain": [
              "0.6931471805599453"
            ]
          },
          "metadata": {
            "tags": []
          },
          "execution_count": 11
        }
      ]
    },
    {
      "cell_type": "markdown",
      "metadata": {
        "id": "_shnSa77m2_7",
        "colab_type": "text"
      },
      "source": [
        "# ROC AUC\n",
        "- Interpretar ROC-AUC: **Qual é a chance de um exemplo positivo ter um score (previsão) maior do que um negativo?**\n",
        "- bom quando garantir que positivos sejam rankeados acima dos negativos é mais importante do que prever a probabilidade real do evento\n",
        "  + Exemplo do Spam: Diferente da log loss,eu não me importa com a probabildiade (a certesa do modelo) em classificar se é span ou não (pois isso depende também no threshold). **Eu quero que o email que tenha mais cara de spam  mesmo seja devidamente classificado como span**"
      ]
    },
    {
      "cell_type": "code",
      "metadata": {
        "id": "RiZGG05TmKZh",
        "colab_type": "code",
        "colab": {
          "base_uri": "https://localhost:8080/",
          "height": 107
        },
        "outputId": "65cf5970-6734-4fd6-f074-6f084e886946"
      },
      "source": [
        "from sklearn.metrics import roc_auc_score\n",
        "\n",
        "print(\"P = {}\\nY = {}\".format(p_binary, y_binary))\n",
        "\n",
        "print(\"ROC Score - Meu Modelo\", roc_auc_score(y_binary, p_binary))\n",
        "\n",
        "print(\"ROC Score - Modelo Random\", roc_auc_score(y_binary, p_random))"
      ],
      "execution_count": null,
      "outputs": [
        {
          "output_type": "stream",
          "text": [
            "P = [0.49460165 0.2280831  0.25547392 0.39632991 0.3773151  0.99657423\n",
            " 0.4081972  0.77189399 0.76053669 0.31000935]\n",
            "Y = [0 0 0 1 1 1 0 1 1 0]\n",
            "ROC Score - Meu Modelo 0.84\n",
            "ROC Score - Modelo Random 0.5\n"
          ],
          "name": "stdout"
        }
      ]
    },
    {
      "cell_type": "markdown",
      "metadata": {
        "id": "OPzUup2YMtOI",
        "colab_type": "text"
      },
      "source": [
        "+ qual é a chance de um exemplo positivo ter um score (previsão) maior do que um negativo?\n",
        "+ bom quando garantir que positivos sejam rankeados acima dos negativos é mais importante do que prever a probabilidade real do evento\n",
        "\n",
        "Experimento\n",
        "\n",
        "+ Suponha que tenha duas caixas, uma com só exemplos positivos e outra com apenas exemplo negativas.\n",
        "+ Eu quero saber: vou tirar dessas caixas um exemplo positivo e um exemplo de negativo ver a probabildiades do meu modelo e devolver pra caixa (é uma coisa de probabilidade sem reposiçâo, possa pegar o mesmo mais de uma vez)\n",
        " - Olho a prob que meu modelo deu para esse exmeplo positivo\n",
        " - Olho a prob que meu modelo deu para o exemplo negativo\n",
        "\n",
        "Se a prob do positivo é maior que negativo, entaô, conto +1.\n",
        "\n",
        "A porcentagem de veze que o positov > negativo = AUC Score\n",
        "\n",
        "AUC SCORE = **qual é a chance de um exemplo positivo ter uma prob maior que o do negativo**\n",
        "\n",
        "É mais interressante quando eu quero saber que os positivos sejam mais identificáveis com certeza que os negativo (de certa forma um pouco relacionado com a Precision para os positivos)."
      ]
    },
    {
      "cell_type": "code",
      "metadata": {
        "id": "q-bBwjyOmaMw",
        "colab_type": "code",
        "colab": {
          "base_uri": "https://localhost:8080/",
          "height": 35
        },
        "outputId": "ae050461-1c2f-4ba6-f698-4ca4aaa21b2e"
      },
      "source": [
        "sum_over = 0\n",
        "total = 100000\n",
        "\n",
        "for i in range(total):\n",
        "\n",
        "  caixa_de_positivos = p_binary[y_binary == 1] # caixa com só positivo\n",
        "  caixa_de_negativos = p_binary[y_binary == 0] # caixa com só negativo\n",
        "\n",
        "  positivo = np.random.choice(caixa_de_positivos, size=1, replace=False)\n",
        "  negativo = np.random.choice(caixa_de_negativos, size=1, replace=False)\n",
        "\n",
        "  if positivo > negativo:\n",
        "    sum_over += 1\n",
        "\n",
        "sum_over / total"
      ],
      "execution_count": null,
      "outputs": [
        {
          "output_type": "execute_result",
          "data": {
            "text/plain": [
              "0.83897"
            ]
          },
          "metadata": {
            "tags": []
          },
          "execution_count": 18
        }
      ]
    },
    {
      "cell_type": "markdown",
      "metadata": {
        "id": "ijHo0ufnpMCv",
        "colab_type": "text"
      },
      "source": [
        "# AUC da PRC - Area Under the Precision-Recall Curve\n",
        "- É AVALIAR O ODELO INDEPNDENTE DO THRESHOLD\n",
        "- acho mais estável e mais fácil de interpretar\n",
        "- É uma média ponderada da curva de precision/recall\n",
        "- **VOCÊ CONSEGUE AVALIAR INDEPENDENTE DO PONTO DE CORTE E ALÉM DISSO, VER O DESEMPENHO PARA VÁRIOS PONTOS DE CORTES DIFERENTES**\n",
        "  + Assim, depois de usála, podemos escolher um ponto de corte bom\n",
        "\n",
        "\n",
        "[tabela](https://scikit-learn.org/stable/auto_examples/model_selection/plot_precision_recall.html#sphx-glr-auto-examples-model-selection-plot-precision-recall-py)\n",
        "\n",
        "[average_precision_score](https://scikit-learn.org/stable/modules/generated/sklearn.metrics.average_precision_score.html)"
      ]
    },
    {
      "cell_type": "code",
      "metadata": {
        "id": "V9lgYBr0o4Fi",
        "colab_type": "code",
        "colab": {
          "base_uri": "https://localhost:8080/",
          "height": 89
        },
        "outputId": "c68244f5-ae3d-43e2-f159-19cd6904633d"
      },
      "source": [
        "from sklearn.metrics import average_precision_score\n",
        "print(\"P = {}\\nY = {}\".format(p_binary, y_binary))\n",
        "\n",
        "average_precision_score(y_binary, p_binary)"
      ],
      "execution_count": null,
      "outputs": [
        {
          "output_type": "stream",
          "text": [
            "P = [0.49460165 0.2280831  0.25547392 0.39632991 0.3773151  0.99657423\n",
            " 0.4081972  0.77189399 0.76053669 0.31000935]\n",
            "Y = [0 0 0 1 1 1 0 1 1 0]\n"
          ],
          "name": "stdout"
        },
        {
          "output_type": "execute_result",
          "data": {
            "text/plain": [
              "0.8761904761904762"
            ]
          },
          "metadata": {
            "tags": []
          },
          "execution_count": 19
        }
      ]
    },
    {
      "cell_type": "markdown",
      "metadata": {
        "id": "c3w9StXHQ_Kq",
        "colab_type": "text"
      },
      "source": [
        "### Um resuminho de tudo"
      ]
    },
    {
      "cell_type": "code",
      "metadata": {
        "id": "irT-nIGTpxd4",
        "colab_type": "code",
        "colab": {
          "base_uri": "https://localhost:8080/",
          "height": 197
        },
        "outputId": "8393582c-8400-4a13-a7ee-95ab35589771"
      },
      "source": [
        "from sklearn.metrics import classification_report\n",
        "\n",
        "print(classification_report(y_multi, p_multi_argmax))"
      ],
      "execution_count": null,
      "outputs": [
        {
          "output_type": "stream",
          "text": [
            "              precision    recall  f1-score   support\n",
            "\n",
            "           0       0.33      0.33      0.33         3\n",
            "           1       0.50      0.40      0.44         5\n",
            "           2       0.33      0.50      0.40         2\n",
            "\n",
            "    accuracy                           0.40        10\n",
            "   macro avg       0.39      0.41      0.39        10\n",
            "weighted avg       0.42      0.40      0.40        10\n",
            "\n"
          ],
          "name": "stdout"
        }
      ]
    },
    {
      "cell_type": "code",
      "metadata": {
        "id": "rowRScoOqYQ1",
        "colab_type": "code",
        "colab": {}
      },
      "source": [
        ""
      ],
      "execution_count": null,
      "outputs": []
    },
    {
      "cell_type": "markdown",
      "metadata": {
        "id": "AAKyNpixRmPK",
        "colab_type": "text"
      },
      "source": [
        "## Outros Comentários\n",
        "\n",
        "=> Uma ideia interressante seria fazer um modelo focado em recall primiero e depois outro apra precision\n",
        "\n",
        "==> recall x precision: se detectar positivos/negativos for mais importante que acertar positivos/negativos, entâo recall é m ais imporatnte\n",
        "\n",
        "==> Se nâo há ponto de corte e dados desbalanceados: AUC e PRC \n",
        "\n",
        "==> Como saber se ocorreu ovefiting: \n",
        "+ Em geral é quando score de testes está diferente do score de treinamento"
      ]
    }
  ]
}