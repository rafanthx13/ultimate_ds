{
  "nbformat": 4,
  "nbformat_minor": 0,
  "metadata": {
    "colab": {
      "name": "Mario Filho Live 28 - Feature Selection Part 2",
      "provenance": [],
      "collapsed_sections": []
    },
    "kernelspec": {
      "name": "python3",
      "display_name": "Python 3"
    }
  },
  "cells": [
    {
      "cell_type": "markdown",
      "metadata": {
        "id": "2djOdDx3L3sc",
        "colab_type": "text"
      },
      "source": [
        "# Mario Filho Live 28 - Feature Selection Part 2\n",
        "\n",
        "**Removendo variáveis irrelevantes**\n",
        "\n",
        "Link: https://bit.ly/mario-live28 \n",
        "\n",
        "Para um modelo de Regressão vamos usar uma série de estratégias para escolher as melhores features para nossso problema:\n",
        "\n",
        "+ LinearRegression\n",
        "+ Lasso\n",
        "+ Ridge\n",
        "+ RandomForest\n",
        "+ MonteCarlo (Random Experiments Search)\n",
        "\n",
        "QUeremos o menor número de K de featuremais estável que tenha um baixo error (MAE).\n"
      ]
    },
    {
      "cell_type": "code",
      "metadata": {
        "id": "6FkuUtfuFmDQ",
        "colab_type": "code",
        "colab": {}
      },
      "source": [
        "import pandas as pd\n",
        "import numpy as np"
      ],
      "execution_count": null,
      "outputs": []
    },
    {
      "cell_type": "code",
      "metadata": {
        "id": "t878LswiU-G-",
        "colab_type": "code",
        "colab": {
          "base_uri": "https://localhost:8080/",
          "height": 215
        },
        "outputId": "ae25d3ac-9f78-46f4-8b52-a85e5ac86b84"
      },
      "source": [
        "!wget https://archive.ics.uci.edu/ml/machine-learning-databases/00437/Residential-Building-Data-Set.xlsx"
      ],
      "execution_count": null,
      "outputs": [
        {
          "output_type": "stream",
          "text": [
            "--2020-07-05 22:36:46--  https://archive.ics.uci.edu/ml/machine-learning-databases/00437/Residential-Building-Data-Set.xlsx\n",
            "Resolving archive.ics.uci.edu (archive.ics.uci.edu)... 128.195.10.252\n",
            "Connecting to archive.ics.uci.edu (archive.ics.uci.edu)|128.195.10.252|:443... connected.\n",
            "HTTP request sent, awaiting response... 200 OK\n",
            "Length: 311097 (304K) [application/x-httpd-php]\n",
            "Saving to: ‘Residential-Building-Data-Set.xlsx’\n",
            "\n",
            "\r          Residenti   0%[                    ]       0  --.-KB/s               \r         Residentia  12%[=>                  ]  39.00K   150KB/s               \r        Residential  63%[===========>        ] 194.00K   375KB/s               \rResidential-Buildin 100%[===================>] 303.81K   584KB/s    in 0.5s    \n",
            "\n",
            "2020-07-05 22:36:48 (584 KB/s) - ‘Residential-Building-Data-Set.xlsx’ saved [311097/311097]\n",
            "\n"
          ],
          "name": "stdout"
        }
      ]
    },
    {
      "cell_type": "markdown",
      "metadata": {
        "id": "bjMVlsMTMRud",
        "colab_type": "text"
      },
      "source": [
        "## DataSet\n",
        "\n",
        "É um conjunto de feautures sobre a construção de uma obra onde agente vai prever o valor de venda `\"V-9\"`.\n",
        "\n",
        "109 colunas e cerca de 300 rows"
      ]
    },
    {
      "cell_type": "code",
      "metadata": {
        "id": "HTb1yXmhVAAE",
        "colab_type": "code",
        "colab": {
          "base_uri": "https://localhost:8080/",
          "height": 270
        },
        "outputId": "a9051d4c-326b-431f-da8f-cfb180a1f162"
      },
      "source": [
        "data = pd.read_excel(\"Residential-Building-Data-Set.xlsx\", header=1, sheet_name=0)\n",
        "cols = pd.read_excel(\"Residential-Building-Data-Set.xlsx\", sheet_name=1)\n",
        "data.head()"
      ],
      "execution_count": null,
      "outputs": [
        {
          "output_type": "execute_result",
          "data": {
            "text/html": [
              "<div>\n",
              "<style scoped>\n",
              "    .dataframe tbody tr th:only-of-type {\n",
              "        vertical-align: middle;\n",
              "    }\n",
              "\n",
              "    .dataframe tbody tr th {\n",
              "        vertical-align: top;\n",
              "    }\n",
              "\n",
              "    .dataframe thead th {\n",
              "        text-align: right;\n",
              "    }\n",
              "</style>\n",
              "<table border=\"1\" class=\"dataframe\">\n",
              "  <thead>\n",
              "    <tr style=\"text-align: right;\">\n",
              "      <th></th>\n",
              "      <th>START YEAR</th>\n",
              "      <th>START QUARTER</th>\n",
              "      <th>COMPLETION YEAR</th>\n",
              "      <th>COMPLETION QUARTER</th>\n",
              "      <th>V-1</th>\n",
              "      <th>V-2</th>\n",
              "      <th>V-3</th>\n",
              "      <th>V-4</th>\n",
              "      <th>V-5</th>\n",
              "      <th>V-6</th>\n",
              "      <th>V-7</th>\n",
              "      <th>V-8</th>\n",
              "      <th>V-11</th>\n",
              "      <th>V-12</th>\n",
              "      <th>V-13</th>\n",
              "      <th>V-14</th>\n",
              "      <th>V-15</th>\n",
              "      <th>V-16</th>\n",
              "      <th>V-17</th>\n",
              "      <th>V-18</th>\n",
              "      <th>V-19</th>\n",
              "      <th>V-20</th>\n",
              "      <th>V-21</th>\n",
              "      <th>V-22</th>\n",
              "      <th>V-23</th>\n",
              "      <th>V-24</th>\n",
              "      <th>V-25</th>\n",
              "      <th>V-26</th>\n",
              "      <th>V-27</th>\n",
              "      <th>V-28</th>\n",
              "      <th>V-29</th>\n",
              "      <th>V-11.1</th>\n",
              "      <th>V-12.1</th>\n",
              "      <th>V-13.1</th>\n",
              "      <th>V-14.1</th>\n",
              "      <th>V-15.1</th>\n",
              "      <th>V-16.1</th>\n",
              "      <th>V-17.1</th>\n",
              "      <th>V-18.1</th>\n",
              "      <th>V-19.1</th>\n",
              "      <th>...</th>\n",
              "      <th>V-11.3</th>\n",
              "      <th>V-12.3</th>\n",
              "      <th>V-13.3</th>\n",
              "      <th>V-14.3</th>\n",
              "      <th>V-15.3</th>\n",
              "      <th>V-16.3</th>\n",
              "      <th>V-17.3</th>\n",
              "      <th>V-18.3</th>\n",
              "      <th>V-19.3</th>\n",
              "      <th>V-20.3</th>\n",
              "      <th>V-21.3</th>\n",
              "      <th>V-22.3</th>\n",
              "      <th>V-23.3</th>\n",
              "      <th>V-24.3</th>\n",
              "      <th>V-25.3</th>\n",
              "      <th>V-26.3</th>\n",
              "      <th>V-27.3</th>\n",
              "      <th>V-28.3</th>\n",
              "      <th>V-29.3</th>\n",
              "      <th>V-11.4</th>\n",
              "      <th>V-12.4</th>\n",
              "      <th>V-13.4</th>\n",
              "      <th>V-14.4</th>\n",
              "      <th>V-15.4</th>\n",
              "      <th>V-16.4</th>\n",
              "      <th>V-17.4</th>\n",
              "      <th>V-18.4</th>\n",
              "      <th>V-19.4</th>\n",
              "      <th>V-20.4</th>\n",
              "      <th>V-21.4</th>\n",
              "      <th>V-22.4</th>\n",
              "      <th>V-23.4</th>\n",
              "      <th>V-24.4</th>\n",
              "      <th>V-25.4</th>\n",
              "      <th>V-26.4</th>\n",
              "      <th>V-27.4</th>\n",
              "      <th>V-28.4</th>\n",
              "      <th>V-29.4</th>\n",
              "      <th>V-9</th>\n",
              "      <th>V-10</th>\n",
              "    </tr>\n",
              "  </thead>\n",
              "  <tbody>\n",
              "    <tr>\n",
              "      <th>0</th>\n",
              "      <td>81</td>\n",
              "      <td>1</td>\n",
              "      <td>85</td>\n",
              "      <td>1</td>\n",
              "      <td>1</td>\n",
              "      <td>3150.0</td>\n",
              "      <td>920.0</td>\n",
              "      <td>598.5</td>\n",
              "      <td>190</td>\n",
              "      <td>1010.84</td>\n",
              "      <td>16</td>\n",
              "      <td>1200</td>\n",
              "      <td>6713.00</td>\n",
              "      <td>56.2</td>\n",
              "      <td>61.52</td>\n",
              "      <td>6.11</td>\n",
              "      <td>320957.30</td>\n",
              "      <td>3485.8</td>\n",
              "      <td>64.5</td>\n",
              "      <td>239.50</td>\n",
              "      <td>12456.6</td>\n",
              "      <td>15</td>\n",
              "      <td>797.3</td>\n",
              "      <td>809.8</td>\n",
              "      <td>1755.00</td>\n",
              "      <td>8003.0</td>\n",
              "      <td>67.81</td>\n",
              "      <td>63.25</td>\n",
              "      <td>3758.77</td>\n",
              "      <td>42587.00</td>\n",
              "      <td>628132.9</td>\n",
              "      <td>4986.0</td>\n",
              "      <td>55.5</td>\n",
              "      <td>60.78</td>\n",
              "      <td>3.94</td>\n",
              "      <td>297210.1</td>\n",
              "      <td>3663.5</td>\n",
              "      <td>61.50</td>\n",
              "      <td>179.63</td>\n",
              "      <td>9342.45</td>\n",
              "      <td>...</td>\n",
              "      <td>5728.0</td>\n",
              "      <td>52.4</td>\n",
              "      <td>57.65</td>\n",
              "      <td>5.40</td>\n",
              "      <td>262789.00</td>\n",
              "      <td>2931.4</td>\n",
              "      <td>54.20</td>\n",
              "      <td>59.88</td>\n",
              "      <td>3114.15</td>\n",
              "      <td>15</td>\n",
              "      <td>746.800000</td>\n",
              "      <td>815.50</td>\n",
              "      <td>1755.00</td>\n",
              "      <td>8013.0</td>\n",
              "      <td>62.78</td>\n",
              "      <td>56.45</td>\n",
              "      <td>3387.72</td>\n",
              "      <td>10646.75</td>\n",
              "      <td>606524.2</td>\n",
              "      <td>7196.0</td>\n",
              "      <td>51.3</td>\n",
              "      <td>56.13</td>\n",
              "      <td>5.97</td>\n",
              "      <td>249110.70</td>\n",
              "      <td>2562.3</td>\n",
              "      <td>52.80</td>\n",
              "      <td>217.00</td>\n",
              "      <td>10445.6</td>\n",
              "      <td>15</td>\n",
              "      <td>733.800000</td>\n",
              "      <td>815.50</td>\n",
              "      <td>1755.00</td>\n",
              "      <td>8002.0</td>\n",
              "      <td>60.74</td>\n",
              "      <td>54.26</td>\n",
              "      <td>2978.26</td>\n",
              "      <td>41407.0</td>\n",
              "      <td>601988.1</td>\n",
              "      <td>2200</td>\n",
              "      <td>410</td>\n",
              "    </tr>\n",
              "    <tr>\n",
              "      <th>1</th>\n",
              "      <td>84</td>\n",
              "      <td>1</td>\n",
              "      <td>89</td>\n",
              "      <td>4</td>\n",
              "      <td>1</td>\n",
              "      <td>7600.0</td>\n",
              "      <td>1140.0</td>\n",
              "      <td>3040.0</td>\n",
              "      <td>400</td>\n",
              "      <td>963.81</td>\n",
              "      <td>23</td>\n",
              "      <td>2900</td>\n",
              "      <td>3152.00</td>\n",
              "      <td>106.0</td>\n",
              "      <td>103.03</td>\n",
              "      <td>3.15</td>\n",
              "      <td>685697.50</td>\n",
              "      <td>3526.1</td>\n",
              "      <td>105.5</td>\n",
              "      <td>208.80</td>\n",
              "      <td>17584.3</td>\n",
              "      <td>15</td>\n",
              "      <td>1408.4</td>\n",
              "      <td>1473.5</td>\n",
              "      <td>8842.18</td>\n",
              "      <td>8864.0</td>\n",
              "      <td>105.52</td>\n",
              "      <td>105.32</td>\n",
              "      <td>12113.01</td>\n",
              "      <td>45966.00</td>\n",
              "      <td>1188995.8</td>\n",
              "      <td>2700.0</td>\n",
              "      <td>103.0</td>\n",
              "      <td>101.84</td>\n",
              "      <td>2.65</td>\n",
              "      <td>625829.2</td>\n",
              "      <td>4386.9</td>\n",
              "      <td>100.40</td>\n",
              "      <td>156.60</td>\n",
              "      <td>13188.23</td>\n",
              "      <td>...</td>\n",
              "      <td>3157.0</td>\n",
              "      <td>92.8</td>\n",
              "      <td>96.49</td>\n",
              "      <td>3.05</td>\n",
              "      <td>552124.40</td>\n",
              "      <td>3896.7</td>\n",
              "      <td>96.90</td>\n",
              "      <td>52.20</td>\n",
              "      <td>4396.08</td>\n",
              "      <td>15</td>\n",
              "      <td>1294.200000</td>\n",
              "      <td>1288.00</td>\n",
              "      <td>8555.54</td>\n",
              "      <td>8585.0</td>\n",
              "      <td>95.35</td>\n",
              "      <td>94.34</td>\n",
              "      <td>12063.50</td>\n",
              "      <td>11491.50</td>\n",
              "      <td>954628.6</td>\n",
              "      <td>3678.0</td>\n",
              "      <td>86.2</td>\n",
              "      <td>83.21</td>\n",
              "      <td>3.25</td>\n",
              "      <td>526596.40</td>\n",
              "      <td>2790.6</td>\n",
              "      <td>94.10</td>\n",
              "      <td>334.80</td>\n",
              "      <td>14488.6</td>\n",
              "      <td>15</td>\n",
              "      <td>1143.800000</td>\n",
              "      <td>1316.30</td>\n",
              "      <td>8364.78</td>\n",
              "      <td>8393.0</td>\n",
              "      <td>90.95</td>\n",
              "      <td>89.79</td>\n",
              "      <td>11379.37</td>\n",
              "      <td>44835.0</td>\n",
              "      <td>929027.1</td>\n",
              "      <td>5000</td>\n",
              "      <td>1000</td>\n",
              "    </tr>\n",
              "    <tr>\n",
              "      <th>2</th>\n",
              "      <td>78</td>\n",
              "      <td>1</td>\n",
              "      <td>81</td>\n",
              "      <td>4</td>\n",
              "      <td>1</td>\n",
              "      <td>4800.0</td>\n",
              "      <td>840.0</td>\n",
              "      <td>480.0</td>\n",
              "      <td>100</td>\n",
              "      <td>689.84</td>\n",
              "      <td>15</td>\n",
              "      <td>630</td>\n",
              "      <td>1627.00</td>\n",
              "      <td>41.0</td>\n",
              "      <td>41.25</td>\n",
              "      <td>1.74</td>\n",
              "      <td>160401.50</td>\n",
              "      <td>1217.5</td>\n",
              "      <td>34.4</td>\n",
              "      <td>285.80</td>\n",
              "      <td>6489.1</td>\n",
              "      <td>15</td>\n",
              "      <td>614.0</td>\n",
              "      <td>608.2</td>\n",
              "      <td>1755.00</td>\n",
              "      <td>7773.0</td>\n",
              "      <td>45.91</td>\n",
              "      <td>38.34</td>\n",
              "      <td>1537.96</td>\n",
              "      <td>39066.00</td>\n",
              "      <td>524764.8</td>\n",
              "      <td>1580.0</td>\n",
              "      <td>40.3</td>\n",
              "      <td>40.84</td>\n",
              "      <td>1.15</td>\n",
              "      <td>150266.8</td>\n",
              "      <td>1149.5</td>\n",
              "      <td>34.10</td>\n",
              "      <td>214.35</td>\n",
              "      <td>4866.83</td>\n",
              "      <td>...</td>\n",
              "      <td>2374.0</td>\n",
              "      <td>38.0</td>\n",
              "      <td>39.43</td>\n",
              "      <td>0.92</td>\n",
              "      <td>134548.40</td>\n",
              "      <td>1191.1</td>\n",
              "      <td>33.70</td>\n",
              "      <td>71.45</td>\n",
              "      <td>1622.28</td>\n",
              "      <td>15</td>\n",
              "      <td>574.600000</td>\n",
              "      <td>680.50</td>\n",
              "      <td>1755.00</td>\n",
              "      <td>5565.0</td>\n",
              "      <td>41.03</td>\n",
              "      <td>33.37</td>\n",
              "      <td>1601.79</td>\n",
              "      <td>9766.50</td>\n",
              "      <td>403875.0</td>\n",
              "      <td>2693.0</td>\n",
              "      <td>36.2</td>\n",
              "      <td>37.64</td>\n",
              "      <td>1.55</td>\n",
              "      <td>134312.50</td>\n",
              "      <td>1529.0</td>\n",
              "      <td>31.43</td>\n",
              "      <td>175.70</td>\n",
              "      <td>3994.7</td>\n",
              "      <td>15</td>\n",
              "      <td>589.500000</td>\n",
              "      <td>765.80</td>\n",
              "      <td>1755.00</td>\n",
              "      <td>4930.0</td>\n",
              "      <td>38.70</td>\n",
              "      <td>32.04</td>\n",
              "      <td>1653.06</td>\n",
              "      <td>37933.0</td>\n",
              "      <td>377828.6</td>\n",
              "      <td>1200</td>\n",
              "      <td>170</td>\n",
              "    </tr>\n",
              "    <tr>\n",
              "      <th>3</th>\n",
              "      <td>72</td>\n",
              "      <td>2</td>\n",
              "      <td>73</td>\n",
              "      <td>2</td>\n",
              "      <td>1</td>\n",
              "      <td>685.0</td>\n",
              "      <td>202.0</td>\n",
              "      <td>13.7</td>\n",
              "      <td>20</td>\n",
              "      <td>459.54</td>\n",
              "      <td>4</td>\n",
              "      <td>140</td>\n",
              "      <td>2580.93</td>\n",
              "      <td>12.1</td>\n",
              "      <td>10.03</td>\n",
              "      <td>1.24</td>\n",
              "      <td>38193.64</td>\n",
              "      <td>287.2</td>\n",
              "      <td>13.6</td>\n",
              "      <td>17.03</td>\n",
              "      <td>154.4</td>\n",
              "      <td>12</td>\n",
              "      <td>183.6</td>\n",
              "      <td>211.1</td>\n",
              "      <td>1612.95</td>\n",
              "      <td>1649.0</td>\n",
              "      <td>11.62</td>\n",
              "      <td>10.06</td>\n",
              "      <td>392.96</td>\n",
              "      <td>8435.75</td>\n",
              "      <td>141542.6</td>\n",
              "      <td>2952.0</td>\n",
              "      <td>11.6</td>\n",
              "      <td>8.50</td>\n",
              "      <td>1.99</td>\n",
              "      <td>35859.4</td>\n",
              "      <td>322.5</td>\n",
              "      <td>12.67</td>\n",
              "      <td>56.60</td>\n",
              "      <td>610.40</td>\n",
              "      <td>...</td>\n",
              "      <td>2312.0</td>\n",
              "      <td>10.6</td>\n",
              "      <td>5.44</td>\n",
              "      <td>2.58</td>\n",
              "      <td>30012.46</td>\n",
              "      <td>345.3</td>\n",
              "      <td>10.79</td>\n",
              "      <td>28.30</td>\n",
              "      <td>305.20</td>\n",
              "      <td>12</td>\n",
              "      <td>180.371507</td>\n",
              "      <td>158.45</td>\n",
              "      <td>1439.00</td>\n",
              "      <td>1450.0</td>\n",
              "      <td>9.91</td>\n",
              "      <td>8.85</td>\n",
              "      <td>590.64</td>\n",
              "      <td>16388.00</td>\n",
              "      <td>121857.2</td>\n",
              "      <td>1381.0</td>\n",
              "      <td>10.0</td>\n",
              "      <td>3.91</td>\n",
              "      <td>3.00</td>\n",
              "      <td>27231.21</td>\n",
              "      <td>316.5</td>\n",
              "      <td>9.85</td>\n",
              "      <td>14.15</td>\n",
              "      <td>152.6</td>\n",
              "      <td>12</td>\n",
              "      <td>197.679557</td>\n",
              "      <td>152.25</td>\n",
              "      <td>1442.31</td>\n",
              "      <td>1456.0</td>\n",
              "      <td>9.73</td>\n",
              "      <td>8.34</td>\n",
              "      <td>686.16</td>\n",
              "      <td>8194.0</td>\n",
              "      <td>122031.7</td>\n",
              "      <td>165</td>\n",
              "      <td>30</td>\n",
              "    </tr>\n",
              "    <tr>\n",
              "      <th>4</th>\n",
              "      <td>87</td>\n",
              "      <td>1</td>\n",
              "      <td>90</td>\n",
              "      <td>2</td>\n",
              "      <td>1</td>\n",
              "      <td>3000.0</td>\n",
              "      <td>800.0</td>\n",
              "      <td>1230.0</td>\n",
              "      <td>410</td>\n",
              "      <td>631.91</td>\n",
              "      <td>13</td>\n",
              "      <td>5000</td>\n",
              "      <td>6790.00</td>\n",
              "      <td>203.8</td>\n",
              "      <td>162.84</td>\n",
              "      <td>6.46</td>\n",
              "      <td>1640293.00</td>\n",
              "      <td>10855.3</td>\n",
              "      <td>229.3</td>\n",
              "      <td>393.30</td>\n",
              "      <td>69444.8</td>\n",
              "      <td>11</td>\n",
              "      <td>2738.8</td>\n",
              "      <td>3148.0</td>\n",
              "      <td>9248.40</td>\n",
              "      <td>9380.0</td>\n",
              "      <td>158.63</td>\n",
              "      <td>169.50</td>\n",
              "      <td>10082.00</td>\n",
              "      <td>49572.00</td>\n",
              "      <td>2318397.0</td>\n",
              "      <td>6370.0</td>\n",
              "      <td>190.3</td>\n",
              "      <td>154.36</td>\n",
              "      <td>5.33</td>\n",
              "      <td>1523166.6</td>\n",
              "      <td>12930.0</td>\n",
              "      <td>210.70</td>\n",
              "      <td>294.98</td>\n",
              "      <td>52083.60</td>\n",
              "      <td>...</td>\n",
              "      <td>7045.0</td>\n",
              "      <td>160.0</td>\n",
              "      <td>141.34</td>\n",
              "      <td>4.72</td>\n",
              "      <td>1341072.80</td>\n",
              "      <td>8245.0</td>\n",
              "      <td>173.80</td>\n",
              "      <td>98.33</td>\n",
              "      <td>17361.20</td>\n",
              "      <td>11</td>\n",
              "      <td>2451.200000</td>\n",
              "      <td>2526.40</td>\n",
              "      <td>9254.28</td>\n",
              "      <td>9306.0</td>\n",
              "      <td>136.56</td>\n",
              "      <td>138.80</td>\n",
              "      <td>9291.00</td>\n",
              "      <td>12393.00</td>\n",
              "      <td>1732937.5</td>\n",
              "      <td>5606.0</td>\n",
              "      <td>149.1</td>\n",
              "      <td>134.80</td>\n",
              "      <td>4.09</td>\n",
              "      <td>1284199.40</td>\n",
              "      <td>6622.5</td>\n",
              "      <td>147.60</td>\n",
              "      <td>432.40</td>\n",
              "      <td>73143.5</td>\n",
              "      <td>14</td>\n",
              "      <td>2220.600000</td>\n",
              "      <td>2244.10</td>\n",
              "      <td>9231.76</td>\n",
              "      <td>9286.0</td>\n",
              "      <td>136.60</td>\n",
              "      <td>140.20</td>\n",
              "      <td>9821.00</td>\n",
              "      <td>48260.0</td>\n",
              "      <td>1734973.5</td>\n",
              "      <td>5500</td>\n",
              "      <td>700</td>\n",
              "    </tr>\n",
              "  </tbody>\n",
              "</table>\n",
              "<p>5 rows × 109 columns</p>\n",
              "</div>"
            ],
            "text/plain": [
              "   START YEAR  START QUARTER  COMPLETION YEAR  ...     V-29.4   V-9  V-10\n",
              "0          81              1               85  ...   601988.1  2200   410\n",
              "1          84              1               89  ...   929027.1  5000  1000\n",
              "2          78              1               81  ...   377828.6  1200   170\n",
              "3          72              2               73  ...   122031.7   165    30\n",
              "4          87              1               90  ...  1734973.5  5500   700\n",
              "\n",
              "[5 rows x 109 columns]"
            ]
          },
          "metadata": {
            "tags": []
          },
          "execution_count": 3
        }
      ]
    },
    {
      "cell_type": "code",
      "metadata": {
        "id": "ddJl1NjCVDH2",
        "colab_type": "code",
        "colab": {}
      },
      "source": [
        "# Retirando Y\n",
        "y = data['V-9']\n",
        "\n",
        "# X = tudo - Y ('V-10' é outro valor de venda que não vamos usar , mas poderia ser um outro Y)\n",
        "X = data.drop(['V-9', 'V-10'], axis=1)"
      ],
      "execution_count": null,
      "outputs": []
    },
    {
      "cell_type": "code",
      "metadata": {
        "id": "-CsCqCbwVHDZ",
        "colab_type": "code",
        "colab": {
          "base_uri": "https://localhost:8080/",
          "height": 35
        },
        "outputId": "5367106d-4256-413f-a52b-32dc89ae3533"
      },
      "source": [
        "from sklearn.model_selection import train_test_split\n",
        "\n",
        "# split train and test\n",
        "Xtrain, Xval, ytrain, yval = train_test_split(X,y, train_size=0.5, random_state=0)\n",
        "Xtrain.shape, Xval.shape, ytrain.shape, yval.shape \n",
        "\n",
        "# Usando um Random Forest de k = 30 obtivemos o seguinte erro MAE\n",
        "# RandomForest => k = 30 => MAE = 104.52629928315412"
      ],
      "execution_count": null,
      "outputs": [
        {
          "output_type": "execute_result",
          "data": {
            "text/plain": [
              "((186, 107), (186, 107), (186,), (186,))"
            ]
          },
          "metadata": {
            "tags": []
          },
          "execution_count": 5
        }
      ]
    },
    {
      "cell_type": "code",
      "metadata": {
        "id": "HOygZ27gOdSM",
        "colab_type": "code",
        "colab": {}
      },
      "source": [
        "from sklearn.feature_selection import SelectFromModel\n",
        "from sklearn.metrics import mean_absolute_error\n",
        "\n",
        "from sklearn.linear_model import LinearRegression, Ridge, Lasso\n",
        "from sklearn.ensemble import RandomForestRegressor\n",
        "from xgboost import XGBRegressor"
      ],
      "execution_count": null,
      "outputs": []
    },
    {
      "cell_type": "markdown",
      "metadata": {
        "id": "3Ck_I4MzPHMd",
        "colab_type": "text"
      },
      "source": [
        "Vamos fazer um feautre selection com regressão linear: Vamos escolher as 10 melhores features.\n",
        "\n",
        "**OBS**: As melhores feautres selecionadas pelo LinearRegression podem não ser as melhores em outros modelos mas o são esse modelo.\n",
        "+ Então, usando LinearRegression essa 10 features `['START YEAR', 'START QUARTER', 'COMPLETION YEAR', 'COMPLETION QUARTER','V-7', 'V-20', 'V-14.1', 'V-14.2', 'V-14.3', 'V-20.3']` foram as melhores para esse modelo.\n",
        "\n",
        "**Dica**: Para `get_dummies()`/OneHotEncodign, você faz o feature selection após expandir a quantidade de colunas"
      ]
    },
    {
      "cell_type": "code",
      "metadata": {
        "id": "8iCVEkrAOgAR",
        "colab_type": "code",
        "colab": {
          "base_uri": "https://localhost:8080/",
          "height": 89
        },
        "outputId": "359938a3-0683-49c3-c113-267ad2df2fbf"
      },
      "source": [
        "# Quantidade de features\n",
        "k = 10\n",
        "# Linear Regression com normalização dos dados\n",
        "selector_model = LinearRegression(normalize=True)\n",
        "# seletor que: dado um modelo vai retornar os melhores parametros\n",
        "#   OBS: threshold=-np.inf => Pois há um ponto de corte por default\n",
        "selector = SelectFromModel(selector_model, max_features=k, threshold=-np.inf)\n",
        "# Treinamos\n",
        "selector.fit(Xtrain, ytrain) \n",
        "# utilizamos tranform para aplicar as 10 melhores features no nosos X\n",
        "Xtrain2 = selector.transform(Xtrain)\n",
        "# Vendo o resultado, saimos de 107 features para 10\n",
        "print(\"antes\", Xtrain.shape, \"| depois:\", Xtrain2.shape)\n",
        "# Vendo quais foram as colunas\n",
        "Xtrain.columns[selector.get_support()]"
      ],
      "execution_count": null,
      "outputs": [
        {
          "output_type": "stream",
          "text": [
            "antes (186, 107) | depois: (186, 10)\n"
          ],
          "name": "stdout"
        },
        {
          "output_type": "execute_result",
          "data": {
            "text/plain": [
              "Index(['START YEAR', 'START QUARTER', 'COMPLETION YEAR', 'COMPLETION QUARTER',\n",
              "       'V-7', 'V-20', 'V-14.1', 'V-14.2', 'V-14.3', 'V-20.3'],\n",
              "      dtype='object')"
            ]
          },
          "metadata": {
            "tags": []
          },
          "execution_count": 7
        }
      ]
    },
    {
      "cell_type": "markdown",
      "metadata": {
        "id": "_UH6Bu89SD-F",
        "colab_type": "text"
      },
      "source": [
        "Vamos agora fazer o seguinte: Vams usar as melhores features encontradas pelo LinearREgression e aplicá-las numa RandomForest. Entâo, vamos aumentar a quantidade de K para sabermos assim **O menor número de K mas o mai estável de boas features**"
      ]
    },
    {
      "cell_type": "code",
      "metadata": {
        "id": "h87djy37STOm",
        "colab_type": "code",
        "colab": {
          "base_uri": "https://localhost:8080/",
          "height": 1000
        },
        "outputId": "8d3db85b-b92d-4d6a-9a97-7beea8781ce9"
      },
      "source": [
        "k_vs_score = []\n",
        "\n",
        "for k in range(2, Xtrain.shape[1], 2):\n",
        "  selector_model = LinearRegression(normalize=True)\n",
        "  selector = SelectFromModel(selector_model, max_features=k, threshold=-np.inf)\n",
        "  selector.fit(Xtrain, ytrain)\n",
        "  Xtrain2 = selector.transform(Xtrain)\n",
        "  Xval2 = selector.transform(Xval)\n",
        "  print(Xtrain.shape, Xtrain2.shape)\n",
        "  mdl = XGBRegressor(objective=\"reg:squarederror\", seed=0)\n",
        "  mdl.fit(Xtrain2, ytrain)\n",
        "  p = mdl.predict(Xval2)\n",
        "  score = mean_absolute_error(yval, p)\n",
        "  print(\"k = {} - MAE = {}\".format(k, score))\n",
        "  k_vs_score.append(score)"
      ],
      "execution_count": null,
      "outputs": [
        {
          "output_type": "stream",
          "text": [
            "(186, 107) (186, 2)\n",
            "k = 2 - MAE = 688.6231625464654\n",
            "(186, 107) (186, 4)\n",
            "k = 4 - MAE = 673.0290604458061\n",
            "(186, 107) (186, 6)\n",
            "k = 6 - MAE = 675.1171455793483\n",
            "(186, 107) (186, 8)\n",
            "k = 8 - MAE = 672.0752140988586\n",
            "(186, 107) (186, 10)\n",
            "k = 10 - MAE = 661.9428047339121\n",
            "(186, 107) (186, 12)\n",
            "k = 12 - MAE = 663.5993194169896\n",
            "(186, 107) (186, 14)\n",
            "k = 14 - MAE = 665.9084259361349\n",
            "(186, 107) (186, 16)\n",
            "k = 16 - MAE = 668.5188003868185\n",
            "(186, 107) (186, 18)\n",
            "k = 18 - MAE = 664.2555795484974\n",
            "(186, 107) (186, 20)\n",
            "k = 20 - MAE = 663.9679338188581\n",
            "(186, 107) (186, 22)\n",
            "k = 22 - MAE = 663.9679338188581\n",
            "(186, 107) (186, 24)\n",
            "k = 24 - MAE = 665.30234642439\n",
            "(186, 107) (186, 26)\n",
            "k = 26 - MAE = 665.30234642439\n",
            "(186, 107) (186, 28)\n",
            "k = 28 - MAE = 659.2691917009251\n",
            "(186, 107) (186, 30)\n",
            "k = 30 - MAE = 670.5523494597404\n",
            "(186, 107) (186, 32)\n",
            "k = 32 - MAE = 675.7511575760379\n",
            "(186, 107) (186, 34)\n",
            "k = 34 - MAE = 675.7511575760379\n",
            "(186, 107) (186, 36)\n",
            "k = 36 - MAE = 670.3992965862316\n",
            "(186, 107) (186, 38)\n",
            "k = 38 - MAE = 670.3992965862316\n",
            "(186, 107) (186, 40)\n",
            "k = 40 - MAE = 672.6607584389308\n",
            "(186, 107) (186, 42)\n",
            "k = 42 - MAE = 671.4959259033203\n",
            "(186, 107) (186, 44)\n",
            "k = 44 - MAE = 678.1650030484764\n",
            "(186, 107) (186, 46)\n",
            "k = 46 - MAE = 676.6393124980311\n",
            "(186, 107) (186, 48)\n",
            "k = 48 - MAE = 674.7798527133081\n",
            "(186, 107) (186, 50)\n",
            "k = 50 - MAE = 677.4225905633742\n",
            "(186, 107) (186, 52)\n",
            "k = 52 - MAE = 677.4285406297253\n",
            "(186, 107) (186, 54)\n",
            "k = 54 - MAE = 672.0570874778173\n",
            "(186, 107) (186, 56)\n",
            "k = 56 - MAE = 682.9525596864762\n",
            "(186, 107) (186, 58)\n",
            "k = 58 - MAE = 673.9527030452605\n",
            "(186, 107) (186, 60)\n",
            "k = 60 - MAE = 678.2167003180391\n",
            "(186, 107) (186, 62)\n",
            "k = 62 - MAE = 676.3325887700563\n",
            "(186, 107) (186, 64)\n",
            "k = 64 - MAE = 679.8422842538484\n",
            "(186, 107) (186, 66)\n",
            "k = 66 - MAE = 675.7743459722047\n",
            "(186, 107) (186, 68)\n",
            "k = 68 - MAE = 672.2583084106445\n",
            "(186, 107) (186, 70)\n",
            "k = 70 - MAE = 678.6538477251606\n",
            "(186, 107) (186, 72)\n",
            "k = 72 - MAE = 669.9864333778299\n",
            "(186, 107) (186, 74)\n",
            "k = 74 - MAE = 671.115362433977\n",
            "(186, 107) (186, 76)\n",
            "k = 76 - MAE = 675.6091590799311\n",
            "(186, 107) (186, 78)\n",
            "k = 78 - MAE = 671.8698749337145\n",
            "(186, 107) (186, 80)\n",
            "k = 80 - MAE = 672.1478899883967\n",
            "(186, 107) (186, 82)\n",
            "k = 82 - MAE = 670.6323466147146\n",
            "(186, 107) (186, 84)\n",
            "k = 84 - MAE = 663.0167022623042\n",
            "(186, 107) (186, 86)\n",
            "k = 86 - MAE = 665.123405456543\n",
            "(186, 107) (186, 88)\n",
            "k = 88 - MAE = 672.002566019694\n",
            "(186, 107) (186, 90)\n",
            "k = 90 - MAE = 674.9174828478085\n",
            "(186, 107) (186, 92)\n",
            "k = 92 - MAE = 677.619516598281\n",
            "(186, 107) (186, 94)\n",
            "k = 94 - MAE = 667.2670421805433\n",
            "(186, 107) (186, 96)\n",
            "k = 96 - MAE = 667.2670421805433\n",
            "(186, 107) (186, 98)\n",
            "k = 98 - MAE = 677.9677159299133\n",
            "(186, 107) (186, 100)\n",
            "k = 100 - MAE = 677.9677159299133\n",
            "(186, 107) (186, 102)\n",
            "k = 102 - MAE = 93.38323416761173\n",
            "(186, 107) (186, 104)\n",
            "k = 104 - MAE = 95.19896304222846\n",
            "(186, 107) (186, 106)\n",
            "k = 106 - MAE = 96.30298593992828\n"
          ],
          "name": "stdout"
        }
      ]
    },
    {
      "cell_type": "markdown",
      "metadata": {
        "id": "H7H4QW6KThhJ",
        "colab_type": "text"
      },
      "source": [
        "*Parei em 27 minutos*\n",
        "\n",
        "Analisando:\n",
        "\n",
        "Perceba que o erro só cai mesmo lá pras 100 features. Ou seja,  não consegue uma boa previsão até ter k =~ 100"
      ]
    },
    {
      "cell_type": "code",
      "metadata": {
        "id": "sZMI1kAuSDXZ",
        "colab_type": "code",
        "colab": {
          "base_uri": "https://localhost:8080/",
          "height": 338
        },
        "outputId": "f5fcc045-b804-4089-acc3-4cb6e9c1234a"
      },
      "source": [
        "pd.Series(k_vs_score[1:],index=range(4,X.shape[1],2)).plot(figsize=(8,5))"
      ],
      "execution_count": null,
      "outputs": [
        {
          "output_type": "execute_result",
          "data": {
            "text/plain": [
              "<matplotlib.axes._subplots.AxesSubplot at 0x7f1f340aa9b0>"
            ]
          },
          "metadata": {
            "tags": []
          },
          "execution_count": 16
        },
        {
          "output_type": "display_data",
          "data": {
            "image/png": "[encoded data removed]",
            "text/plain": [
              "<Figure size 576x360 with 1 Axes>"
            ]
          },
          "metadata": {
            "tags": [],
            "needs_background": "light"
          }
        }
      ]
    },
    {
      "cell_type": "markdown",
      "metadata": {
        "id": "uv1AczVPIUFa",
        "colab_type": "text"
      },
      "source": [
        "Um dos grandes motivos para isso acontecer é por que **há muitas features para poucas linhas**.\n",
        "\n",
        "**Isso pode ser corrigido com regularização**."
      ]
    },
    {
      "cell_type": "markdown",
      "metadata": {
        "id": "sjjgFcoUIl6q",
        "colab_type": "text"
      },
      "source": [
        "## Ridge Regression\n",
        "\n",
        "**Obs**:\n",
        "+ `Ridge(alpha=0.1, normalize=True)`\n",
        "  - Quando menor o alpha, menor é a regularização\n"
      ]
    },
    {
      "cell_type": "code",
      "metadata": {
        "id": "xqx5VjTTIn6D",
        "colab_type": "code",
        "colab": {
          "base_uri": "https://localhost:8080/",
          "height": 394
        },
        "outputId": "558783aa-c3d3-4bbe-e429-102c194885a9"
      },
      "source": [
        "k_vs_score = []\n",
        "bests_features = None\n",
        "best_score = 99999\n",
        "\n",
        "for k in range(2, Xtrain.shape[1], 2):\n",
        "  selector_model = Ridge(alpha=0.1, normalize=True)\n",
        "  selector = SelectFromModel(selector_model, max_features=k, threshold=-np.inf)\n",
        "  selector.fit(Xtrain, ytrain)\n",
        "  Xtrain2 = selector.transform(Xtrain)\n",
        "  Xval2 = selector.transform(Xval)\n",
        "  # print(Xtrain.shape, Xtrain2.shape)\n",
        "  mdl = XGBRegressor(objective=\"reg:squarederror\", seed=0)\n",
        "  mdl.fit(Xtrain2, ytrain)\n",
        "  p = mdl.predict(Xval2)\n",
        "  score = mean_absolute_error(yval, p)\n",
        "  # print(\"k = {} - MAE = {}\".format(k, score))\n",
        "  k_vs_score.append(score)\n",
        "  if score < best_score:\n",
        "    best_score = score\n",
        "    bests_features = selector.get_support()\n",
        "\n",
        "print(\"Ridge Regression\")\n",
        "print(\"best k = \", np.sum(bests_features), \"| mae = \", best_score)\n",
        "print(Xtrain.columns[bests_features].values.tolist())\n",
        "\n",
        "pd.Series(k_vs_score[1:],index=range(4,X.shape[1],2)).plot(figsize=(8,5))"
      ],
      "execution_count": null,
      "outputs": [
        {
          "output_type": "stream",
          "text": [
            "best k =  16 | mae =  81.84566514210034\n",
            "['START YEAR', 'COMPLETION YEAR', 'V-1', 'V-7', 'V-8', 'V-14', 'V-20', 'V-14.1', 'V-20.1', 'V-14.2', 'V-20.2', 'V-14.3', 'V-17.3', 'V-20.3', 'V-17.4', 'V-20.4']\n"
          ],
          "name": "stdout"
        },
        {
          "output_type": "execute_result",
          "data": {
            "text/plain": [
              "<matplotlib.axes._subplots.AxesSubplot at 0x7f137a4b4c88>"
            ]
          },
          "metadata": {
            "tags": []
          },
          "execution_count": 26
        },
        {
          "output_type": "display_data",
          "data": {
            "image/png": "[encoded data removed]",
            "text/plain": [
              "<Figure size 576x360 with 1 Axes>"
            ]
          },
          "metadata": {
            "tags": [],
            "needs_background": "light"
          }
        }
      ]
    },
    {
      "cell_type": "markdown",
      "metadata": {
        "id": "G5sIoF2HI3Zw",
        "colab_type": "text"
      },
      "source": [
        "Chegamos ao mesmo MAE ~= 100 quando k = 15; enquanto na Regressão Linear, só atingiamos isso com k = 100;"
      ]
    },
    {
      "cell_type": "markdown",
      "metadata": {
        "id": "vBolbeUyJsWv",
        "colab_type": "text"
      },
      "source": [
        "### Regularização Lasso\n",
        "\n",
        "Os coeficientes das `features` que não são importantes ele joga pra zero, ou seja, ele naturalmente já faz uma `feature selection`."
      ]
    },
    {
      "cell_type": "code",
      "metadata": {
        "id": "U4DXHFYfJ6UQ",
        "colab_type": "code",
        "colab": {
          "base_uri": "https://localhost:8080/",
          "height": 392
        },
        "outputId": "58a02e8a-6405-405c-a42b-691761feeef6"
      },
      "source": [
        "k_vs_score = []\n",
        "bests_features = None\n",
        "best_score = 99999\n",
        "\n",
        "for k in range(2, Xtrain.shape[1], 2):\n",
        "  selector_model = Lasso(alpha=1.,normalize=True)\n",
        "  selector = SelectFromModel(selector_model, max_features=k, threshold=-np.inf)\n",
        "  selector.fit(Xtrain, ytrain)\n",
        "  Xtrain2 = selector.transform(Xtrain)\n",
        "  Xval2 = selector.transform(Xval)\n",
        "  # print(Xtrain.shape, Xtrain2.shape)\n",
        "  mdl = XGBRegressor(objective=\"reg:squarederror\", seed=0)\n",
        "  mdl.fit(Xtrain2, ytrain)\n",
        "  p = mdl.predict(Xval2)\n",
        "  score = mean_absolute_error(yval, p)\n",
        "  # print(\"k = {} - MAE = {}\".format(k, score))\n",
        "  k_vs_score.append(score)\n",
        "  if score < best_score:\n",
        "    best_score = score\n",
        "    bests_features = selector.get_support()\n",
        "\n",
        "print(\"Lasso Regression\")\n",
        "print(\"best k = \", np.sum(bests_features), \"| mae = \", best_score)\n",
        "print(Xtrain.columns[bests_features].values.tolist())\n",
        "\n",
        "pd.Series(k_vs_score[1:],index=range(4,X.shape[1],2)).plot(figsize=(8,5))"
      ],
      "execution_count": null,
      "outputs": [
        {
          "output_type": "stream",
          "text": [
            "Lasso Regression\n",
            "best k =  6 | mae =  85.90433604742891\n",
            "['COMPLETION QUARTER', 'V-1', 'V-7', 'V-8', 'V-17.3', 'V-20.4']\n"
          ],
          "name": "stdout"
        },
        {
          "output_type": "execute_result",
          "data": {
            "text/plain": [
              "<matplotlib.axes._subplots.AxesSubplot at 0x7f137a422320>"
            ]
          },
          "metadata": {
            "tags": []
          },
          "execution_count": 27
        },
        {
          "output_type": "display_data",
          "data": {
            "image/png": "[encoded data removed]",
            "text/plain": [
              "<Figure size 576x360 with 1 Axes>"
            ]
          },
          "metadata": {
            "tags": [],
            "needs_background": "light"
          }
        }
      ]
    },
    {
      "cell_type": "markdown",
      "metadata": {
        "id": "EdOeL2s4KBt-",
        "colab_type": "text"
      },
      "source": [
        "Com 6 features ele já bateu o erro de 96"
      ]
    },
    {
      "cell_type": "markdown",
      "metadata": {
        "id": "gsgs2ZrlOeKu",
        "colab_type": "text"
      },
      "source": [
        "## Random Forest"
      ]
    },
    {
      "cell_type": "code",
      "metadata": {
        "id": "T3htMGo9OgCz",
        "colab_type": "code",
        "colab": {
          "base_uri": "https://localhost:8080/",
          "height": 412
        },
        "outputId": "7797b399-4c49-4f13-dfb2-fd62c634c817"
      },
      "source": [
        "k_vs_score = []\n",
        "bests_features = None\n",
        "best_score = 99999\n",
        "\n",
        "for k in range(2, Xtrain.shape[1], 2):\n",
        "  selector_model = RandomForestRegressor(random_state=1, n_jobs=-1)\n",
        "  selector = SelectFromModel(selector_model, max_features=k, threshold=-np.inf)\n",
        "  selector.fit(Xtrain, ytrain)\n",
        "  Xtrain2 = selector.transform(Xtrain)\n",
        "  Xval2 = selector.transform(Xval)\n",
        "  # print(Xtrain.shape, Xtrain2.shape)\n",
        "  mdl = XGBRegressor(objective=\"reg:squarederror\", seed=0)\n",
        "  mdl.fit(Xtrain2, ytrain)\n",
        "  p = mdl.predict(Xval2)\n",
        "  score = mean_absolute_error(yval, p)\n",
        "  # print(\"k = {} - MAE = {}\".format(k, score))\n",
        "  k_vs_score.append(score)\n",
        "  if score < best_score:\n",
        "    best_score = score\n",
        "    bests_features = selector.get_support()\n",
        "\n",
        "print(\"Random Forest\")\n",
        "print(\"best k = \", np.sum(bests_features), \"| mae = \", best_score)\n",
        "print(Xtrain.columns[bests_features].values.tolist())\n",
        "\n",
        "pd.Series(k_vs_score[1:],index=range(4,X.shape[1],2)).plot(figsize=(8,5))"
      ],
      "execution_count": null,
      "outputs": [
        {
          "output_type": "stream",
          "text": [
            "Random Forest\n",
            "best k =  98 | mae =  96.24822272023847\n",
            "['START YEAR', 'COMPLETION YEAR', 'COMPLETION QUARTER', 'V-1', 'V-2', 'V-3', 'V-4', 'V-5', 'V-6', 'V-7', 'V-8', 'V-11', 'V-12', 'V-13', 'V-14', 'V-16', 'V-18', 'V-19', 'V-21', 'V-22', 'V-24', 'V-25', 'V-26', 'V-27', 'V-28', 'V-29', 'V-11.1', 'V-12.1', 'V-13.1', 'V-14.1', 'V-15.1', 'V-16.1', 'V-17.1', 'V-18.1', 'V-19.1', 'V-20.1', 'V-23.1', 'V-24.1', 'V-25.1', 'V-26.1', 'V-27.1', 'V-28.1', 'V-29.1', 'V-11.2', 'V-12.2', 'V-13.2', 'V-14.2', 'V-15.2', 'V-16.2', 'V-18.2', 'V-19.2', 'V-20.2', 'V-21.2', 'V-22.2', 'V-23.2', 'V-24.2', 'V-25.2', 'V-26.2', 'V-27.2', 'V-28.2', 'V-29.2', 'V-11.3', 'V-12.3', 'V-14.3', 'V-15.3', 'V-16.3', 'V-17.3', 'V-18.3', 'V-19.3', 'V-20.3', 'V-21.3', 'V-22.3', 'V-23.3', 'V-24.3', 'V-25.3', 'V-26.3', 'V-27.3', 'V-28.3', 'V-29.3', 'V-11.4', 'V-12.4', 'V-13.4', 'V-14.4', 'V-15.4', 'V-16.4', 'V-17.4', 'V-18.4', 'V-19.4', 'V-20.4', 'V-21.4', 'V-22.4', 'V-23.4', 'V-24.4', 'V-25.4', 'V-26.4', 'V-27.4', 'V-28.4', 'V-29.4']\n"
          ],
          "name": "stdout"
        },
        {
          "output_type": "execute_result",
          "data": {
            "text/plain": [
              "<matplotlib.axes._subplots.AxesSubplot at 0x7f137a3f34e0>"
            ]
          },
          "metadata": {
            "tags": []
          },
          "execution_count": 28
        },
        {
          "output_type": "display_data",
          "data": {
            "image/png": "[encoded data removed]",
            "text/plain": [
              "<Figure size 576x360 with 1 Axes>"
            ]
          },
          "metadata": {
            "tags": [],
            "needs_background": "light"
          }
        }
      ]
    },
    {
      "cell_type": "code",
      "metadata": {
        "id": "ag1mRoPRVgHa",
        "colab_type": "code",
        "colab": {
          "base_uri": "https://localhost:8080/",
          "height": 1000
        },
        "outputId": "0ee439df-93ae-454b-ad4b-1abbeb635575"
      },
      "source": [
        "\n",
        "\n",
        "k_vs_score = []\n",
        "\n",
        "accumulate = \n",
        "\n",
        "for k in range(2, Xtrain.shape[1], 2):\n",
        "  #selector_model = LinearRegression(normalize=True)\n",
        "  #selector_model = Ridge(alpha=0.1, normalize=True)\n",
        "  selector_model = Lasso(alpha=1.,normalize=True)\n",
        "  #selector_model = RandomForestRegressor(random_state=1, n_jobs=-1)\n",
        "  selector = SelectFromModel(selector_model, max_features=k, threshold=-np.inf)\n",
        "\n",
        "  selector.fit(Xtrain, ytrain)\n",
        "\n",
        "  #Xtrain2 = np.zeros((Xtrain.shape[0], 7))\n",
        "  Xtrain2 = selector.transform(Xtrain)\n",
        "  #Xtrain2[:, -1] = Xtrain['START YEAR'].values\n",
        "\n",
        "  #Xval2 = np.zeros((Xval.shape[0], 7))\n",
        "  Xval2 = selector.transform(Xval)\n",
        "  #Xval2[:, -1] = Xval['START YEAR'].values\n",
        "\n",
        "  print(Xtrain.shape, Xtrain2.shape)\n",
        "\n",
        "  #Xtrain.columns[selector.get_support()]\n",
        "\n",
        "  #mdl = RandomForestRegressor(n_estimators=1000, random_state=0, n_jobs=-1)\n",
        "  mdl = XGBRegressor(objective=\"reg:squarederror\", seed=0)\n",
        "  mdl.fit(Xtrain2, ytrain)\n",
        "\n",
        "  p = mdl.predict(Xval2)\n",
        "\n",
        "  score = mean_absolute_error(yval, p)\n",
        "  print(\"k = {} - MAE = {}\".format(k, score))\n",
        "\n",
        "\n",
        "  mask = selector.get_support()\n",
        "  #print(Xtrain.columns[mask])\n",
        "\n",
        "  k_vs_score.append(score)\n",
        "  #break\n",
        "\n",
        "# LinearRegression: k = 100, mae = 100\n",
        "# Ridge : k =14 , mae = 100.5\n",
        "# Lasso k = 6, mae = 96.07 - ['COMPLETION QUARTER', 'V-1', 'V-7', 'V-8', 'V-17.3', 'V-20.4']\n",
        "# k = 4, mae 94.78\n",
        "# rf - k=8 - Index(['V-1', 'V-5', 'V-7', 'V-8', 'V-11', 'V-14', 'V-14.1', 'V-11.2']\n",
        "#"
      ],
      "execution_count": null,
      "outputs": [
        {
          "output_type": "stream",
          "text": [
            "(186, 107) (186, 2)\n",
            "k = 2 - MAE = 806.2421225270917\n",
            "(186, 107) (186, 4)\n",
            "k = 4 - MAE = 634.6845313451623\n",
            "(186, 107) (186, 6)\n",
            "k = 6 - MAE = 85.90433604742891\n",
            "(186, 107) (186, 8)\n",
            "k = 8 - MAE = 87.46077580605784\n",
            "(186, 107) (186, 10)\n",
            "k = 10 - MAE = 89.54654734621766\n",
            "(186, 107) (186, 12)\n",
            "k = 12 - MAE = 93.85027821858723\n",
            "(186, 107) (186, 14)\n",
            "k = 14 - MAE = 93.37699545583418\n",
            "(186, 107) (186, 16)\n",
            "k = 16 - MAE = 95.3654069797967\n",
            "(186, 107) (186, 18)\n",
            "k = 18 - MAE = 94.89478999312206\n",
            "(186, 107) (186, 20)\n",
            "k = 20 - MAE = 96.3717780164493\n",
            "(186, 107) (186, 22)\n",
            "k = 22 - MAE = 90.85807792089318\n",
            "(186, 107) (186, 24)\n",
            "k = 24 - MAE = 93.5140742230159\n",
            "(186, 107) (186, 26)\n",
            "k = 26 - MAE = 92.6986841181273\n",
            "(186, 107) (186, 28)\n",
            "k = 28 - MAE = 90.60947085965064\n",
            "(186, 107) (186, 30)\n",
            "k = 30 - MAE = 91.92900233114919\n",
            "(186, 107) (186, 32)\n",
            "k = 32 - MAE = 91.86852371051748\n",
            "(186, 107) (186, 34)\n",
            "k = 34 - MAE = 91.91730679747879\n",
            "(186, 107) (186, 36)\n",
            "k = 36 - MAE = 92.02566265803512\n",
            "(186, 107) (186, 38)\n",
            "k = 38 - MAE = 92.02566265803512\n",
            "(186, 107) (186, 40)\n",
            "k = 40 - MAE = 91.69979423604985\n",
            "(186, 107) (186, 42)\n",
            "k = 42 - MAE = 92.90299717072517\n",
            "(186, 107) (186, 44)\n",
            "k = 44 - MAE = 92.90299717072517\n",
            "(186, 107) (186, 46)\n",
            "k = 46 - MAE = 92.84959120391518\n",
            "(186, 107) (186, 48)\n",
            "k = 48 - MAE = 93.38546970326414\n",
            "(186, 107) (186, 50)\n",
            "k = 50 - MAE = 90.11073254000756\n",
            "(186, 107) (186, 52)\n",
            "k = 52 - MAE = 89.92419068531323\n",
            "(186, 107) (186, 54)\n",
            "k = 54 - MAE = 90.21228531868228\n",
            "(186, 107) (186, 56)\n",
            "k = 56 - MAE = 90.21228531868228\n",
            "(186, 107) (186, 58)\n",
            "k = 58 - MAE = 90.13773448492891\n",
            "(186, 107) (186, 60)\n",
            "k = 60 - MAE = 91.54472798173146\n",
            "(186, 107) (186, 62)\n",
            "k = 62 - MAE = 90.98449879307901\n",
            "(186, 107) (186, 64)\n",
            "k = 64 - MAE = 90.98449879307901\n",
            "(186, 107) (186, 66)\n",
            "k = 66 - MAE = 91.0518908346853\n",
            "(186, 107) (186, 68)\n",
            "k = 68 - MAE = 89.78430220901325\n",
            "(186, 107) (186, 70)\n",
            "k = 70 - MAE = 89.78430220901325\n",
            "(186, 107) (186, 72)\n",
            "k = 72 - MAE = 89.9032487766717\n",
            "(186, 107) (186, 74)\n",
            "k = 74 - MAE = 94.96600202334824\n",
            "(186, 107) (186, 76)\n",
            "k = 76 - MAE = 94.60476245675035\n",
            "(186, 107) (186, 78)\n",
            "k = 78 - MAE = 100.731931460801\n",
            "(186, 107) (186, 80)\n",
            "k = 80 - MAE = 101.15841666601037\n",
            "(186, 107) (186, 82)\n",
            "k = 82 - MAE = 100.88484930223034\n",
            "(186, 107) (186, 84)\n",
            "k = 84 - MAE = 100.88484930223034\n",
            "(186, 107) (186, 86)\n",
            "k = 86 - MAE = 100.88484930223034\n",
            "(186, 107) (186, 88)\n",
            "k = 88 - MAE = 100.88484930223034\n",
            "(186, 107) (186, 90)\n",
            "k = 90 - MAE = 101.09221969112274\n",
            "(186, 107) (186, 92)\n",
            "k = 92 - MAE = 99.46195819813718\n",
            "(186, 107) (186, 94)\n",
            "k = 94 - MAE = 99.29701093448105\n",
            "(186, 107) (186, 96)\n",
            "k = 96 - MAE = 99.25923189552881\n",
            "(186, 107) (186, 98)\n",
            "k = 98 - MAE = 99.8337907688592\n",
            "(186, 107) (186, 100)\n",
            "k = 100 - MAE = 99.8337907688592\n",
            "(186, 107) (186, 102)\n",
            "k = 102 - MAE = 99.8337907688592\n",
            "(186, 107) (186, 104)\n",
            "k = 104 - MAE = 99.8337907688592\n",
            "(186, 107) (186, 106)\n",
            "k = 106 - MAE = 96.0691783864011\n"
          ],
          "name": "stdout"
        }
      ]
    },
    {
      "cell_type": "code",
      "metadata": {
        "id": "6b3osHlpbaoM",
        "colab_type": "code",
        "colab": {
          "base_uri": "https://localhost:8080/",
          "height": 445
        },
        "outputId": "635f4ea8-1231-4831-94af-8f3c83bc91ab"
      },
      "source": [
        "pd.Series(k_vs_score[1:],index=range(4,X.shape[1],2)).plot(figsize=(10,7))"
      ],
      "execution_count": null,
      "outputs": [
        {
          "output_type": "execute_result",
          "data": {
            "text/plain": [
              "<matplotlib.axes._subplots.AxesSubplot at 0x7fa855ad8b38>"
            ]
          },
          "metadata": {
            "tags": []
          },
          "execution_count": 22
        },
        {
          "output_type": "display_data",
          "data": {
            "image/png": "[encoded data removed]",
            "text/plain": [
              "<Figure size 720x504 with 1 Axes>"
            ]
          },
          "metadata": {
            "tags": [],
            "needs_background": "light"
          }
        }
      ]
    },
    {
      "cell_type": "markdown",
      "metadata": {
        "id": "8a81JPikRiW6",
        "colab_type": "text"
      },
      "source": [
        "## Busca de `Features` por Monte-Carlo (Testando features aleartórias)\n",
        "\n",
        "Vamos selecionar de 2 à 20 feautes aleartórias e vê quais que atingiram um MAE < 86"
      ]
    },
    {
      "cell_type": "code",
      "metadata": {
        "id": "jrSNZ6kNf4Cp",
        "colab_type": "code",
        "colab": {
          "base_uri": "https://localhost:8080/",
          "height": 89
        },
        "outputId": "63f1e8d8-ba21-4937-8e37-d495ee02fad9"
      },
      "source": [
        "from sklearn.feature_selection import SelectFromModel\n",
        "from sklearn.metrics import mean_absolute_error\n",
        "\n",
        "from sklearn.linear_model import LinearRegression, Ridge, Lasso\n",
        "from sklearn.ensemble import RandomForestRegressor\n",
        "from xgboost import XGBRegressor\n",
        "\n",
        "\n",
        "fs = []\n",
        "for seed in range(1000):\n",
        "\n",
        "  np.random.seed(seed)\n",
        "  k = np.random.randint(2, 20, 1)[0]\n",
        "  selected = np.random.choice(Xtrain.columns, k, replace=False)\n",
        "  #print(selected)\n",
        "  \n",
        "  Xtrain2 = Xtrain[selected]\n",
        "  Xval2 = Xval[selected]\n",
        "  \n",
        "  mdl = XGBRegressor(objective=\"reg:squarederror\", seed=0)\n",
        "  mdl.fit(Xtrain2, ytrain)\n",
        "\n",
        "  p = mdl.predict(Xval2)\n",
        "\n",
        "  score = mean_absolute_error(yval, p)\n",
        "  if score < 86:\n",
        "    print(\"seed = {} - k = {} - MAE = {}\".format(seed, k, score))\n",
        "    fs.append(p)\n",
        "\n",
        "\n",
        "# k = 6, MAE = 85.904336\n",
        "#seed = 54 - MAE = 78.62763148482128"
      ],
      "execution_count": null,
      "outputs": [
        {
          "output_type": "stream",
          "text": [
            "seed = 222 - k = 8 - MAE = 79.29005563387307\n",
            "seed = 298 - k = 14 - MAE = 84.73681025351247\n",
            "seed = 558 - k = 11 - MAE = 83.52879317088794\n",
            "seed = 623 - k = 16 - MAE = 78.78835075132308\n"
          ],
          "name": "stdout"
        }
      ]
    }
  ]
}